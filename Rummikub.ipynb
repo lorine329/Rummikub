{
 "cells": [
  {
   "cell_type": "code",
   "execution_count": 5,
   "id": "4abf01f8",
   "metadata": {},
   "outputs": [],
   "source": [
    "import gurobipy as gb\n",
    "from gurobipy import *\n",
    "import numpy as np"
   ]
  },
  {
   "cell_type": "markdown",
   "id": "ee5338b3",
   "metadata": {},
   "source": [
    "# Rummikub"
   ]
  },
  {
   "cell_type": "markdown",
   "id": "f4a1a3d4",
   "metadata": {},
   "source": [
    "Rummikub is a game that combines elements of classic card games like Rummy with the strategy of tile placement. The game is played with a set of 106 tiles, with numbers ranging from 1 to 13 in four different colors (red, blue, yellow, and black). Additionally, there are two joker tiles in the set. The game is typically played by 2 to 4 players and revolves around the strategic placement and manipulation of numbered tiles. The objective of Rummikub is to be the first player to empty your rack of tiles by forming sets and runs of matching numbers. Sets consist of three or four tiles of the same number but different colors. For example, you could have a set of 3s with one red, one blue, and one black. Runs are sequences of at least three consecutive numbers of the same color. For instance, you could have a run of 4, 5, 6 in blue. The game continues until one player goes out, at which point they gain opponents' tile values, while others receive penalties determined by the remaining tiles in their racks."
   ]
  },
  {
   "cell_type": "markdown",
   "id": "fe655dc8",
   "metadata": {},
   "source": [
    "In this project, our primary objective is to address Rummikub challenges through the application of integer linear programming. Initially, we plan to focus on a two-player scenario, with the potential to expand to a four-player format if time permits. Also, if time allows, our ultimate goal is to develop an interactive online Rummikub board game, providing users with a platform for engaging gameplay."
   ]
  },
  {
   "cell_type": "markdown",
   "id": "e1d18db0",
   "metadata": {},
   "source": [
    "## Set up\n",
    "$2*4*13 + joker*2$"
   ]
  },
  {
   "cell_type": "code",
   "execution_count": 6,
   "id": "df52f7f3",
   "metadata": {},
   "outputs": [],
   "source": [
    "Deck = {\"Black\": [\"1\", \"1\", \"2\", \"2\", \"3\", \"3\", \"4\", \"4\", \"5\", \"5\", \"6\", \"6\", \n",
    "                  \"7\", \"7\", \"8\", \"8\", \"9\", \"9\", \"10\", \"10\", \"11\", \"11\", \"12\", \"12\", \"13\", \"13\"], \n",
    "        \"Red\": [\"1\", \"1\", \"2\", \"2\", \"3\", \"3\", \"4\", \"4\", \"5\", \"5\", \"6\", \"6\", \n",
    "                  \"7\", \"7\", \"8\", \"8\", \"9\", \"9\", \"10\", \"10\", \"11\", \"11\", \"12\", \"12\", \"13\", \"13\"], \n",
    "        \"Blue\": [\"1\", \"1\", \"2\", \"2\", \"3\", \"3\", \"4\", \"4\", \"5\", \"5\", \"6\", \"6\", \n",
    "                  \"7\", \"7\", \"8\", \"8\", \"9\", \"9\", \"10\", \"10\", \"11\", \"11\", \"12\", \"12\", \"13\", \"13\"], \n",
    "        \"Orange\": [\"1\", \"1\", \"2\", \"2\", \"3\", \"3\", \"4\", \"4\", \"5\", \"5\", \"6\", \"6\", \n",
    "                  \"7\", \"7\", \"8\", \"8\", \"9\", \"9\", \"10\", \"10\", \"11\", \"11\", \"12\", \"12\", \"13\", \"13\"], \n",
    "        \"Joker\": [\"J1\", \"J2\"]}"
   ]
  },
  {
   "cell_type": "code",
   "execution_count": 7,
   "id": "d0757517",
   "metadata": {},
   "outputs": [],
   "source": [
    "Penalty = {\"1\": 1, \"2\":2, \"3\":3, \"4\":4, \"5\":5, \"6\":6, \"7\":7, \"8\":8, \"9\": 9, \"10\":10, \"11\":11, \"12\":12, \n",
    "           \"13\":13, \"Joker\": 30}"
   ]
  },
  {
   "cell_type": "code",
   "execution_count": 8,
   "id": "f5bb6058",
   "metadata": {},
   "outputs": [],
   "source": [
    "Value = [1, 1, 2, 2, 3, 3, 4, 4, 5, 5, 6, 6, 7, 7, 8, 8, 9, 9, 10, 10, 11, 11, 12, 12, 13, 13]\n",
    "Value_matrix = Value * 4"
   ]
  },
  {
   "cell_type": "code",
   "execution_count": 9,
   "id": "354b3464",
   "metadata": {},
   "outputs": [
    {
     "name": "stdout",
     "output_type": "stream",
     "text": [
      "Set parameter Username\n",
      "Academic license - for non-commercial use only - expires 2024-08-30\n"
     ]
    }
   ],
   "source": [
    "model = gb.Model(\"Rummikub\")"
   ]
  },
  {
   "cell_type": "code",
   "execution_count": 10,
   "metadata": {},
   "outputs": [],
   "source": [
    "Deck_types = [\"Black1\", \"Black2\", \"Red1\", \"Red2\", \"Blue1\", \"Blue2\", \"Orange1\", \"Orange2\"]\n",
    "# Deck_types = [\"Black\", \"Red\", \"Orange\", \"Blue\"]\n",
    "Deck_values = [1, 2, 3, 4, 5, 6, 7, 8, 9, 10, 11, 12, 13]\n",
    "Joker = [\"Joker\"]\n",
    "Joker_values = [\"J1\", \"J2\"]"
   ]
  },
  {
   "cell_type": "code",
   "execution_count": 67,
   "metadata": {},
   "outputs": [],
   "source": [
    "# I = len(Value_matrix)\n",
    "J = 1173"
   ]
  },
  {
   "cell_type": "markdown",
   "metadata": {},
   "source": [
    "#### All Possible Sets"
   ]
  },
  {
   "cell_type": "code",
   "execution_count": 18,
   "metadata": {},
   "outputs": [],
   "source": [
    "# Adjusting the setup to consider only the deck color\n",
    "Deck_colors = [\"Black\", \"Red\", \"Blue\", \"Orange\"]\n",
    "\n",
    "# Generating all possible sets with three consecutive numbers\n",
    "# and represent each card in the set using Deck_color and Deck_values\n",
    "three_consecutive_set_no_joker = []\n",
    "\n",
    "for value in Deck_values[:-2]:  # Iterate through the values, stopping two before the end\n",
    "    for color in Deck_colors:\n",
    "        # Create a set of three consecutive cards of the same color\n",
    "        consecutive_set = [(color, value), (color, value + 1), (color, value + 2)]\n",
    "        three_consecutive_set_no_joker.append(consecutive_set)\n"
   ]
  },
  {
   "cell_type": "code",
   "execution_count": 19,
   "metadata": {},
   "outputs": [],
   "source": [
    "# Adjusting the setup to include one Joker in each set\n",
    "# The Joker can replace any one of the three cards in the set\n",
    "\n",
    "three_consecutive_set_one_joker = []\n",
    "# Iterate through each color and value, creating sets with one Joker\n",
    "for color in Deck_colors:\n",
    "    for value in Deck_values[:-2]:  # Iterate through the values, stopping two before the end\n",
    "        # For each set of three consecutive values, create three sets, each with one Joker\n",
    "        if value == 1:\n",
    "            for i in range(3):\n",
    "                consecutive_set_one_joker = [(color, value), (color, value + 1), (color, value + 2)]\n",
    "                consecutive_set_one_joker[i] = \"Joker\"  # Replace one card with a Joker\n",
    "                three_consecutive_set_one_joker.append(consecutive_set_one_joker)\n",
    "        else:\n",
    "            for i in range(2):\n",
    "                consecutive_set_one_joker = [(color, value), (color, value + 1), (color, value + 2)]\n",
    "                consecutive_set_one_joker[i] = \"Joker\"  # Replace one card with a Joker\n",
    "                three_consecutive_set_one_joker.append(consecutive_set_one_joker)\n"
   ]
  },
  {
   "cell_type": "code",
   "execution_count": 20,
   "metadata": {},
   "outputs": [],
   "source": [
    "# Adjusting the setup to include exactly two Jokers in each set\n",
    "# Each set will now consist of one card from the deck and two Jokers\n",
    "\n",
    "# Generating all possible sets with one card from the deck and two Jokers\n",
    "three_consecutive_sets_with_two_jokers = []\n",
    "\n",
    "for color in Deck_colors:\n",
    "    for value in Deck_values:  # Iterate through all values\n",
    "        # Create a set with one card from the deck and two Jokers\n",
    "        set_with_two_jokers = [(color, value), \"Joker\", \"Joker\"]\n",
    "        three_consecutive_sets_with_two_jokers.append(set_with_two_jokers)"
   ]
  },
  {
   "cell_type": "code",
   "execution_count": 21,
   "metadata": {},
   "outputs": [],
   "source": [
    "# Generating sets with four consecutive numbers, same color, and without Joker\n",
    "\n",
    "four_consecutive_sets_no_joker = []\n",
    "\n",
    "for color in Deck_colors:\n",
    "    for value in Deck_values[:-3]:  # Iterate through values, stopping three before the end\n",
    "        # Create a set of four consecutive cards of the same color\n",
    "        consecutive_set = [(color, value), (color, value + 1), (color, value + 2), (color, value + 3)]\n",
    "        four_consecutive_sets_no_joker.append(consecutive_set)"
   ]
  },
  {
   "cell_type": "code",
   "execution_count": 22,
   "metadata": {},
   "outputs": [],
   "source": [
    "four_consecutive_sets_one_joker = []\n",
    "\n",
    "for color in Deck_colors:\n",
    "    for value in Deck_values[:-3]:  # Iterate through values, stopping three before the end\n",
    "        # Create a set of four consecutive cards of the same color\n",
    "        if value == 1:\n",
    "            for i in range(4):\n",
    "                consecutive_set = [(color, value), (color, value + 1), (color, value + 2), (color, value + 3)]\n",
    "                consecutive_set[i] = \"Joker\"\n",
    "                four_consecutive_sets_one_joker.append(consecutive_set)\n",
    "        else:\n",
    "            for i in range(3):\n",
    "                consecutive_set = [(color, value), (color, value + 1), (color, value + 2), (color, value + 3)]\n",
    "                consecutive_set[i] = \"Joker\"\n",
    "                four_consecutive_sets_one_joker.append(consecutive_set)"
   ]
  },
  {
   "cell_type": "code",
   "execution_count": 23,
   "metadata": {},
   "outputs": [],
   "source": [
    "four_consecutive_sets_two_joker = []\n",
    "\n",
    "for color in Deck_colors:\n",
    "    for value in Deck_values[:-3]:  # Iterate through values, stopping three before the end\n",
    "        # Create a set of four consecutive cards of the same color\n",
    "        if value == 1:\n",
    "            for i in range(3):\n",
    "                for j in range(i+1, 4):\n",
    "                    consecutive_set = [(color, value), (color, value + 1), (color, value + 2), (color, value + 3)]\n",
    "                    consecutive_set[i] = \"Joker\"\n",
    "                    consecutive_set[j] = \"Joker\"\n",
    "                    four_consecutive_sets_two_joker.append(consecutive_set)\n",
    "        else:\n",
    "            for i in range(2):\n",
    "                for j in range(i+1, 3):\n",
    "                    consecutive_set = [(color, value), (color, value + 1), (color, value + 2), (color, value + 3)]\n",
    "                    consecutive_set[i] = \"Joker\"\n",
    "                    consecutive_set[j] = \"Joker\"\n",
    "                    four_consecutive_sets_two_joker.append(consecutive_set)"
   ]
  },
  {
   "cell_type": "code",
   "execution_count": 24,
   "metadata": {},
   "outputs": [],
   "source": [
    "# Generating sets with five consecutive numbers, same color, and without Joker\n",
    "\n",
    "five_consecutive_sets_no_joker = []\n",
    "\n",
    "for color in Deck_colors:\n",
    "    for value in Deck_values[:-4]:  # Iterate through values, stopping four before the end\n",
    "        # Create a set of five consecutive cards of the same color\n",
    "        consecutive_set = [(color, value), (color, value + 1), (color, value + 2), (color, value + 3), (color, value + 4)]\n",
    "        five_consecutive_sets_no_joker.append(consecutive_set)"
   ]
  },
  {
   "cell_type": "code",
   "execution_count": 25,
   "metadata": {},
   "outputs": [],
   "source": [
    "# Generating sets with five consecutive numbers, same color, and 1 Joker\n",
    "\n",
    "five_consecutive_sets_one_joker = []\n",
    "\n",
    "for color in Deck_colors:\n",
    "    for value in Deck_values[:-4]:  # Iterate through values, stopping four before the end\n",
    "        # Create a set of five consecutive cards of the same color\n",
    "        if value == 1:\n",
    "            for i in range(5):\n",
    "                consecutive_set = [(color, value), (color, value + 1), (color, value + 2), (color, value + 3), (color, value + 4)]\n",
    "                consecutive_set[i] = \"Joker\"\n",
    "                five_consecutive_sets_one_joker.append(consecutive_set)\n",
    "        else:\n",
    "            for i in range(4):\n",
    "                consecutive_set = [(color, value), (color, value + 1), (color, value + 2), (color, value + 3), (color, value + 4)]\n",
    "                consecutive_set[i] = \"Joker\"\n",
    "                five_consecutive_sets_one_joker.append(consecutive_set)"
   ]
  },
  {
   "cell_type": "code",
   "execution_count": 26,
   "metadata": {},
   "outputs": [],
   "source": [
    "# Generating sets with five consecutive numbers, same color, and 2 Joker\n",
    "\n",
    "five_consecutive_sets_two_joker = []\n",
    "\n",
    "for color in Deck_colors:\n",
    "    for value in Deck_values[:-4]:  # Iterate through values, stopping four before the end\n",
    "        # Create a set of five consecutive cards of the same color\n",
    "        if value == 1:\n",
    "            for i in range(4):\n",
    "                for j in range(i+1, 5):\n",
    "                    consecutive_set = [(color, value), (color, value + 1), (color, value + 2), (color, value + 3), (color, value + 4)]\n",
    "                    consecutive_set[i] = \"Joker\"\n",
    "                    consecutive_set[j] = \"Joker\"\n",
    "                    five_consecutive_sets_two_joker.append(consecutive_set)\n",
    "        else:\n",
    "            for i in range(3):\n",
    "                for j in range(i+1, 4):\n",
    "                    consecutive_set = [(color, value), (color, value + 1), (color, value + 2), (color, value + 3), (color, value + 4)]\n",
    "                    consecutive_set[i] = \"Joker\"\n",
    "                    consecutive_set[j] = \"Joker\"\n",
    "                    five_consecutive_sets_two_joker.append(consecutive_set)"
   ]
  },
  {
   "cell_type": "code",
   "execution_count": 27,
   "metadata": {},
   "outputs": [],
   "source": [
    "# Generating sets of three cards, each from a different color, without Jokers, and all cards having the same value\n",
    "\n",
    "three_cards_different_colors_same_value = []\n",
    "\n",
    "for value in Deck_values:\n",
    "    # Iterate through combinations of three different colors\n",
    "    for i in range(len(Deck_colors)):\n",
    "        for j in range(i + 1, len(Deck_colors)):\n",
    "            for k in range(j + 1, len(Deck_colors)):\n",
    "                # Create a set with one card from each of the three different colors, all with the same value\n",
    "                set_of_three = [(Deck_colors[i], value), (Deck_colors[j], value), (Deck_colors[k], value)]\n",
    "                three_cards_different_colors_same_value.append(set_of_three)"
   ]
  },
  {
   "cell_type": "code",
   "execution_count": 28,
   "metadata": {},
   "outputs": [],
   "source": [
    "# Generating sets of three cards, each from a different color, 1 Jokers, and all cards having the same value\n",
    "\n",
    "three_cards_different_colors_1_joker = []\n",
    "\n",
    "for value in Deck_values:\n",
    "    # Iterate through combinations of three different colors\n",
    "    for i in range(len(Deck_colors)):\n",
    "        for j in range(i + 1, len(Deck_colors)):\n",
    "            # Create a set with one card from each of the three different colors, all with the same value\n",
    "            set_of_three = [(Deck_colors[i], value), (Deck_colors[j], value), \"Joker\"]\n",
    "            three_cards_different_colors_1_joker.append(set_of_three)"
   ]
  },
  {
   "cell_type": "code",
   "execution_count": 29,
   "metadata": {},
   "outputs": [],
   "source": [
    "four_cards_different_colors_same_value = []\n",
    "\n",
    "for value in Deck_values:\n",
    "    # Iterate through combinations of three different colors\n",
    "    set_of_four = [(Deck_colors[0], value), (Deck_colors[1], value), (Deck_colors[2], value), (Deck_colors[3], value)]\n",
    "    four_cards_different_colors_same_value.append(set_of_four)"
   ]
  },
  {
   "cell_type": "code",
   "execution_count": 30,
   "metadata": {},
   "outputs": [],
   "source": [
    "# Generating sets of four cards, each from a different color, 1 Jokers, and all cards having the same value\n",
    "\n",
    "four_cards_different_colors_1_joker = []\n",
    "\n",
    "for value in Deck_values:\n",
    "    # Iterate through combinations of three different colors\n",
    "    for i in range(len(Deck_colors)):\n",
    "        for j in range(i + 1, len(Deck_colors)):\n",
    "            for k in range(j + 1, len(Deck_colors)):\n",
    "                # Create a set with one card from each of the three different colors, all with the same value\n",
    "                set_of_four = [(Deck_colors[i], value), (Deck_colors[j], value), (Deck_colors[k], value), \"Joker\"]\n",
    "                four_cards_different_colors_1_joker.append(set_of_four)"
   ]
  },
  {
   "cell_type": "code",
   "execution_count": 31,
   "metadata": {},
   "outputs": [],
   "source": [
    "# Generating sets of four cards, each from a different color, 2 Jokers, and all cards having the same value\n",
    "\n",
    "four_cards_different_colors_2_joker = []\n",
    "\n",
    "for value in Deck_values:\n",
    "    # Iterate through combinations of three different colors\n",
    "    for i in range(len(Deck_colors)):\n",
    "        for j in range(i + 1, len(Deck_colors)):\n",
    "            # Create a set with one card from each of the three different colors, all with the same value\n",
    "            set_of_four = [(Deck_colors[i], value), (Deck_colors[j], value), \"Joker\", \"Joker\"]\n",
    "            four_cards_different_colors_2_joker.append(set_of_four)"
   ]
  },
  {
   "cell_type": "code",
   "execution_count": 32,
   "metadata": {},
   "outputs": [],
   "source": [
    "three_consecutives = three_consecutive_set_no_joker + three_consecutive_set_one_joker + three_consecutive_sets_with_two_jokers\n",
    "four_consecutives = four_consecutive_sets_no_joker + four_consecutive_sets_one_joker + four_consecutive_sets_two_joker\n",
    "five_consecutives = five_consecutive_sets_no_joker + five_consecutive_sets_one_joker + five_consecutive_sets_two_joker\n",
    "three_same = three_cards_different_colors_same_value + three_cards_different_colors_1_joker\n",
    "four_same = four_cards_different_colors_same_value + four_cards_different_colors_1_joker + four_cards_different_colors_2_joker\n",
    "all_sets = three_consecutives + four_consecutives + five_consecutives + three_same + four_same"
   ]
  },
  {
   "cell_type": "code",
   "execution_count": 33,
   "metadata": {},
   "outputs": [
    {
     "data": {
      "text/plain": [
       "1173"
      ]
     },
     "execution_count": 33,
     "metadata": {},
     "output_type": "execute_result"
    }
   ],
   "source": [
    "len(all_sets)"
   ]
  },
  {
   "cell_type": "markdown",
   "id": "770ed55a",
   "metadata": {},
   "source": [
    "## Decision variables"
   ]
  },
  {
   "cell_type": "code",
   "execution_count": 12,
   "metadata": {},
   "outputs": [],
   "source": [
    "S_reg = model.addVars(Deck_types, Deck_values, J, vtype = GRB.BINARY, \n",
    "                  name = [\"tile \"+ dt + \" \" + str(dv) + \" is in set \" + str(j+1) \n",
    "                          for dt in Deck_types for dv in Deck_values for j in range(J)])\n",
    "S_jok = model.addVars(Joker, Joker_values, J, vtype = GRB.BINARY, \n",
    "                      name = [\"tile Joker \" + dv + \" is in set \" + str(j+1) \n",
    "                              for dt in Joker for dv in Joker_values for j in range(J)])"
   ]
  },
  {
   "cell_type": "code",
   "execution_count": 13,
   "metadata": {},
   "outputs": [],
   "source": [
    "T_reg = model.addVars(Deck_types, Deck_values, lb = 0, ub = 2, vtype = GRB.INTEGER, \n",
    "                  name = [\"times of tile \" + dt + \" \" + str(dv) + \" on the table\" for dt in Deck_types for dv in Deck_values])\n",
    "T_jok = model.addVars(Joker, Joker_values, lb = 0, ub = 2, vtype = GRB.INTEGER, \n",
    "                  name = [\"times of tile Joker \" + dv + \"on the table\" for dt in Joker for dv in Joker_values])"
   ]
  },
  {
   "cell_type": "code",
   "execution_count": 14,
   "metadata": {},
   "outputs": [],
   "source": [
    "R_reg = model.addVars(Deck_types, Deck_values, lb = 0, ub = 2, vtype = GRB.INTEGER, \n",
    "                   name = [\"times of tile \" + dt + \" \" + str(dv) +\" on your rack\" for dt in Deck_types for dv in Deck_values])\n",
    "R_jok = model.addVars(Joker, Joker_values, lb = 0, ub = 2, vtype = GRB.INTEGER, \n",
    "                  name = [\"times of tile Joker\" + dv +\"on your rack\" for dt in Joker for dv in Joker_values])"
   ]
  },
  {
   "cell_type": "code",
   "execution_count": 16,
   "id": "04fc7cc6",
   "metadata": {},
   "outputs": [],
   "source": [
    "Y_reg = model.addVars(Deck_types, Deck_values, lb = 0, ub = 2, vtype = GRB.INTEGER, \n",
    "                  name = [\"times of tile \"+ dt + \" \" + str(dv) +\" can be placed from your rack onto the table\" \n",
    "                          for dt in Deck_types for dv in Deck_values])\n",
    "Y_jok = model.addVars(Joker, Joker_values, lb = 0, ub = 2, vtype = GRB.INTEGER, \n",
    "                  name = [\"times of tile Joker \" + dv +\" can be placed from your rack onto the table\" \n",
    "                          for dt in Joker for dv in Joker_values])"
   ]
  },
  {
   "cell_type": "code",
   "execution_count": 72,
   "metadata": {},
   "outputs": [],
   "source": [
    "X = model.addVars(J, lb = 0, ub = 2, vtype = GRB.INTEGER, \n",
    "                  name = [\"times of set \"+str(all_sets[j])+\" can be placed onto the table\" for j in range(J)])"
   ]
  },
  {
   "cell_type": "code",
   "execution_count": 17,
   "metadata": {},
   "outputs": [],
   "source": [
    "# W = model.addVars(J, lb = 0, ub = 2, vtype = GRB.INTEGER, \n",
    "#                   name = [\"times of set \"+str(j+1)+\" on the table\" for j in range(J)])\n",
    "# M = 40\n",
    "# Z = model.addVars(J, lb = 0, ub = 2, vtype = GRB.INTEGER, \n",
    "#                   name = [\"times of set \"+str(j+1)+\" occurs in the old and in the new solution\" for j in range(J)])"
   ]
  },
  {
   "cell_type": "markdown",
   "id": "564ff9da",
   "metadata": {},
   "source": [
    "## Objective function"
   ]
  },
  {
   "cell_type": "code",
   "execution_count": 34,
   "id": "dd14f8bf",
   "metadata": {},
   "outputs": [],
   "source": [
    "# model.setObjective(quicksum(Value[i] * Y[i] for i in range(I)) + 1/M * quicksum(Z[j] for j in range(J)), GRB.MAXIMIZE)\n",
    "exp1 = quicksum(Value[value-1] * Y_reg[types, value] for types in Deck_types for value in Deck_values)\n",
    "exp2 = quicksum(Y_jok) * 30\n",
    "model.setObjective(exp1 + exp2, GRB.MAXIMIZE)"
   ]
  },
  {
   "cell_type": "markdown",
   "id": "caae869e",
   "metadata": {},
   "source": [
    "## Constraints"
   ]
  },
  {
   "cell_type": "code",
   "execution_count": 35,
   "id": "e39df400",
   "metadata": {},
   "outputs": [],
   "source": [
    "# how many times a tile is on the table\n",
    "model.addConstrs(quicksum(S_reg[types, value, j] * X[j] for j in range(J)) == T_reg[types, value] + Y_reg[types, value] \n",
    "                 for types in Deck_types for value in Deck_values)\n",
    "model.addConstr(quicksum(quicksum(S_jok) * X[j] for j in range(J)) == quicksum(T_jok) + quicksum(Y_jok))\n",
    "#model.addConstrs(quicksum(S[i, j]*X[j] for j in range(J)) == T[i] + Y[i] for i in range(I))\n",
    "model.update()"
   ]
  },
  {
   "cell_type": "code",
   "execution_count": 36,
   "id": "b082268f",
   "metadata": {},
   "outputs": [
    {
     "data": {
      "text/plain": [
       "{'J1': <gurobi.Constr *Awaiting Model Update*>,\n",
       " 'J2': <gurobi.Constr *Awaiting Model Update*>}"
      ]
     },
     "execution_count": 36,
     "metadata": {},
     "output_type": "execute_result"
    }
   ],
   "source": [
    "# number of times on the rack <= number of times moved from rack to table\n",
    "model.addConstrs(Y_reg[dt, dv] <= R_reg[dt, dv] for dt in Deck_types for dv in Deck_values)\n",
    "model.addConstrs(Y_jok[\"Joker\", dv] <= R_jok[\"Joker\", dv] for dv in Joker_values)"
   ]
  },
  {
   "cell_type": "code",
   "execution_count": 39,
   "metadata": {},
   "outputs": [],
   "source": [
    "# number of times a set in a solution <= number of times a set being placed on the table\n",
    "# model.addConstrs(Z[j] <= X[j] for j in range(J))\n",
    "# number of times a set in a solution <= number of times a set on the table\n",
    "# model.addConstrs(Z[j] <= W[j] for j in range(J))"
   ]
  },
  {
   "cell_type": "code",
   "execution_count": 52,
   "metadata": {},
   "outputs": [
    {
     "data": {
      "text/plain": [
       "41"
      ]
     },
     "execution_count": 52,
     "metadata": {},
     "output_type": "execute_result"
    }
   ],
   "source": [
    "all_sets.index([('Red', 11), ('Red', 12), ('Red', 13)])"
   ]
  },
  {
   "cell_type": "code",
   "execution_count": 78,
   "metadata": {},
   "outputs": [],
   "source": [
    "model.addConstr(S_reg[\"Black1\", 1, 188] == 1) # tiles in set\n",
    "model.addConstr(T_reg[\"Black1\", 1] == T_reg[\"Black1\", 1] + 1) # times of tile on the table\n",
    "model.addConstr(Y_reg[\"Black1\", 1] == Y_reg[\"Black1\", 1] - 1) # times of tile can be placed from rack to table\n",
    "# model.addConstr(R_reg[\"Black1\", 1] == R_reg[\"Black1\", 1] - 1) # times of tile on your rack\n",
    "\n",
    "model.addConstr(S_reg[\"Black1\", 2, 188] == 1)\n",
    "model.addConstr(T_reg[\"Black1\", 2] == T_reg[\"Black1\", 2] + 1)\n",
    "model.addConstr(Y_reg[\"Black1\", 2] == Y_reg[\"Black1\", 2] - 1)\n",
    "# model.addConstr(R_reg[\"Black1\", 2] == R_reg[\"Black1\", 2] - 1)\n",
    "\n",
    "model.addConstr(S_reg[\"Black1\", 3, 188] == 1)\n",
    "model.addConstr(T_reg[\"Black1\", 3] == T_reg[\"Black1\", 3] + 1)\n",
    "model.addConstr(Y_reg[\"Black1\", 3] == Y_reg[\"Black1\", 3] - 1)\n",
    "# model.addConstr(R_reg[\"Black1\", 3] == R_reg[\"Black1\", 3] - 1)\n",
    "\n",
    "model.addConstr(S_reg[\"Black1\", 4, 188] == 1)\n",
    "model.addConstr(T_reg[\"Black1\", 4] == T_reg[\"Black1\", 4] + 1)\n",
    "model.addConstr(Y_reg[\"Black1\", 4] == Y_reg[\"Black1\", 4] - 1)\n",
    "# model.addConstr(R_reg[\"Black1\", 4] == R_reg[\"Black1\", 4] - 1)\n",
    "\n",
    "model.addConstr(S_reg[\"Black1\", 10, 36] == 1)\n",
    "model.addConstr(T_reg[\"Black1\", 10] == T_reg[\"Black1\", 10] + 1)\n",
    "model.addConstr(Y_reg[\"Black1\", 10] == Y_reg[\"Black1\", 10] - 1)\n",
    "# model.addConstr(R_reg[\"Black1\", 10] == R_reg[\"Black1\", 10] - 1)\n",
    "\n",
    "model.addConstr(S_reg[\"Black1\", 11, 36] == 1)\n",
    "model.addConstr(T_reg[\"Black1\", 11] == T_reg[\"Black1\", 11] + 1)\n",
    "model.addConstr(Y_reg[\"Black1\", 11] == Y_reg[\"Black1\", 11] - 1)\n",
    "# model.addConstr(R_reg[\"Black1\", 11] == R_reg[\"Black1\", 11] - 1)\n",
    "\n",
    "model.addConstr(S_reg[\"Black1\", 12, 36] == 1)\n",
    "model.addConstr(T_reg[\"Black1\", 12] == T_reg[\"Black1\", 12] + 1)\n",
    "model.addConstr(Y_reg[\"Black1\", 12] == Y_reg[\"Black1\", 12] - 1)\n",
    "# model.addConstr(R_reg[\"Black1\", 12] == R_reg[\"Black1\", 12] - 1)\n",
    "\n",
    "model.addConstr(S_reg[\"Orange1\", 6, 23] == 1)\n",
    "model.addConstr(T_reg[\"Orange1\", 6] == T_reg[\"Orange1\", 6] + 1)\n",
    "model.addConstr(Y_reg[\"Orange1\", 6] == Y_reg[\"Orange1\", 6] - 1)\n",
    "# model.addConstr(R_reg[\"Orange1\", 6] == R_reg[\"Orange1\", 6] - 1)\n",
    "\n",
    "model.addConstr(S_reg[\"Orange1\", 7, 23] == 1)\n",
    "model.addConstr(T_reg[\"Orange1\", 7] == T_reg[\"Orange1\", 7] + 1)\n",
    "model.addConstr(Y_reg[\"Orange1\", 7] == Y_reg[\"Orange1\", 7] - 1)\n",
    "# model.addConstr(R_reg[\"Orange1\", 7] == R_reg[\"Orange1\", 7] - 1)\n",
    "\n",
    "model.addConstr(S_reg[\"Orange1\", 8, 23] == 1)\n",
    "model.addConstr(T_reg[\"Orange1\", 8] == T_reg[\"Orange1\", 8] + 1)\n",
    "model.addConstr(Y_reg[\"Orange1\", 8] == Y_reg[\"Orange1\", 8] - 1)\n",
    "# model.addConstr(R_reg[\"Orange1\", 8] == R_reg[\"Orange1\", 8] - 1)\n",
    "\n",
    "model.addConstr(S_reg[\"Orange1\", 9, 519] == 1)\n",
    "model.addConstr(T_reg[\"Orange1\", 9] == T_reg[\"Orange1\", 9] + 1)\n",
    "model.addConstr(Y_reg[\"Orange1\", 9] == Y_reg[\"Orange1\", 9] - 1)\n",
    "# model.addConstr(R_reg[\"Orange1\", 9] == R_reg[\"Orange1\", 9] - 1)\n",
    "\n",
    "model.addConstr(S_reg[\"Orange1\", 10, 519] == 1)\n",
    "model.addConstr(T_reg[\"Orange1\", 10] == T_reg[\"Orange1\", 10] + 1)\n",
    "model.addConstr(Y_reg[\"Orange1\", 10] == Y_reg[\"Orange1\", 10] - 1)\n",
    "# model.addConstr(R_reg[\"Orange1\", 10] == R_reg[\"Orange1\", 10] - 1)\n",
    "\n",
    "model.addConstr(S_reg[\"Orange1\", 11, 519] == 1)\n",
    "model.addConstr(T_reg[\"Orange1\", 11] == T_reg[\"Orange1\", 11] + 1)\n",
    "model.addConstr(Y_reg[\"Orange1\", 11] == Y_reg[\"Orange1\", 11] - 1)\n",
    "# model.addConstr(R_reg[\"Orange1\", 11] == R_reg[\"Orange1\", 11] - 1)\n",
    "\n",
    "model.addConstr(S_reg[\"Orange1\", 12, 519] == 1)\n",
    "model.addConstr(T_reg[\"Orange1\", 12] == T_reg[\"Orange1\", 12] + 1)\n",
    "model.addConstr(Y_reg[\"Orange1\", 12] == Y_reg[\"Orange1\", 12] - 1)\n",
    "# model.addConstr(R_reg[\"Orange1\", 12] == R_reg[\"Orange1\", 12] - 1)\n",
    "\n",
    "model.addConstr(S_reg[\"Orange1\", 13, 519] == 1)\n",
    "model.addConstr(T_reg[\"Orange1\", 13] == T_reg[\"Orange1\", 13] + 1)\n",
    "model.addConstr(Y_reg[\"Orange1\", 13] == Y_reg[\"Orange1\", 13] - 1)\n",
    "# model.addConstr(R_reg[\"Orange1\", 13] == R_reg[\"Orange1\", 13] - 1)\n",
    "\n",
    "model.addConstr(S_reg[\"Blue1\", 7, 26] == 1)\n",
    "model.addConstr(T_reg[\"Blue1\", 7] == T_reg[\"Blue1\", 7] + 1)\n",
    "model.addConstr(Y_reg[\"Blue1\", 7] == Y_reg[\"Blue1\", 7] - 1)\n",
    "# model.addConstr(R_reg[\"Blue1\", 7] == R_reg[\"Blue1\", 7] - 1)\n",
    "\n",
    "model.addConstr(S_reg[\"Blue1\", 8, 26] == 1)\n",
    "model.addConstr(T_reg[\"Blue1\", 8] == T_reg[\"Blue1\", 8] + 1)\n",
    "model.addConstr(Y_reg[\"Blue1\", 8] == Y_reg[\"Blue1\", 8] - 1)\n",
    "# model.addConstr(R_reg[\"Blue1\", 8] == R_reg[\"Blue1\", 8] - 1)\n",
    "\n",
    "model.addConstr(S_reg[\"Blue1\", 9, 26] == 1)\n",
    "model.addConstr(T_reg[\"Blue1\", 9] == T_reg[\"Blue1\", 9] + 1)\n",
    "model.addConstr(Y_reg[\"Blue1\", 9] == Y_reg[\"Blue1\", 9] - 1)\n",
    "# model.addConstr(R_reg[\"Blue1\", 9] == R_reg[\"Blue1\", 9] - 1)\n",
    "\n",
    "model.addConstr(S_reg[\"Blue1\", 10, 38] == 1)\n",
    "model.addConstr(T_reg[\"Blue1\", 10] == T_reg[\"Blue1\", 10] + 1)\n",
    "model.addConstr(Y_reg[\"Blue1\", 10] == Y_reg[\"Blue1\", 10] - 1)\n",
    "# model.addConstr(R_reg[\"Blue1\", 10] == R_reg[\"Blue1\", 10] - 1)\n",
    "\n",
    "model.addConstr(S_reg[\"Blue1\", 11, 38] == 1)\n",
    "model.addConstr(T_reg[\"Blue1\", 11] == T_reg[\"Blue1\", 11] + 1)\n",
    "model.addConstr(Y_reg[\"Blue1\", 11] == Y_reg[\"Blue1\", 11] - 1)\n",
    "# model.addConstr(R_reg[\"Blue1\", 11] == R_reg[\"Blue1\", 11] - 1)\n",
    "\n",
    "model.addConstr(S_reg[\"Blue1\", 12, 38] == 1)\n",
    "model.addConstr(T_reg[\"Blue1\", 12] == T_reg[\"Blue1\", 12] + 1)\n",
    "model.addConstr(Y_reg[\"Blue1\", 12] == Y_reg[\"Blue1\", 12] - 1)\n",
    "# model.addConstr(R_reg[\"Blue1\", 12] == R_reg[\"Blue1\", 12] - 1)\n",
    "\n",
    "model.addConstr(S_reg[\"Red1\", 11, 41] == 1)\n",
    "model.addConstr(T_reg[\"Red1\", 11] == T_reg[\"Red1\", 11] + 1)\n",
    "model.addConstr(Y_reg[\"Red1\", 11] == Y_reg[\"Red1\", 11] - 1)\n",
    "# model.addConstr(R_reg[\"Red1\", 11] == R_reg[\"Red1\", 11] - 1)\n",
    "\n",
    "model.addConstr(S_reg[\"Red1\", 12, 41] == 1)\n",
    "model.addConstr(T_reg[\"Red1\", 12] == T_reg[\"Red1\", 12] + 1)\n",
    "model.addConstr(Y_reg[\"Red1\", 12] == Y_reg[\"Red1\", 12] - 1)\n",
    "# model.addConstr(R_reg[\"Red1\", 12] == R_reg[\"Red1\", 12] - 1)\n",
    "\n",
    "model.addConstr(S_reg[\"Red1\", 13, 41] == 1)\n",
    "model.addConstr(T_reg[\"Red1\", 13] == T_reg[\"Red1\", 13] + 1)\n",
    "model.addConstr(Y_reg[\"Red1\", 13] == Y_reg[\"Red1\", 13] - 1)\n",
    "# model.addConstr(R_reg[\"Red1\", 13] == R_reg[\"Red1\", 13] - 1)\n",
    "\n",
    "for i in [188, 36, 23, 519, 26, 38, 41]:\n",
    "    model.addConstr(X[i] == X[i] -1)"
   ]
  },
  {
   "cell_type": "markdown",
   "id": "38811f7f",
   "metadata": {},
   "source": [
    "## Optimize"
   ]
  },
  {
   "cell_type": "code",
   "execution_count": 79,
   "id": "bc8bb3ff",
   "metadata": {},
   "outputs": [
    {
     "name": "stdout",
     "output_type": "stream",
     "text": [
      "Gurobi Optimizer version 10.0.3 build v10.0.3rc0 (mac64[x86])\n",
      "\n",
      "CPU model: Intel(R) Core(TM) i9-9880H CPU @ 2.30GHz\n",
      "Thread count: 8 physical cores, 16 logical processors, using up to 16 threads\n",
      "\n",
      "Optimize a model with 288 rows, 129455 columns and 260 nonzeros\n",
      "Model fingerprint: 0xe0699984\n",
      "Model has 105 quadratic constraints\n",
      "Variable types: 0 continuous, 129455 integer (124444 binary)\n",
      "Coefficient statistics:\n",
      "  Matrix range     [1e+00, 1e+00]\n",
      "  QMatrix range    [1e+00, 1e+00]\n",
      "  QLMatrix range   [1e+00, 1e+00]\n",
      "  Objective range  [1e+00, 3e+01]\n",
      "  Bounds range     [1e+00, 2e+00]\n",
      "  RHS range        [1e+00, 1e+00]\n",
      "Presolve time: 0.04s\n",
      "\n",
      "Explored 0 nodes (0 simplex iterations) in 0.07 seconds (0.00 work units)\n",
      "Thread count was 1 (of 16 available processors)\n",
      "\n",
      "Solution count 0\n",
      "No other solutions better than -1e+100\n",
      "\n",
      "Model is infeasible\n",
      "Best objective -, best bound -, gap -\n"
     ]
    },
    {
     "data": {
      "text/plain": [
       "3"
      ]
     },
     "execution_count": 79,
     "metadata": {},
     "output_type": "execute_result"
    }
   ],
   "source": [
    "model.optimize()\n",
    "model.status"
   ]
  },
  {
   "cell_type": "code",
   "execution_count": 13,
   "metadata": {},
   "outputs": [
    {
     "data": {
      "text/plain": [
       "846.6999999999466"
      ]
     },
     "execution_count": 13,
     "metadata": {},
     "output_type": "execute_result"
    }
   ],
   "source": [
    "model.ObjVal"
   ]
  },
  {
   "cell_type": "code",
   "execution_count": 16,
   "metadata": {},
   "outputs": [],
   "source": [
    "# for v in model.getVars():\n",
    "#     if v.x != 0:\n",
    "#         print (v.varName, v.x)"
   ]
  },
  {
   "cell_type": "markdown",
   "metadata": {},
   "source": [
    "##### Some thoughts\n",
    "\n",
    "decision variables maybe should be separated by color\n",
    "\n",
    "interactive so that have enough tile on the table to solve and optimize\n",
    "\n",
    "after solving using ILP, show the solution in plain language, also show how many extra steps it will need to finish the game"
   ]
  },
  {
   "cell_type": "markdown",
   "metadata": {},
   "source": []
  }
 ],
 "metadata": {
  "kernelspec": {
   "display_name": "Python 3 (ipykernel)",
   "language": "python",
   "name": "python3"
  },
  "language_info": {
   "codemirror_mode": {
    "name": "ipython",
    "version": 3
   },
   "file_extension": ".py",
   "mimetype": "text/x-python",
   "name": "python",
   "nbconvert_exporter": "python",
   "pygments_lexer": "ipython3",
   "version": "3.11.5"
  }
 },
 "nbformat": 4,
 "nbformat_minor": 5
}
