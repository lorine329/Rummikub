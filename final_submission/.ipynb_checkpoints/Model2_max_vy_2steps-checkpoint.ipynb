{
 "cells": [
  {
   "cell_type": "code",
   "execution_count": 1,
   "id": "4abf01f8",
   "metadata": {},
   "outputs": [],
   "source": [
    "import gurobipy as gb\n",
    "from gurobipy import *\n",
    "import numpy as np"
   ]
  },
  {
   "cell_type": "markdown",
   "id": "ee5338b3",
   "metadata": {},
   "source": [
    "# Rummikub"
   ]
  },
  {
   "cell_type": "markdown",
   "id": "5ae61881",
   "metadata": {},
   "source": [
    "In this script, we will demonstrate how our second model with the objective function of $\\sum_{i=1}^{53} v_iy_i$ solve the Rummikub with one Joker in the rack and in two steps."
   ]
  },
  {
   "cell_type": "markdown",
   "id": "e1d18db0",
   "metadata": {},
   "source": [
    "## Tiles Set up\n",
    "$2*4*13 + joker*2$"
   ]
  },
  {
   "cell_type": "markdown",
   "id": "2d31e73f",
   "metadata": {},
   "source": [
    "### All tiles"
   ]
  },
  {
   "cell_type": "code",
   "execution_count": 2,
   "id": "53eceeae",
   "metadata": {},
   "outputs": [],
   "source": [
    "Deck_types = [\"Black\", \"Red\", \"Orange\", \"Blue\"]\n",
    "Deck_values = [1, 2, 3, 4, 5, 6, 7, 8, 9, 10, 11, 12, 13]\n",
    "Joker = \"Joker\"\n",
    "Joker_values = 30"
   ]
  },
  {
   "cell_type": "code",
   "execution_count": 3,
   "id": "a67acf5f",
   "metadata": {},
   "outputs": [],
   "source": [
    "tiles_pool = [(color, value) for color in Deck_types for value in Deck_values]\n",
    "tiles_pool.append((Joker, Joker_values))"
   ]
  },
  {
   "cell_type": "code",
   "execution_count": 4,
   "id": "357adb3f",
   "metadata": {},
   "outputs": [
    {
     "data": {
      "text/plain": [
       "53"
      ]
     },
     "execution_count": 4,
     "metadata": {},
     "output_type": "execute_result"
    }
   ],
   "source": [
    "len(tiles_pool)"
   ]
  },
  {
   "cell_type": "markdown",
   "id": "a08d4a9b",
   "metadata": {},
   "source": [
    "### All Possible Sets"
   ]
  },
  {
   "cell_type": "code",
   "execution_count": 5,
   "id": "eac80528",
   "metadata": {},
   "outputs": [],
   "source": [
    "# Adjusting the setup to consider only the deck color\n",
    "Deck_colors = [\"Black\", \"Red\", \"Blue\", \"Orange\"]\n",
    "\n",
    "# Generating all possible sets with three consecutive numbers\n",
    "# and represent each card in the set using Deck_color and Deck_values\n",
    "three_consecutive_set_no_joker = []\n",
    "\n",
    "for value in Deck_values[:-2]:  # Iterate through the values, stopping two before the end\n",
    "    for color in Deck_colors:\n",
    "        # Create a set of three consecutive cards of the same color\n",
    "        consecutive_set = [(color, value), (color, value + 1), (color, value + 2)]\n",
    "        three_consecutive_set_no_joker.append(consecutive_set)\n"
   ]
  },
  {
   "cell_type": "code",
   "execution_count": 6,
   "id": "9702cd4b",
   "metadata": {},
   "outputs": [],
   "source": [
    "# Adjusting the setup to include one Joker in each set\n",
    "# The Joker can replace any one of the three cards in the set\n",
    "\n",
    "three_consecutive_set_one_joker = []\n",
    "# Iterate through each color and value, creating sets with one Joker\n",
    "for color in Deck_colors:\n",
    "    for value in Deck_values[:-2]:  # Iterate through the values, stopping two before the end\n",
    "        # For each set of three consecutive values, create three sets, each with one Joker\n",
    "        if value == 1:\n",
    "            for i in range(3):\n",
    "                consecutive_set_one_joker = [(color, value), (color, value + 1), (color, value + 2)]\n",
    "                consecutive_set_one_joker[i] = \"Joker\"  # Replace one card with a Joker\n",
    "                three_consecutive_set_one_joker.append(consecutive_set_one_joker)\n",
    "        else:\n",
    "            for i in range(2):\n",
    "                consecutive_set_one_joker = [(color, value), (color, value + 1), (color, value + 2)]\n",
    "                consecutive_set_one_joker[i] = \"Joker\"  # Replace one card with a Joker\n",
    "                three_consecutive_set_one_joker.append(consecutive_set_one_joker)\n"
   ]
  },
  {
   "cell_type": "code",
   "execution_count": 7,
   "id": "e6e94a6a",
   "metadata": {},
   "outputs": [],
   "source": [
    "# Adjusting the setup to include exactly two Jokers in each set\n",
    "# Each set will now consist of one card from the deck and two Jokers\n",
    "\n",
    "# Generating all possible sets with one card from the deck and two Jokers\n",
    "three_consecutive_sets_with_two_jokers = []\n",
    "\n",
    "for color in Deck_colors:\n",
    "    for value in Deck_values:  # Iterate through all values\n",
    "        # Create a set with one card from the deck and two Jokers\n",
    "        set_with_two_jokers = [(color, value), \"Joker\", \"Joker\"]\n",
    "        three_consecutive_sets_with_two_jokers.append(set_with_two_jokers)"
   ]
  },
  {
   "cell_type": "code",
   "execution_count": 8,
   "id": "922fc872",
   "metadata": {},
   "outputs": [],
   "source": [
    "# Generating sets with four consecutive numbers, same color, and without Joker\n",
    "\n",
    "four_consecutive_sets_no_joker = []\n",
    "\n",
    "for color in Deck_colors:\n",
    "    for value in Deck_values[:-3]:  # Iterate through values, stopping three before the end\n",
    "        # Create a set of four consecutive cards of the same color\n",
    "        consecutive_set = [(color, value), (color, value + 1), (color, value + 2), (color, value + 3)]\n",
    "        four_consecutive_sets_no_joker.append(consecutive_set)"
   ]
  },
  {
   "cell_type": "code",
   "execution_count": 9,
   "id": "886bfebd",
   "metadata": {},
   "outputs": [],
   "source": [
    "four_consecutive_sets_one_joker = []\n",
    "\n",
    "for color in Deck_colors:\n",
    "    for value in Deck_values[:-3]:  # Iterate through values, stopping three before the end\n",
    "        # Create a set of four consecutive cards of the same color\n",
    "        if value == 1:\n",
    "            for i in range(4):\n",
    "                consecutive_set = [(color, value), (color, value + 1), (color, value + 2), (color, value + 3)]\n",
    "                consecutive_set[i] = \"Joker\"\n",
    "                four_consecutive_sets_one_joker.append(consecutive_set)\n",
    "        else:\n",
    "            for i in range(3):\n",
    "                consecutive_set = [(color, value), (color, value + 1), (color, value + 2), (color, value + 3)]\n",
    "                consecutive_set[i] = \"Joker\"\n",
    "                four_consecutive_sets_one_joker.append(consecutive_set)"
   ]
  },
  {
   "cell_type": "code",
   "execution_count": 10,
   "id": "44373c40",
   "metadata": {},
   "outputs": [],
   "source": [
    "four_consecutive_sets_two_joker = []\n",
    "\n",
    "for color in Deck_colors:\n",
    "    for value in Deck_values[:-3]:  # Iterate through values, stopping three before the end\n",
    "        # Create a set of four consecutive cards of the same color\n",
    "        if value == 1:\n",
    "            for i in range(3):\n",
    "                for j in range(i+1, 4):\n",
    "                    consecutive_set = [(color, value), (color, value + 1), (color, value + 2), (color, value + 3)]\n",
    "                    consecutive_set[i] = \"Joker\"\n",
    "                    consecutive_set[j] = \"Joker\"\n",
    "                    four_consecutive_sets_two_joker.append(consecutive_set)\n",
    "        else:\n",
    "            for i in range(2):\n",
    "                for j in range(i+1, 3):\n",
    "                    consecutive_set = [(color, value), (color, value + 1), (color, value + 2), (color, value + 3)]\n",
    "                    consecutive_set[i] = \"Joker\"\n",
    "                    consecutive_set[j] = \"Joker\"\n",
    "                    four_consecutive_sets_two_joker.append(consecutive_set)"
   ]
  },
  {
   "cell_type": "code",
   "execution_count": 11,
   "id": "473cd3ab",
   "metadata": {},
   "outputs": [],
   "source": [
    "# Generating sets with five consecutive numbers, same color, and without Joker\n",
    "\n",
    "five_consecutive_sets_no_joker = []\n",
    "\n",
    "for color in Deck_colors:\n",
    "    for value in Deck_values[:-4]:  # Iterate through values, stopping four before the end\n",
    "        # Create a set of five consecutive cards of the same color\n",
    "        consecutive_set = [(color, value), (color, value + 1), (color, value + 2), (color, value + 3), (color, value + 4)]\n",
    "        five_consecutive_sets_no_joker.append(consecutive_set)"
   ]
  },
  {
   "cell_type": "code",
   "execution_count": 12,
   "id": "4d0d1bea",
   "metadata": {},
   "outputs": [],
   "source": [
    "# Generating sets with five consecutive numbers, same color, and 1 Joker\n",
    "\n",
    "five_consecutive_sets_one_joker = []\n",
    "\n",
    "for color in Deck_colors:\n",
    "    for value in Deck_values[:-4]:  # Iterate through values, stopping four before the end\n",
    "        # Create a set of five consecutive cards of the same color\n",
    "        if value == 1:\n",
    "            for i in range(5):\n",
    "                consecutive_set = [(color, value), (color, value + 1), (color, value + 2), (color, value + 3), (color, value + 4)]\n",
    "                consecutive_set[i] = \"Joker\"\n",
    "                five_consecutive_sets_one_joker.append(consecutive_set)\n",
    "        else:\n",
    "            for i in range(4):\n",
    "                consecutive_set = [(color, value), (color, value + 1), (color, value + 2), (color, value + 3), (color, value + 4)]\n",
    "                consecutive_set[i] = \"Joker\"\n",
    "                five_consecutive_sets_one_joker.append(consecutive_set)"
   ]
  },
  {
   "cell_type": "code",
   "execution_count": 13,
   "id": "275891f1",
   "metadata": {},
   "outputs": [],
   "source": [
    "# Generating sets with five consecutive numbers, same color, and 2 Joker\n",
    "\n",
    "five_consecutive_sets_two_joker = []\n",
    "\n",
    "for color in Deck_colors:\n",
    "    for value in Deck_values[:-4]:  # Iterate through values, stopping four before the end\n",
    "        # Create a set of five consecutive cards of the same color\n",
    "        if value == 1:\n",
    "            for i in range(4):\n",
    "                for j in range(i+1, 5):\n",
    "                    consecutive_set = [(color, value), (color, value + 1), (color, value + 2), (color, value + 3), (color, value + 4)]\n",
    "                    consecutive_set[i] = \"Joker\"\n",
    "                    consecutive_set[j] = \"Joker\"\n",
    "                    five_consecutive_sets_two_joker.append(consecutive_set)\n",
    "        else:\n",
    "            for i in range(3):\n",
    "                for j in range(i+1, 4):\n",
    "                    consecutive_set = [(color, value), (color, value + 1), (color, value + 2), (color, value + 3), (color, value + 4)]\n",
    "                    consecutive_set[i] = \"Joker\"\n",
    "                    consecutive_set[j] = \"Joker\"\n",
    "                    five_consecutive_sets_two_joker.append(consecutive_set)"
   ]
  },
  {
   "cell_type": "code",
   "execution_count": 14,
   "id": "7e9cdfe3",
   "metadata": {},
   "outputs": [],
   "source": [
    "# Generating sets of three cards, each from a different color, without Jokers, and all cards having the same value\n",
    "\n",
    "three_cards_different_colors_same_value = []\n",
    "\n",
    "for value in Deck_values:\n",
    "    # Iterate through combinations of three different colors\n",
    "    for i in range(len(Deck_colors)):\n",
    "        for j in range(i + 1, len(Deck_colors)):\n",
    "            for k in range(j + 1, len(Deck_colors)):\n",
    "                # Create a set with one card from each of the three different colors, all with the same value\n",
    "                set_of_three = [(Deck_colors[i], value), (Deck_colors[j], value), (Deck_colors[k], value)]\n",
    "                three_cards_different_colors_same_value.append(set_of_three)"
   ]
  },
  {
   "cell_type": "code",
   "execution_count": 15,
   "id": "4747fdbe",
   "metadata": {},
   "outputs": [],
   "source": [
    "# Generating sets of three cards, each from a different color, 1 Jokers, and all cards having the same value\n",
    "\n",
    "three_cards_different_colors_1_joker = []\n",
    "\n",
    "for value in Deck_values:\n",
    "    # Iterate through combinations of three different colors\n",
    "    for i in range(len(Deck_colors)):\n",
    "        for j in range(i + 1, len(Deck_colors)):\n",
    "            # Create a set with one card from each of the three different colors, all with the same value\n",
    "            set_of_three = [(Deck_colors[i], value), (Deck_colors[j], value), \"Joker\"]\n",
    "            three_cards_different_colors_1_joker.append(set_of_three)"
   ]
  },
  {
   "cell_type": "code",
   "execution_count": 16,
   "id": "bf88a19f",
   "metadata": {},
   "outputs": [],
   "source": [
    "four_cards_different_colors_same_value = []\n",
    "\n",
    "for value in Deck_values:\n",
    "    # Iterate through combinations of three different colors\n",
    "    set_of_four = [(Deck_colors[0], value), (Deck_colors[1], value), (Deck_colors[2], value), (Deck_colors[3], value)]\n",
    "    four_cards_different_colors_same_value.append(set_of_four)"
   ]
  },
  {
   "cell_type": "code",
   "execution_count": 17,
   "id": "c1e3267e",
   "metadata": {},
   "outputs": [],
   "source": [
    "# Generating sets of four cards, each from a different color, 1 Jokers, and all cards having the same value\n",
    "\n",
    "four_cards_different_colors_1_joker = []\n",
    "\n",
    "for value in Deck_values:\n",
    "    # Iterate through combinations of three different colors\n",
    "    for i in range(len(Deck_colors)):\n",
    "        for j in range(i + 1, len(Deck_colors)):\n",
    "            for k in range(j + 1, len(Deck_colors)):\n",
    "                # Create a set with one card from each of the three different colors, all with the same value\n",
    "                set_of_four = [(Deck_colors[i], value), (Deck_colors[j], value), (Deck_colors[k], value), \"Joker\"]\n",
    "                four_cards_different_colors_1_joker.append(set_of_four)"
   ]
  },
  {
   "cell_type": "code",
   "execution_count": 18,
   "id": "6be25b5f",
   "metadata": {},
   "outputs": [],
   "source": [
    "# Generating sets of four cards, each from a different color, 2 Jokers, and all cards having the same value\n",
    "\n",
    "four_cards_different_colors_2_joker = []\n",
    "\n",
    "for value in Deck_values:\n",
    "    # Iterate through combinations of three different colors\n",
    "    for i in range(len(Deck_colors)):\n",
    "        for j in range(i + 1, len(Deck_colors)):\n",
    "            # Create a set with one card from each of the three different colors, all with the same value\n",
    "            set_of_four = [(Deck_colors[i], value), (Deck_colors[j], value), \"Joker\", \"Joker\"]\n",
    "            four_cards_different_colors_2_joker.append(set_of_four)"
   ]
  },
  {
   "cell_type": "code",
   "execution_count": 19,
   "id": "f182cce9",
   "metadata": {},
   "outputs": [],
   "source": [
    "three_consecutives = three_consecutive_set_no_joker + three_consecutive_set_one_joker + three_consecutive_sets_with_two_jokers\n",
    "four_consecutives = four_consecutive_sets_no_joker + four_consecutive_sets_one_joker + four_consecutive_sets_two_joker\n",
    "five_consecutives = five_consecutive_sets_no_joker + five_consecutive_sets_one_joker + five_consecutive_sets_two_joker\n",
    "three_same = three_cards_different_colors_same_value + three_cards_different_colors_1_joker\n",
    "four_same = four_cards_different_colors_same_value + four_cards_different_colors_1_joker + four_cards_different_colors_2_joker\n",
    "all_sets = three_consecutives + four_consecutives + five_consecutives + three_same + four_same"
   ]
  },
  {
   "cell_type": "code",
   "execution_count": 20,
   "id": "1b9780db",
   "metadata": {},
   "outputs": [],
   "source": [
    "all_sets = list(reversed(all_sets))"
   ]
  },
  {
   "cell_type": "code",
   "execution_count": 21,
   "id": "2ad71ae8",
   "metadata": {},
   "outputs": [
    {
     "data": {
      "text/plain": [
       "1173"
      ]
     },
     "execution_count": 21,
     "metadata": {},
     "output_type": "execute_result"
    }
   ],
   "source": [
    "len(all_sets)"
   ]
  },
  {
   "cell_type": "code",
   "execution_count": 22,
   "id": "8cf448f5",
   "metadata": {},
   "outputs": [],
   "source": [
    "# Total number of tiles\n",
    "I = len(tiles_pool)\n",
    "# Total number of sets\n",
    "J = len(all_sets)"
   ]
  },
  {
   "cell_type": "markdown",
   "id": "f422788a",
   "metadata": {},
   "source": [
    "### The real game"
   ]
  },
  {
   "cell_type": "code",
   "execution_count": 23,
   "id": "900b156d",
   "metadata": {},
   "outputs": [],
   "source": [
    "# specify the tiles currently in rack and on table\n",
    "Rack = [(\"Orange\", 1), (\"Orange\", 3), (\"Orange\", 4), (\"Orange\", 8), \n",
    "        (\"Blue\", 2), (\"Black\", 2), (\"Black\", 10), (\"Black\", 13), (\"Joker\", 30)]\n",
    "\n",
    "Set = [[(\"Black\", 1), (\"Black\", 2), (\"Black\", 3), (\"Black\", 4)], \n",
    "       [(\"Black\", 10), (\"Black\", 11), (\"Black\", 12)],\n",
    "       [(\"Orange\", 6), (\"Orange\", 7), (\"Orange\", 8)], \n",
    "       [(\"Orange\", 9), (\"Orange\", 10), (\"Orange\", 11), (\"Orange\", 12), (\"Orange\", 13)], \n",
    "       [(\"Blue\", 7), (\"Blue\", 8), (\"Blue\", 9)], \n",
    "       [(\"Blue\", 10), (\"Blue\", 11), (\"Blue\", 12)], \n",
    "       [(\"Red\", 11), (\"Red\", 12), (\"Red\", 13)]]\n",
    "\n",
    "Table = [card for set_ in Set for card in set_]"
   ]
  },
  {
   "cell_type": "code",
   "execution_count": 24,
   "id": "63592d27",
   "metadata": {},
   "outputs": [],
   "source": [
    "played_tiles = Rack + Table"
   ]
  },
  {
   "cell_type": "markdown",
   "id": "f33d6a50",
   "metadata": {},
   "source": [
    "## Model 2: Maximum total value of tiles played"
   ]
  },
  {
   "cell_type": "code",
   "execution_count": 25,
   "id": "7e8cf8b9",
   "metadata": {},
   "outputs": [
    {
     "name": "stdout",
     "output_type": "stream",
     "text": [
      "Set parameter Username\n",
      "Academic license - for non-commercial use only - expires 2024-08-30\n"
     ]
    }
   ],
   "source": [
    "model2 = gb.Model(\"Rummikub-M2\")"
   ]
  },
  {
   "cell_type": "markdown",
   "id": "69838635",
   "metadata": {},
   "source": [
    "## Decision Variable"
   ]
  },
  {
   "cell_type": "markdown",
   "id": "c63d3d8d",
   "metadata": {},
   "source": [
    "### Parameters"
   ]
  },
  {
   "cell_type": "code",
   "execution_count": 26,
   "id": "19f5401c",
   "metadata": {},
   "outputs": [],
   "source": [
    "# indicates whether tile i is in set j (yes = 1, no = 0),\n",
    "S = np.zeros((I, J))\n",
    "# tile i is 0, 1 or 2 times on the table\n",
    "T = np.zeros(I)\n",
    "# tile i is 0, 1 or 2 times on your rack\n",
    "R = np.zeros(I)"
   ]
  },
  {
   "cell_type": "markdown",
   "id": "464faa52",
   "metadata": {},
   "source": [
    "### Variables"
   ]
  },
  {
   "cell_type": "code",
   "execution_count": 27,
   "id": "cb400943",
   "metadata": {},
   "outputs": [],
   "source": [
    "# how many times/whether a set/run combination can be formed by the tiles on table and in rack\n",
    "X = model2.addVars(J, lb = 0, ub = 2, vtype = GRB.INTEGER, \n",
    "                  name = [\"set \" + str(all_sets[j]) + \" can be placed onto the table\" for j in range(J)])\n",
    "\n",
    "# how many times a tile can be played\n",
    "Y = model2.addVars(I, lb = 0, ub = 2, vtype = GRB.INTEGER, \n",
    "                  name = [\"tile \" + str(tiles_pool[i]) + \" can be placed from your rack onto the table\" for i in range(I)])"
   ]
  },
  {
   "cell_type": "markdown",
   "id": "49cc2318",
   "metadata": {},
   "source": [
    "## Objective Function"
   ]
  },
  {
   "cell_type": "code",
   "execution_count": 28,
   "id": "788ff7a6",
   "metadata": {},
   "outputs": [],
   "source": [
    "score = quicksum(Y[i] * tiles_pool[i][1] for i in range(I))\n",
    "model2.setObjective(score, GRB.MAXIMIZE)"
   ]
  },
  {
   "cell_type": "markdown",
   "id": "0ee336df",
   "metadata": {},
   "source": [
    "## Constraints"
   ]
  },
  {
   "cell_type": "code",
   "execution_count": 29,
   "id": "c5a64f9a",
   "metadata": {},
   "outputs": [],
   "source": [
    "# frequency of each tiles appeared in rack and on table\n",
    "Counter_all_played_tiles = {}\n",
    "for tile in Rack:\n",
    "    if tile not in Counter_all_played_tiles.keys():\n",
    "        Counter_all_played_tiles[tile] = 1\n",
    "    else:\n",
    "        Counter_all_played_tiles[tile] += 1\n",
    "\n",
    "for tile in Table:\n",
    "    if tile not in Counter_all_played_tiles.keys():\n",
    "        Counter_all_played_tiles[tile] = 1\n",
    "    else:\n",
    "        Counter_all_played_tiles[tile] += 1"
   ]
  },
  {
   "cell_type": "code",
   "execution_count": 30,
   "id": "f5df0c20",
   "metadata": {},
   "outputs": [],
   "source": [
    "# frequency of each tile appeared in rack\n",
    "Counter_rack = {}\n",
    "for tile in Rack:\n",
    "    if tile not in Counter_rack.keys():\n",
    "        Counter_rack[tile] = 1\n",
    "    else:\n",
    "        Counter_rack += 1"
   ]
  },
  {
   "cell_type": "code",
   "execution_count": 31,
   "id": "29739531",
   "metadata": {},
   "outputs": [],
   "source": [
    "# frequency of each tile appeared on table\n",
    "Counter_table = {}\n",
    "for tile in Table:\n",
    "    if tile not in Counter_table.keys():\n",
    "        Counter_table[tile] = 1\n",
    "    else:\n",
    "        Counter_table[tile] += 1"
   ]
  },
  {
   "cell_type": "code",
   "execution_count": 32,
   "id": "690b06ce",
   "metadata": {},
   "outputs": [],
   "source": [
    "# Rack\n",
    "for tile in Rack:\n",
    "    i = tiles_pool.index(tile)\n",
    "    \n",
    "    # update T[i]\n",
    "    if tile in Counter_table.keys(): \n",
    "        num_table = Counter_table[tile]\n",
    "        T[i] = num_table\n",
    "    else:\n",
    "        T[i] =0\n",
    "        \n",
    "    # update R[i]\n",
    "    num_rack = Counter_rack[tile]\n",
    "    R[i] = num_rack\n",
    "    \n",
    "    # update S[i, j]\n",
    "    for set_ in all_sets:\n",
    "        j = all_sets.index(set_)\n",
    "        if tile not in set_:\n",
    "            S[i, j] = 0\n",
    "        else:\n",
    "            S[i, j] = 1"
   ]
  },
  {
   "cell_type": "code",
   "execution_count": 33,
   "id": "1b88cc3b",
   "metadata": {},
   "outputs": [],
   "source": [
    "# Table\n",
    "for tile in Table:\n",
    "    i = tiles_pool.index(tile)\n",
    "    \n",
    "    # update R[i]\n",
    "    if tile in Counter_rack.keys(): \n",
    "        num_rack = Counter_rack[tile]\n",
    "        R[i] = num_rack\n",
    "    else:\n",
    "        R[i]=0\n",
    "        \n",
    "    # update T[i]\n",
    "    num_table = Counter_table[tile]\n",
    "    T[i]=num_table\n",
    "    \n",
    "    # update S[i, j]\n",
    "    for set_ in all_sets:\n",
    "        j = all_sets.index(set_)\n",
    "        if tile not in set_:\n",
    "            S[i, j]=0\n",
    "        else:\n",
    "            S[i, j]=1"
   ]
  },
  {
   "cell_type": "code",
   "execution_count": 34,
   "id": "ea8f4faf",
   "metadata": {},
   "outputs": [],
   "source": [
    "# Account for all sets containing Joker\n",
    "if (\"Joker\", 30) in Counter_all_played_tiles:\n",
    "    num_joker = Counter_all_played_tiles[(\"Joker\", 30)]\n",
    "    for set_ in all_sets:\n",
    "            j = all_sets.index(set_)\n",
    "            # if only have 1 Joker tile both on table and in rack, set S[i, j] = 0 for all j's with 2 Jokers\n",
    "            if set_.count(\"Joker\") == 2 and num_joker == 1:  \n",
    "                for i in range(I):\n",
    "                    S[i, j] = 0"
   ]
  },
  {
   "cell_type": "code",
   "execution_count": 35,
   "id": "450c20a8",
   "metadata": {},
   "outputs": [],
   "source": [
    "# Account for all tiles not in rack or not on table\n",
    "not_in_rack_table = []\n",
    "for tile in tiles_pool:\n",
    "    if tile not in Rack and tile not in Table:\n",
    "        not_in_rack_table.append(tile)"
   ]
  },
  {
   "cell_type": "code",
   "execution_count": 36,
   "id": "f5adac36",
   "metadata": {},
   "outputs": [],
   "source": [
    "for tile in not_in_rack_table:\n",
    "    i = tiles_pool.index(tile)\n",
    "    \n",
    "    # update T[i] and R[i]\n",
    "    T[i] = 0\n",
    "    R[i] = 0\n",
    "    \n",
    "    # update X[i] and S[i, j]\n",
    "    for set_ in all_sets:\n",
    "        if tile in set_:\n",
    "            j = all_sets.index(set_)\n",
    "            model2.addConstr(X[j] == 0)\n",
    "            S[i, j] = 1"
   ]
  },
  {
   "cell_type": "markdown",
   "id": "451f8ffa",
   "metadata": {},
   "source": [
    "### Default constraints"
   ]
  },
  {
   "cell_type": "code",
   "execution_count": 37,
   "id": "d79fae88",
   "metadata": {},
   "outputs": [],
   "source": [
    "for i in range(I):\n",
    "    sx_sum = quicksum(S[i, j] * X[j] for j in range(J))\n",
    "    model2.addConstr(sx_sum == T[i] + Y[i])"
   ]
  },
  {
   "cell_type": "code",
   "execution_count": 38,
   "id": "4da7bddb",
   "metadata": {},
   "outputs": [],
   "source": [
    "# the number of times a tile can be played is less than the number of times the tile in the rack\n",
    "for i in range(I):\n",
    "    model2.addConstr(Y[i] <= R[i])"
   ]
  },
  {
   "cell_type": "markdown",
   "id": "d0ec3158",
   "metadata": {},
   "source": [
    "## Optimize"
   ]
  },
  {
   "cell_type": "code",
   "execution_count": 39,
   "id": "1c047c6b",
   "metadata": {},
   "outputs": [
    {
     "name": "stdout",
     "output_type": "stream",
     "text": [
      "Gurobi Optimizer version 10.0.3 build v10.0.3rc0 (mac64[x86])\n",
      "\n",
      "CPU model: Intel(R) Core(TM) i9-9880H CPU @ 2.30GHz\n",
      "Thread count: 8 physical cores, 16 logical processors, using up to 16 threads\n",
      "\n",
      "Optimize a model with 1672 rows, 1226 columns and 4366 nonzeros\n",
      "Model fingerprint: 0xa524fcea\n",
      "Variable types: 0 continuous, 1226 integer (0 binary)\n",
      "Coefficient statistics:\n",
      "  Matrix range     [1e+00, 1e+00]\n",
      "  Objective range  [1e+00, 3e+01]\n",
      "  Bounds range     [2e+00, 2e+00]\n",
      "  RHS range        [1e+00, 1e+00]\n",
      "Found heuristic solution: objective 15.0000000\n",
      "Presolve removed 1644 rows and 1074 columns\n",
      "Presolve time: 0.00s\n",
      "Presolved: 28 rows, 152 columns, 430 nonzeros\n",
      "Variable types: 0 continuous, 152 integer (152 binary)\n",
      "Found heuristic solution: objective 23.0000000\n",
      "\n",
      "Root relaxation: objective 4.300000e+01, 30 iterations, 0.00 seconds (0.00 work units)\n",
      "\n",
      "    Nodes    |    Current Node    |     Objective Bounds      |     Work\n",
      " Expl Unexpl |  Obj  Depth IntInf | Incumbent    BestBd   Gap | It/Node Time\n",
      "\n",
      "H    0     0                      43.0000000  192.00000   347%     -    0s\n",
      "     0     0          -    0        43.00000   43.00000  0.00%     -    0s\n",
      "\n",
      "Explored 1 nodes (55 simplex iterations) in 0.02 seconds (0.00 work units)\n",
      "Thread count was 16 (of 16 available processors)\n",
      "\n",
      "Solution count 3: 43 23 15 \n",
      "\n",
      "Optimal solution found (tolerance 1.00e-04)\n",
      "Best objective 4.300000000000e+01, best bound 4.300000000000e+01, gap 0.0000%\n"
     ]
    },
    {
     "data": {
      "text/plain": [
       "2"
      ]
     },
     "execution_count": 39,
     "metadata": {},
     "output_type": "execute_result"
    }
   ],
   "source": [
    "model2.optimize()\n",
    "model2.status"
   ]
  },
  {
   "cell_type": "code",
   "execution_count": 40,
   "id": "f4fd9236",
   "metadata": {},
   "outputs": [
    {
     "data": {
      "text/plain": [
       "43.0"
      ]
     },
     "execution_count": 40,
     "metadata": {},
     "output_type": "execute_result"
    }
   ],
   "source": [
    "model2.objVal"
   ]
  },
  {
   "cell_type": "code",
   "execution_count": 41,
   "id": "12908ec3",
   "metadata": {},
   "outputs": [
    {
     "name": "stdout",
     "output_type": "stream",
     "text": [
      "set [('Black', 13), ('Red', 13), ('Orange', 13), 'Joker'] can be placed onto the table 1.0\n",
      "set [('Blue', 12), ('Orange', 12), 'Joker'] can be placed onto the table 1.0\n",
      "set [('Black', 12), ('Red', 12), 'Joker'] can be placed onto the table 1.0\n",
      "set [('Red', 11), ('Blue', 11), 'Joker'] can be placed onto the table 1.0\n",
      "set [('Black', 10), ('Blue', 10), 'Joker'] can be placed onto the table 1.0\n",
      "set [('Blue', 8), ('Orange', 8), 'Joker'] can be placed onto the table 1.0\n",
      "set [('Black', 2), ('Blue', 2), 'Joker'] can be placed onto the table 1.0\n",
      "set [('Orange', 4), 'Joker', ('Orange', 6), ('Orange', 7)] can be placed onto the table 1.0\n",
      "set [('Orange', 9), 'Joker', ('Orange', 11)] can be placed onto the table 1.0\n",
      "set [('Orange', 8), 'Joker', ('Orange', 10)] can be placed onto the table 1.0\n",
      "set [('Orange', 1), 'Joker', ('Orange', 3)] can be placed onto the table 1.0\n",
      "set [('Blue', 7), 'Joker', ('Blue', 9)] can be placed onto the table 1.0\n",
      "set ['Joker', ('Black', 10), ('Black', 11)] can be placed onto the table 1.0\n",
      "set ['Joker', ('Black', 3), ('Black', 4)] can be placed onto the table 1.0\n",
      "set [('Black', 1), ('Black', 2), 'Joker'] can be placed onto the table 1.0\n"
     ]
    }
   ],
   "source": [
    "for j in range(J):\n",
    "    if X[j].x != 0:\n",
    "        print(X[j].varName, X[j].x)\n",
    "# This shows all the possible sets that maximize the objective function \n",
    "# and could form using the tiles in the rack and on the table"
   ]
  },
  {
   "cell_type": "code",
   "execution_count": 42,
   "id": "8b03f8e8",
   "metadata": {},
   "outputs": [
    {
     "name": "stdout",
     "output_type": "stream",
     "text": [
      "tile ('Black', 2) can be placed from your rack onto the table 1.0\n",
      "tile ('Black', 10) can be placed from your rack onto the table 1.0\n",
      "tile ('Black', 13) can be placed from your rack onto the table 1.0\n",
      "tile ('Orange', 1) can be placed from your rack onto the table 1.0\n",
      "tile ('Orange', 3) can be placed from your rack onto the table 1.0\n",
      "tile ('Orange', 4) can be placed from your rack onto the table 1.0\n",
      "tile ('Orange', 8) can be placed from your rack onto the table 1.0\n",
      "tile ('Blue', 2) can be placed from your rack onto the table 1.0\n"
     ]
    }
   ],
   "source": [
    "for i in range(I):\n",
    "    if Y[i].x != 0:\n",
    "        print(Y[i].varName, Y[i].x)\n",
    "# This shows all the possible moves of the tiles in the rack"
   ]
  },
  {
   "cell_type": "markdown",
   "id": "31d46825",
   "metadata": {},
   "source": [
    "## Remove Joker set and rerun"
   ]
  },
  {
   "cell_type": "markdown",
   "id": "c7c30238",
   "metadata": {},
   "source": [
    "The above solution shows the possible sets we could form, with Joker in most cases. However, we only want one Joker appears in our solution. Since we want to maximize the total value on the table, we decide to choose the set with Joker that has the highest value, then remove all the tile of this set from the rack and the table, rerun the model to optimize the rest of the tiles."
   ]
  },
  {
   "cell_type": "code",
   "execution_count": 43,
   "id": "e1001f24",
   "metadata": {},
   "outputs": [],
   "source": [
    "# Max V_i*Y_i\n",
    "selected_set = []\n",
    "for j in range(J):\n",
    "    if X[j].x != 0:\n",
    "        if \"Joker\" in all_sets[j]:\n",
    "            selected_set.append(all_sets[j])\n",
    "\n",
    "best_set = selected_set[0]\n",
    "best_value = 0\n",
    "for tile in best_set:\n",
    "    if tile == \"Joker\":\n",
    "        best_value += 30\n",
    "    else:\n",
    "        best_value += tile[1]\n",
    "    \n",
    "for set_ in selected_set:\n",
    "    value = 0\n",
    "    for tile in set_:\n",
    "        if tile == \"Joker\":\n",
    "            value += 30\n",
    "        else:\n",
    "            value += tile[1]\n",
    "    if value >= best_value:\n",
    "        best_set = set_\n",
    "        best_value = value"
   ]
  },
  {
   "cell_type": "code",
   "execution_count": 44,
   "id": "20310fd8",
   "metadata": {},
   "outputs": [
    {
     "data": {
      "text/plain": [
       "[[('Black', 13), ('Red', 13), ('Orange', 13), 'Joker'],\n",
       " [('Blue', 12), ('Orange', 12), 'Joker'],\n",
       " [('Black', 12), ('Red', 12), 'Joker'],\n",
       " [('Red', 11), ('Blue', 11), 'Joker'],\n",
       " [('Black', 10), ('Blue', 10), 'Joker'],\n",
       " [('Blue', 8), ('Orange', 8), 'Joker'],\n",
       " [('Black', 2), ('Blue', 2), 'Joker'],\n",
       " [('Orange', 4), 'Joker', ('Orange', 6), ('Orange', 7)],\n",
       " [('Orange', 9), 'Joker', ('Orange', 11)],\n",
       " [('Orange', 8), 'Joker', ('Orange', 10)],\n",
       " [('Orange', 1), 'Joker', ('Orange', 3)],\n",
       " [('Blue', 7), 'Joker', ('Blue', 9)],\n",
       " ['Joker', ('Black', 10), ('Black', 11)],\n",
       " ['Joker', ('Black', 3), ('Black', 4)],\n",
       " [('Black', 1), ('Black', 2), 'Joker']]"
      ]
     },
     "execution_count": 44,
     "metadata": {},
     "output_type": "execute_result"
    }
   ],
   "source": [
    "selected_set"
   ]
  },
  {
   "cell_type": "code",
   "execution_count": 45,
   "id": "b088accf",
   "metadata": {},
   "outputs": [],
   "source": [
    "set_with_joker = best_set"
   ]
  },
  {
   "cell_type": "code",
   "execution_count": 46,
   "id": "a9cab0e9",
   "metadata": {},
   "outputs": [
    {
     "data": {
      "text/plain": [
       "[('Black', 13), ('Red', 13), ('Orange', 13), 'Joker']"
      ]
     },
     "execution_count": 46,
     "metadata": {},
     "output_type": "execute_result"
    }
   ],
   "source": [
    "set_with_joker # this is the set with the highest value and have Joker in it"
   ]
  },
  {
   "cell_type": "code",
   "execution_count": 47,
   "id": "23e78663",
   "metadata": {},
   "outputs": [
    {
     "data": {
      "text/plain": [
       "[('Orange', 1),\n",
       " ('Orange', 3),\n",
       " ('Orange', 4),\n",
       " ('Orange', 8),\n",
       " ('Blue', 2),\n",
       " ('Black', 2),\n",
       " ('Black', 10)]"
      ]
     },
     "execution_count": 47,
     "metadata": {},
     "output_type": "execute_result"
    }
   ],
   "source": [
    "new_rack = []\n",
    "for tile_ in Rack:\n",
    "    if tile_ not in best_set and tile_ != ('Joker', 30):\n",
    "        new_rack.append(tile_)\n",
    "        \n",
    "new_rack"
   ]
  },
  {
   "cell_type": "code",
   "execution_count": 48,
   "id": "3bc02ac6",
   "metadata": {},
   "outputs": [
    {
     "data": {
      "text/plain": [
       "[('Black', 1),\n",
       " ('Black', 2),\n",
       " ('Black', 3),\n",
       " ('Black', 4),\n",
       " ('Black', 10),\n",
       " ('Black', 11),\n",
       " ('Black', 12),\n",
       " ('Orange', 6),\n",
       " ('Orange', 7),\n",
       " ('Orange', 8),\n",
       " ('Orange', 9),\n",
       " ('Orange', 10),\n",
       " ('Orange', 11),\n",
       " ('Orange', 12),\n",
       " ('Blue', 7),\n",
       " ('Blue', 8),\n",
       " ('Blue', 9),\n",
       " ('Blue', 10),\n",
       " ('Blue', 11),\n",
       " ('Blue', 12),\n",
       " ('Red', 11),\n",
       " ('Red', 12)]"
      ]
     },
     "execution_count": 48,
     "metadata": {},
     "output_type": "execute_result"
    }
   ],
   "source": [
    "new_table = []\n",
    "for tile_ in Table:\n",
    "    if tile_ not in best_set and tile_ != ('Joker', 30):\n",
    "        new_table.append(tile_)\n",
    "        \n",
    "new_table"
   ]
  },
  {
   "cell_type": "markdown",
   "id": "74cb140e",
   "metadata": {},
   "source": [
    "### Set up"
   ]
  },
  {
   "cell_type": "code",
   "execution_count": 49,
   "id": "61337445",
   "metadata": {},
   "outputs": [],
   "source": [
    "three_consecutives = three_consecutive_set_no_joker\n",
    "four_consecutives = four_consecutive_sets_no_joker\n",
    "five_consecutives = five_consecutive_sets_no_joker\n",
    "three_same = three_cards_different_colors_same_value\n",
    "four_same = four_cards_different_colors_same_value\n",
    "new_sets = three_consecutives + four_consecutives + five_consecutives + three_same + four_same\n",
    "# Since there's no Joker anymore, our new sets would only be the sets without joker"
   ]
  },
  {
   "cell_type": "code",
   "execution_count": 50,
   "id": "79788cd7",
   "metadata": {},
   "outputs": [],
   "source": [
    "# Total number of tiles\n",
    "I = len(tiles_pool)\n",
    "# Total number of sets\n",
    "J = len(new_sets)"
   ]
  },
  {
   "cell_type": "markdown",
   "id": "f2d42860",
   "metadata": {},
   "source": [
    "### Objective function and decision variables"
   ]
  },
  {
   "cell_type": "code",
   "execution_count": 51,
   "id": "f3209cbe",
   "metadata": {},
   "outputs": [],
   "source": [
    "model2_1 = gb.Model(\"Rummikub-M2-Step2\")\n",
    "\n",
    "S = np.zeros((I, J))\n",
    "T = np.zeros(I)\n",
    "R = np.zeros(I)\n",
    "\n",
    "# how many times/whether a set/run combination can be formed by the tiles on table and in rack\n",
    "X = model2.addVars(J, lb = 0, ub = 2, vtype = GRB.INTEGER, \n",
    "                  name = [\"set \" + str(all_sets[j]) + \" can be placed onto the table\" for j in range(J)])\n",
    "\n",
    "# how many times a tile can be played\n",
    "Y = model2.addVars(I, lb = 0, ub = 2, vtype = GRB.INTEGER, \n",
    "                  name = [\"tile \" + str(tiles_pool[i]) + \" can be placed from your rack onto the table\" for i in range(I)])\n",
    "\n",
    "score = quicksum(Y[i] * tiles_pool[i][1] for i in range(I))\n",
    "model2.setObjective(score, GRB.MAXIMIZE)"
   ]
  },
  {
   "cell_type": "markdown",
   "id": "c431acb8",
   "metadata": {},
   "source": [
    "### Constraints"
   ]
  },
  {
   "cell_type": "code",
   "execution_count": 52,
   "id": "796d935e",
   "metadata": {},
   "outputs": [],
   "source": [
    "# frequency of each tiles appeared in rack and on table\n",
    "Counter_all_played_tiles = {}\n",
    "for tile in new_rack:\n",
    "    if tile not in Counter_all_played_tiles.keys():\n",
    "        Counter_all_played_tiles[tile] = 1\n",
    "    else:\n",
    "        Counter_all_played_tiles[tile] += 1\n",
    "\n",
    "for tile in new_table:\n",
    "    if tile not in Counter_all_played_tiles.keys():\n",
    "        Counter_all_played_tiles[tile] = 1\n",
    "    else:\n",
    "        Counter_all_played_tiles[tile] += 1"
   ]
  },
  {
   "cell_type": "code",
   "execution_count": 53,
   "id": "dbc87146",
   "metadata": {},
   "outputs": [],
   "source": [
    "# frequency of each tile appeared in rack\n",
    "Counter_rack = {}\n",
    "for tile in new_rack:\n",
    "    if tile not in Counter_rack.keys():\n",
    "        Counter_rack[tile] = 1\n",
    "    else:\n",
    "        Counter_rack += 1"
   ]
  },
  {
   "cell_type": "code",
   "execution_count": 54,
   "id": "bc921981",
   "metadata": {},
   "outputs": [],
   "source": [
    "# frequency of each tile appeared on table\n",
    "Counter_table = {}\n",
    "for tile in new_table:\n",
    "    if tile not in Counter_table.keys():\n",
    "        Counter_table[tile] = 1\n",
    "    else:\n",
    "        Counter_table[tile] += 1"
   ]
  },
  {
   "cell_type": "code",
   "execution_count": 55,
   "id": "3718b179",
   "metadata": {},
   "outputs": [],
   "source": [
    "# Rack\n",
    "for tile in new_rack:\n",
    "    i = tiles_pool.index(tile)\n",
    "    \n",
    "    # update T[i]\n",
    "    if tile in Counter_table.keys(): \n",
    "        num_table = Counter_table[tile]\n",
    "        #model1.addConstr(T[i] == num_table)\n",
    "        T[i] = num_table\n",
    "    else:\n",
    "        #model1.addConstr(T[i] == 0)\n",
    "        T[i] =0\n",
    "        \n",
    "    # update R[i]\n",
    "    num_rack = Counter_rack[tile]\n",
    "    #model1.addConstr(R[i] == num_rack)\n",
    "    R[i] = num_rack\n",
    "    \n",
    "    # update S[i, j]\n",
    "    for set_ in new_sets:\n",
    "        j = new_sets.index(set_)\n",
    "        if tile not in set_:\n",
    "            #model1.addConstr(S[i, j] == 0)\n",
    "            S[i, j] = 0\n",
    "        else:\n",
    "            #model1.addConstr(S[i, j] == 1)\n",
    "            S[i, j] = 1"
   ]
  },
  {
   "cell_type": "code",
   "execution_count": 61,
   "id": "718f2fd2",
   "metadata": {},
   "outputs": [],
   "source": [
    "# Table\n",
    "for tile in new_table:\n",
    "    i = tiles_pool.index(tile)\n",
    "    \n",
    "    # update R[i]\n",
    "    if tile in Counter_rack.keys(): \n",
    "        num_rack = Counter_rack[tile]\n",
    "        R[i] = num_rack\n",
    "    else:\n",
    "        R[i]=0\n",
    "        \n",
    "    # update T[i]\n",
    "    num_table = Counter_table[tile]\n",
    "    T[i]=num_table\n",
    "    \n",
    "    # update S[i, j]\n",
    "    for set_ in new_sets:\n",
    "        j = new_sets.index(set_)\n",
    "        if tile not in set_:\n",
    "            S[i, j]=0\n",
    "        else:\n",
    "            S[i, j]=1"
   ]
  },
  {
   "cell_type": "code",
   "execution_count": 62,
   "id": "a9636260",
   "metadata": {},
   "outputs": [],
   "source": [
    "# Account for all tiles not in rack or not on table\n",
    "not_in_rack_table = []\n",
    "for tile in tiles_pool:\n",
    "    if tile not in new_rack and tile not in new_table:\n",
    "        not_in_rack_table.append(tile)"
   ]
  },
  {
   "cell_type": "code",
   "execution_count": 64,
   "id": "f9d79e90",
   "metadata": {},
   "outputs": [],
   "source": [
    "for tile in not_in_rack_table:\n",
    "    i = tiles_pool.index(tile)\n",
    "    \n",
    "    # update T[i] and R[i]\n",
    "    T[i] = 0\n",
    "    R[i] = 0\n",
    "    \n",
    "    # update X[i] and S[i, j]\n",
    "    for set_ in new_sets:\n",
    "        \n",
    "        if tile in set_:\n",
    "            j = new_sets.index(set_)\n",
    "            model2_1.addConstr(X[j] == 0)\n",
    "            S[i, j] = 1"
   ]
  },
  {
   "cell_type": "code",
   "execution_count": 65,
   "id": "6790136b",
   "metadata": {},
   "outputs": [],
   "source": [
    "# The left-hand side adds up the number of tile i present in the sets that are finally on the table.\n",
    "# The right-hand side denotes number of tile i that are already on the table plus that are placed from \n",
    "# the rack onto the table.\n",
    "for i in range(I):\n",
    "    sx_sum = quicksum(S[i, j] * X[j] for j in range(J))\n",
    "    model2_1.addConstr(sx_sum == T[i] + Y[i])\n",
    "    \n",
    "# the number of times a tile can be played is less than the number of times the tile in the rack\n",
    "for i in range(I):\n",
    "    model2_1.addConstr(Y[i] <= R[i])"
   ]
  },
  {
   "cell_type": "markdown",
   "id": "24d61696",
   "metadata": {},
   "source": [
    "### Optimize"
   ]
  },
  {
   "cell_type": "code",
   "execution_count": 66,
   "id": "e468204c",
   "metadata": {},
   "outputs": [
    {
     "name": "stdout",
     "output_type": "stream",
     "text": [
      "Gurobi Optimizer version 10.0.3 build v10.0.3rc0 (mac64[x86])\n",
      "\n",
      "CPU model: Intel(R) Core(TM) i9-9880H CPU @ 2.30GHz\n",
      "Thread count: 8 physical cores, 16 logical processors, using up to 16 threads\n",
      "\n",
      "Optimize a model with 447 rows, 238 columns and 1127 nonzeros\n",
      "Model fingerprint: 0x42dc21f8\n",
      "Variable types: 0 continuous, 238 integer (0 binary)\n",
      "Coefficient statistics:\n",
      "  Matrix range     [1e+00, 1e+00]\n",
      "  Objective range  [1e+00, 3e+01]\n",
      "  Bounds range     [2e+00, 2e+00]\n",
      "  RHS range        [1e+00, 1e+00]\n",
      "Found heuristic solution: objective -0.0000000\n",
      "Presolve removed 447 rows and 238 columns\n",
      "Presolve time: 0.00s\n",
      "Presolve: All rows and columns removed\n",
      "\n",
      "Explored 0 nodes (0 simplex iterations) in 0.01 seconds (0.00 work units)\n",
      "Thread count was 1 (of 16 available processors)\n",
      "\n",
      "Solution count 2: 10 -0 \n",
      "\n",
      "Optimal solution found (tolerance 1.00e-04)\n",
      "Best objective 1.000000000000e+01, best bound 1.000000000000e+01, gap 0.0000%\n"
     ]
    },
    {
     "data": {
      "text/plain": [
       "2"
      ]
     },
     "execution_count": 66,
     "metadata": {},
     "output_type": "execute_result"
    }
   ],
   "source": [
    "model2_1.optimize()\n",
    "model2_1.status"
   ]
  },
  {
   "cell_type": "code",
   "execution_count": 67,
   "id": "8aaa8747",
   "metadata": {},
   "outputs": [
    {
     "data": {
      "text/plain": [
       "10.0"
      ]
     },
     "execution_count": 67,
     "metadata": {},
     "output_type": "execute_result"
    }
   ],
   "source": [
    "model2_1.objVal"
   ]
  },
  {
   "cell_type": "code",
   "execution_count": 68,
   "id": "08caf804",
   "metadata": {},
   "outputs": [
    {
     "name": "stdout",
     "output_type": "stream",
     "text": [
      "set [('Red', 9), ('Blue', 9), 'Joker', 'Joker'] can be placed onto the table 1.0\n",
      "set [('Blue', 7), ('Orange', 7), 'Joker', 'Joker'] can be placed onto the table 1.0\n",
      "set [('Red', 6), ('Blue', 6), 'Joker', 'Joker'] can be placed onto the table 1.0\n",
      "set [('Black', 13), ('Blue', 13), ('Orange', 13), 'Joker'] can be placed onto the table 1.0\n",
      "set [('Black', 11), ('Orange', 11), 'Joker'] can be placed onto the table 1.0\n",
      "set [('Red', 10), ('Blue', 10), 'Joker'] can be placed onto the table 1.0\n",
      "set [('Blue', 9), ('Orange', 9), 'Joker'] can be placed onto the table 1.0\n"
     ]
    }
   ],
   "source": [
    "for j in range(J):\n",
    "    if X[j].x != 0:\n",
    "        print(X[j].varName, X[j].x)"
   ]
  },
  {
   "cell_type": "code",
   "execution_count": 69,
   "id": "4385e334",
   "metadata": {},
   "outputs": [
    {
     "data": {
      "text/plain": [
       "[('Black', 13), ('Red', 13), ('Orange', 13), 'Joker']"
      ]
     },
     "execution_count": 69,
     "metadata": {},
     "output_type": "execute_result"
    }
   ],
   "source": [
    "set_with_joker # [('Black', 13), ('Red', 13), ('Orange', 13), 'Joker']"
   ]
  },
  {
   "cell_type": "code",
   "execution_count": 70,
   "id": "8105b322",
   "metadata": {},
   "outputs": [
    {
     "name": "stdout",
     "output_type": "stream",
     "text": [
      "tile ('Black', 10) can be placed from your rack onto the table 1.0\n"
     ]
    }
   ],
   "source": [
    "for i in range(I):\n",
    "    if Y[i].x != 0:\n",
    "        print(Y[i].varName, Y[i].x)"
   ]
  },
  {
   "cell_type": "code",
   "execution_count": null,
   "id": "0d0f0b60",
   "metadata": {},
   "outputs": [],
   "source": []
  }
 ],
 "metadata": {
  "kernelspec": {
   "display_name": "Python 3 (ipykernel)",
   "language": "python",
   "name": "python3"
  },
  "language_info": {
   "codemirror_mode": {
    "name": "ipython",
    "version": 3
   },
   "file_extension": ".py",
   "mimetype": "text/x-python",
   "name": "python",
   "nbconvert_exporter": "python",
   "pygments_lexer": "ipython3",
   "version": "3.11.5"
  }
 },
 "nbformat": 4,
 "nbformat_minor": 5
}
