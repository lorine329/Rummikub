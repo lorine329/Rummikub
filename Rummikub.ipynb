{
 "cells": [
  {
   "cell_type": "code",
   "execution_count": 1,
   "id": "4abf01f8",
   "metadata": {},
   "outputs": [],
   "source": [
    "import gurobipy as gb\n",
    "from gurobipy import *\n",
    "import numpy as np"
   ]
  },
  {
   "cell_type": "markdown",
   "id": "ee5338b3",
   "metadata": {},
   "source": [
    "# Rummikub"
   ]
  },
  {
   "cell_type": "markdown",
   "id": "f4a1a3d4",
   "metadata": {},
   "source": [
    "Rummikub is a game that combines elements of classic card games like Rummy with the strategy of tile placement. The game is played with a set of 106 tiles, with numbers ranging from 1 to 13 in four different colors (red, blue, yellow, and black). Additionally, there are two joker tiles in the set. The game is typically played by 2 to 4 players and revolves around the strategic placement and manipulation of numbered tiles. The objective of Rummikub is to be the first player to empty your rack of tiles by forming sets and runs of matching numbers. Sets consist of three or four tiles of the same number but different colors. For example, you could have a set of 3s with one red, one blue, and one black. Runs are sequences of at least three consecutive numbers of the same color. For instance, you could have a run of 4, 5, 6 in blue. The game continues until one player goes out, at which point they gain opponents' tile values, while others receive penalties determined by the remaining tiles in their racks."
   ]
  },
  {
   "cell_type": "markdown",
   "id": "fe655dc8",
   "metadata": {},
   "source": [
    "In this project, our primary objective is to address Rummikub challenges through the application of integer linear programming. Initially, we plan to focus on a two-player scenario, with the potential to expand to a four-player format if time permits. Also, if time allows, our ultimate goal is to develop an interactive online Rummikub board game, providing users with a platform for engaging gameplay."
   ]
  },
  {
   "cell_type": "markdown",
   "id": "e1d18db0",
   "metadata": {},
   "source": [
    "## Set up\n",
    "$2*4*13 + joker*2$"
   ]
  },
  {
   "cell_type": "code",
   "execution_count": 2,
   "id": "df52f7f3",
   "metadata": {},
   "outputs": [],
   "source": [
    "Deck = {\"Black\": [\"1\", \"1\", \"2\", \"2\", \"3\", \"3\", \"4\", \"4\", \"5\", \"5\", \"6\", \"6\", \n",
    "                  \"7\", \"7\", \"8\", \"8\", \"9\", \"9\", \"10\", \"10\", \"11\", \"11\", \"12\", \"12\", \"13\", \"13\"], \n",
    "        \"Red\": [\"1\", \"1\", \"2\", \"2\", \"3\", \"3\", \"4\", \"4\", \"5\", \"5\", \"6\", \"6\", \n",
    "                  \"7\", \"7\", \"8\", \"8\", \"9\", \"9\", \"10\", \"10\", \"11\", \"11\", \"12\", \"12\", \"13\", \"13\"], \n",
    "        \"Blue\": [\"1\", \"1\", \"2\", \"2\", \"3\", \"3\", \"4\", \"4\", \"5\", \"5\", \"6\", \"6\", \n",
    "                  \"7\", \"7\", \"8\", \"8\", \"9\", \"9\", \"10\", \"10\", \"11\", \"11\", \"12\", \"12\", \"13\", \"13\"], \n",
    "        \"Orange\": [\"1\", \"1\", \"2\", \"2\", \"3\", \"3\", \"4\", \"4\", \"5\", \"5\", \"6\", \"6\", \n",
    "                  \"7\", \"7\", \"8\", \"8\", \"9\", \"9\", \"10\", \"10\", \"11\", \"11\", \"12\", \"12\", \"13\", \"13\"], \n",
    "        \"Joker\": [\"J1\", \"J2\"]}"
   ]
  },
  {
   "cell_type": "code",
   "execution_count": 3,
   "id": "d0757517",
   "metadata": {},
   "outputs": [],
   "source": [
    "Penalty = {\"1\": 1, \"2\":2, \"3\":3, \"4\":4, \"5\":5, \"6\":6, \"7\":7, \"8\":8, \"9\": 9, \"10\":10, \"11\":11, \"12\":12, \n",
    "           \"13\":13, \"Joker\": 30}"
   ]
  },
  {
   "cell_type": "code",
   "execution_count": 4,
   "id": "f5bb6058",
   "metadata": {},
   "outputs": [],
   "source": [
    "# Value = [1, 1, 2, 2, 3, 3, 4, 4, 5, 5, 6, 6, 7, 7, 8, 8, 9, 9, 10, 10, 11, 11, 12, 12, 13, 13]\n",
    "# Value_matrix = Value * 4"
   ]
  },
  {
   "cell_type": "code",
   "execution_count": 5,
   "id": "354b3464",
   "metadata": {},
   "outputs": [
    {
     "name": "stdout",
     "output_type": "stream",
     "text": [
      "Set parameter Username\n",
      "Academic license - for non-commercial use only - expires 2024-08-30\n"
     ]
    }
   ],
   "source": [
    "model = gb.Model(\"Rummikub\")"
   ]
  },
  {
   "cell_type": "code",
   "execution_count": 6,
   "metadata": {},
   "outputs": [],
   "source": [
    "# Deck_types = [\"Black\", \"Black2\", \"Red1\", \"Red2\", \"Blue1\", \"Blue2\", \"Orange\", \"Orange2\"]\n",
    "# Joker_values = [\"J1\", \"J2\"]\n",
    "Deck_types = [\"Black\", \"Red\", \"Orange\", \"Blue\"]\n",
    "Deck_values = [1, 2, 3, 4, 5, 6, 7, 8, 9, 10, 11, 12, 13]\n",
    "Joker = [\"Joker\"]\n",
    "Joker_values = [\"J\"]\n"
   ]
  },
  {
   "cell_type": "code",
   "execution_count": 7,
   "metadata": {},
   "outputs": [],
   "source": [
    "# I = len(Value_matrix)\n",
    "J = 1173"
   ]
  },
  {
   "cell_type": "markdown",
   "metadata": {},
   "source": [
    "#### All Possible Sets"
   ]
  },
  {
   "cell_type": "code",
   "execution_count": 8,
   "metadata": {},
   "outputs": [],
   "source": [
    "# Adjusting the setup to consider only the deck color\n",
    "Deck_colors = [\"Black\", \"Red\", \"Blue\", \"Orange\"]\n",
    "\n",
    "# Generating all possible sets with three consecutive numbers\n",
    "# and represent each card in the set using Deck_color and Deck_values\n",
    "three_consecutive_set_no_joker = []\n",
    "\n",
    "for value in Deck_values[:-2]:  # Iterate through the values, stopping two before the end\n",
    "    for color in Deck_colors:\n",
    "        # Create a set of three consecutive cards of the same color\n",
    "        consecutive_set = [(color, value), (color, value + 1), (color, value + 2)]\n",
    "        three_consecutive_set_no_joker.append(consecutive_set)\n"
   ]
  },
  {
   "cell_type": "code",
   "execution_count": 9,
   "metadata": {},
   "outputs": [],
   "source": [
    "# Adjusting the setup to include one Joker in each set\n",
    "# The Joker can replace any one of the three cards in the set\n",
    "\n",
    "three_consecutive_set_one_joker = []\n",
    "# Iterate through each color and value, creating sets with one Joker\n",
    "for color in Deck_colors:\n",
    "    for value in Deck_values[:-2]:  # Iterate through the values, stopping two before the end\n",
    "        # For each set of three consecutive values, create three sets, each with one Joker\n",
    "        if value == 1:\n",
    "            for i in range(3):\n",
    "                consecutive_set_one_joker = [(color, value), (color, value + 1), (color, value + 2)]\n",
    "                consecutive_set_one_joker[i] = \"Joker\"  # Replace one card with a Joker\n",
    "                three_consecutive_set_one_joker.append(consecutive_set_one_joker)\n",
    "        else:\n",
    "            for i in range(2):\n",
    "                consecutive_set_one_joker = [(color, value), (color, value + 1), (color, value + 2)]\n",
    "                consecutive_set_one_joker[i] = \"Joker\"  # Replace one card with a Joker\n",
    "                three_consecutive_set_one_joker.append(consecutive_set_one_joker)\n"
   ]
  },
  {
   "cell_type": "code",
   "execution_count": 10,
   "metadata": {},
   "outputs": [],
   "source": [
    "# Adjusting the setup to include exactly two Jokers in each set\n",
    "# Each set will now consist of one card from the deck and two Jokers\n",
    "\n",
    "# Generating all possible sets with one card from the deck and two Jokers\n",
    "three_consecutive_sets_with_two_jokers = []\n",
    "\n",
    "for color in Deck_colors:\n",
    "    for value in Deck_values:  # Iterate through all values\n",
    "        # Create a set with one card from the deck and two Jokers\n",
    "        set_with_two_jokers = [(color, value), \"Joker\", \"Joker\"]\n",
    "        three_consecutive_sets_with_two_jokers.append(set_with_two_jokers)"
   ]
  },
  {
   "cell_type": "code",
   "execution_count": 11,
   "metadata": {},
   "outputs": [],
   "source": [
    "# Generating sets with four consecutive numbers, same color, and without Joker\n",
    "\n",
    "four_consecutive_sets_no_joker = []\n",
    "\n",
    "for color in Deck_colors:\n",
    "    for value in Deck_values[:-3]:  # Iterate through values, stopping three before the end\n",
    "        # Create a set of four consecutive cards of the same color\n",
    "        consecutive_set = [(color, value), (color, value + 1), (color, value + 2), (color, value + 3)]\n",
    "        four_consecutive_sets_no_joker.append(consecutive_set)"
   ]
  },
  {
   "cell_type": "code",
   "execution_count": 12,
   "metadata": {},
   "outputs": [],
   "source": [
    "four_consecutive_sets_one_joker = []\n",
    "\n",
    "for color in Deck_colors:\n",
    "    for value in Deck_values[:-3]:  # Iterate through values, stopping three before the end\n",
    "        # Create a set of four consecutive cards of the same color\n",
    "        if value == 1:\n",
    "            for i in range(4):\n",
    "                consecutive_set = [(color, value), (color, value + 1), (color, value + 2), (color, value + 3)]\n",
    "                consecutive_set[i] = \"Joker\"\n",
    "                four_consecutive_sets_one_joker.append(consecutive_set)\n",
    "        else:\n",
    "            for i in range(3):\n",
    "                consecutive_set = [(color, value), (color, value + 1), (color, value + 2), (color, value + 3)]\n",
    "                consecutive_set[i] = \"Joker\"\n",
    "                four_consecutive_sets_one_joker.append(consecutive_set)"
   ]
  },
  {
   "cell_type": "code",
   "execution_count": 13,
   "metadata": {},
   "outputs": [],
   "source": [
    "four_consecutive_sets_two_joker = []\n",
    "\n",
    "for color in Deck_colors:\n",
    "    for value in Deck_values[:-3]:  # Iterate through values, stopping three before the end\n",
    "        # Create a set of four consecutive cards of the same color\n",
    "        if value == 1:\n",
    "            for i in range(3):\n",
    "                for j in range(i+1, 4):\n",
    "                    consecutive_set = [(color, value), (color, value + 1), (color, value + 2), (color, value + 3)]\n",
    "                    consecutive_set[i] = \"Joker\"\n",
    "                    consecutive_set[j] = \"Joker\"\n",
    "                    four_consecutive_sets_two_joker.append(consecutive_set)\n",
    "        else:\n",
    "            for i in range(2):\n",
    "                for j in range(i+1, 3):\n",
    "                    consecutive_set = [(color, value), (color, value + 1), (color, value + 2), (color, value + 3)]\n",
    "                    consecutive_set[i] = \"Joker\"\n",
    "                    consecutive_set[j] = \"Joker\"\n",
    "                    four_consecutive_sets_two_joker.append(consecutive_set)"
   ]
  },
  {
   "cell_type": "code",
   "execution_count": 14,
   "metadata": {},
   "outputs": [],
   "source": [
    "# Generating sets with five consecutive numbers, same color, and without Joker\n",
    "\n",
    "five_consecutive_sets_no_joker = []\n",
    "\n",
    "for color in Deck_colors:\n",
    "    for value in Deck_values[:-4]:  # Iterate through values, stopping four before the end\n",
    "        # Create a set of five consecutive cards of the same color\n",
    "        consecutive_set = [(color, value), (color, value + 1), (color, value + 2), (color, value + 3), (color, value + 4)]\n",
    "        five_consecutive_sets_no_joker.append(consecutive_set)"
   ]
  },
  {
   "cell_type": "code",
   "execution_count": 15,
   "metadata": {},
   "outputs": [],
   "source": [
    "# Generating sets with five consecutive numbers, same color, and 1 Joker\n",
    "\n",
    "five_consecutive_sets_one_joker = []\n",
    "\n",
    "for color in Deck_colors:\n",
    "    for value in Deck_values[:-4]:  # Iterate through values, stopping four before the end\n",
    "        # Create a set of five consecutive cards of the same color\n",
    "        if value == 1:\n",
    "            for i in range(5):\n",
    "                consecutive_set = [(color, value), (color, value + 1), (color, value + 2), (color, value + 3), (color, value + 4)]\n",
    "                consecutive_set[i] = \"Joker\"\n",
    "                five_consecutive_sets_one_joker.append(consecutive_set)\n",
    "        else:\n",
    "            for i in range(4):\n",
    "                consecutive_set = [(color, value), (color, value + 1), (color, value + 2), (color, value + 3), (color, value + 4)]\n",
    "                consecutive_set[i] = \"Joker\"\n",
    "                five_consecutive_sets_one_joker.append(consecutive_set)"
   ]
  },
  {
   "cell_type": "code",
   "execution_count": 16,
   "metadata": {},
   "outputs": [],
   "source": [
    "# Generating sets with five consecutive numbers, same color, and 2 Joker\n",
    "\n",
    "five_consecutive_sets_two_joker = []\n",
    "\n",
    "for color in Deck_colors:\n",
    "    for value in Deck_values[:-4]:  # Iterate through values, stopping four before the end\n",
    "        # Create a set of five consecutive cards of the same color\n",
    "        if value == 1:\n",
    "            for i in range(4):\n",
    "                for j in range(i+1, 5):\n",
    "                    consecutive_set = [(color, value), (color, value + 1), (color, value + 2), (color, value + 3), (color, value + 4)]\n",
    "                    consecutive_set[i] = \"Joker\"\n",
    "                    consecutive_set[j] = \"Joker\"\n",
    "                    five_consecutive_sets_two_joker.append(consecutive_set)\n",
    "        else:\n",
    "            for i in range(3):\n",
    "                for j in range(i+1, 4):\n",
    "                    consecutive_set = [(color, value), (color, value + 1), (color, value + 2), (color, value + 3), (color, value + 4)]\n",
    "                    consecutive_set[i] = \"Joker\"\n",
    "                    consecutive_set[j] = \"Joker\"\n",
    "                    five_consecutive_sets_two_joker.append(consecutive_set)"
   ]
  },
  {
   "cell_type": "code",
   "execution_count": 17,
   "metadata": {},
   "outputs": [],
   "source": [
    "# Generating sets of three cards, each from a different color, without Jokers, and all cards having the same value\n",
    "\n",
    "three_cards_different_colors_same_value = []\n",
    "\n",
    "for value in Deck_values:\n",
    "    # Iterate through combinations of three different colors\n",
    "    for i in range(len(Deck_colors)):\n",
    "        for j in range(i + 1, len(Deck_colors)):\n",
    "            for k in range(j + 1, len(Deck_colors)):\n",
    "                # Create a set with one card from each of the three different colors, all with the same value\n",
    "                set_of_three = [(Deck_colors[i], value), (Deck_colors[j], value), (Deck_colors[k], value)]\n",
    "                three_cards_different_colors_same_value.append(set_of_three)"
   ]
  },
  {
   "cell_type": "code",
   "execution_count": 18,
   "metadata": {},
   "outputs": [],
   "source": [
    "# Generating sets of three cards, each from a different color, 1 Jokers, and all cards having the same value\n",
    "\n",
    "three_cards_different_colors_1_joker = []\n",
    "\n",
    "for value in Deck_values:\n",
    "    # Iterate through combinations of three different colors\n",
    "    for i in range(len(Deck_colors)):\n",
    "        for j in range(i + 1, len(Deck_colors)):\n",
    "            # Create a set with one card from each of the three different colors, all with the same value\n",
    "            set_of_three = [(Deck_colors[i], value), (Deck_colors[j], value), \"Joker\"]\n",
    "            three_cards_different_colors_1_joker.append(set_of_three)"
   ]
  },
  {
   "cell_type": "code",
   "execution_count": 19,
   "metadata": {},
   "outputs": [],
   "source": [
    "four_cards_different_colors_same_value = []\n",
    "\n",
    "for value in Deck_values:\n",
    "    # Iterate through combinations of three different colors\n",
    "    set_of_four = [(Deck_colors[0], value), (Deck_colors[1], value), (Deck_colors[2], value), (Deck_colors[3], value)]\n",
    "    four_cards_different_colors_same_value.append(set_of_four)"
   ]
  },
  {
   "cell_type": "code",
   "execution_count": 20,
   "metadata": {},
   "outputs": [],
   "source": [
    "# Generating sets of four cards, each from a different color, 1 Jokers, and all cards having the same value\n",
    "\n",
    "four_cards_different_colors_1_joker = []\n",
    "\n",
    "for value in Deck_values:\n",
    "    # Iterate through combinations of three different colors\n",
    "    for i in range(len(Deck_colors)):\n",
    "        for j in range(i + 1, len(Deck_colors)):\n",
    "            for k in range(j + 1, len(Deck_colors)):\n",
    "                # Create a set with one card from each of the three different colors, all with the same value\n",
    "                set_of_four = [(Deck_colors[i], value), (Deck_colors[j], value), (Deck_colors[k], value), \"Joker\"]\n",
    "                four_cards_different_colors_1_joker.append(set_of_four)"
   ]
  },
  {
   "cell_type": "code",
   "execution_count": 21,
   "metadata": {},
   "outputs": [],
   "source": [
    "# Generating sets of four cards, each from a different color, 2 Jokers, and all cards having the same value\n",
    "\n",
    "four_cards_different_colors_2_joker = []\n",
    "\n",
    "for value in Deck_values:\n",
    "    # Iterate through combinations of three different colors\n",
    "    for i in range(len(Deck_colors)):\n",
    "        for j in range(i + 1, len(Deck_colors)):\n",
    "            # Create a set with one card from each of the three different colors, all with the same value\n",
    "            set_of_four = [(Deck_colors[i], value), (Deck_colors[j], value), \"Joker\", \"Joker\"]\n",
    "            four_cards_different_colors_2_joker.append(set_of_four)"
   ]
  },
  {
   "cell_type": "code",
   "execution_count": 22,
   "metadata": {},
   "outputs": [],
   "source": [
    "three_consecutives = three_consecutive_set_no_joker + three_consecutive_set_one_joker + three_consecutive_sets_with_two_jokers\n",
    "four_consecutives = four_consecutive_sets_no_joker + four_consecutive_sets_one_joker + four_consecutive_sets_two_joker\n",
    "five_consecutives = five_consecutive_sets_no_joker + five_consecutive_sets_one_joker + five_consecutive_sets_two_joker\n",
    "three_same = three_cards_different_colors_same_value + three_cards_different_colors_1_joker\n",
    "four_same = four_cards_different_colors_same_value + four_cards_different_colors_1_joker + four_cards_different_colors_2_joker\n",
    "all_sets = three_consecutives + four_consecutives + five_consecutives + three_same + four_same"
   ]
  },
  {
   "cell_type": "code",
   "execution_count": 23,
   "metadata": {},
   "outputs": [
    {
     "data": {
      "text/plain": [
       "1173"
      ]
     },
     "execution_count": 23,
     "metadata": {},
     "output_type": "execute_result"
    }
   ],
   "source": [
    "len(all_sets)"
   ]
  },
  {
   "cell_type": "code",
   "execution_count": 45,
   "metadata": {},
   "outputs": [
    {
     "data": {
      "text/plain": [
       "988"
      ]
     },
     "execution_count": 45,
     "metadata": {},
     "output_type": "execute_result"
    }
   ],
   "source": [
    "joker_sets = three_consecutive_set_one_joker + three_consecutive_sets_with_two_jokers + four_consecutive_sets_one_joker + \\\n",
    "    four_consecutive_sets_two_joker + five_consecutive_sets_one_joker + five_consecutive_sets_two_joker + \\\n",
    "        three_cards_different_colors_1_joker + four_cards_different_colors_1_joker + four_cards_different_colors_2_joker\n",
    "J_joker = len(joker_sets)\n",
    "J_joker"
   ]
  },
  {
   "cell_type": "code",
   "execution_count": 46,
   "metadata": {},
   "outputs": [
    {
     "data": {
      "text/plain": [
       "185"
      ]
     },
     "execution_count": 46,
     "metadata": {},
     "output_type": "execute_result"
    }
   ],
   "source": [
    "regular_sets = three_consecutive_set_no_joker + four_consecutive_sets_no_joker + five_consecutive_sets_no_joker + \\\n",
    "    three_cards_different_colors_same_value + four_cards_different_colors_same_value\n",
    "J_reg = len(regular_sets)\n",
    "J_reg"
   ]
  },
  {
   "cell_type": "code",
   "execution_count": 65,
   "metadata": {},
   "outputs": [
    {
     "data": {
      "text/plain": [
       "[('Black', 4), ('Black', 5), ('Black', 6)]"
      ]
     },
     "execution_count": 65,
     "metadata": {},
     "output_type": "execute_result"
    }
   ],
   "source": [
    "regular_sets[12]"
   ]
  },
  {
   "cell_type": "code",
   "execution_count": 64,
   "metadata": {},
   "outputs": [
    {
     "data": {
      "text/plain": [
       "True"
      ]
     },
     "execution_count": 64,
     "metadata": {},
     "output_type": "execute_result"
    }
   ],
   "source": [
    "('Orange', 4) in regular_sets[15]\n"
   ]
  },
  {
   "cell_type": "code",
   "execution_count": 66,
   "metadata": {},
   "outputs": [
    {
     "name": "stdout",
     "output_type": "stream",
     "text": [
      "Black 1\n",
      "Black 2\n",
      "Black 3\n",
      "Black 4\n",
      "Black 5\n",
      "Black 6\n",
      "Black 7\n",
      "Black 8\n",
      "Black 9\n",
      "Black 10\n",
      "Black 11\n",
      "Black 12\n",
      "Black 13\n",
      "Red 1\n",
      "Red 2\n",
      "Red 3\n",
      "Red 4\n",
      "Red 5\n",
      "Red 6\n",
      "Red 7\n",
      "Red 8\n",
      "Red 9\n",
      "Red 10\n",
      "Red 11\n",
      "Red 12\n",
      "Red 13\n",
      "Orange 1\n",
      "Orange 2\n",
      "Orange 3\n",
      "Orange 4\n",
      "Orange 5\n",
      "Orange 6\n",
      "Orange 7\n",
      "Orange 8\n",
      "Orange 9\n",
      "Orange 10\n",
      "Orange 11\n",
      "Orange 12\n",
      "Orange 13\n",
      "Blue 1\n",
      "Blue 2\n",
      "Blue 3\n",
      "Blue 4\n",
      "Blue 5\n",
      "Blue 6\n",
      "Blue 7\n",
      "Blue 8\n",
      "Blue 9\n",
      "Blue 10\n",
      "Blue 11\n",
      "Blue 12\n",
      "Blue 13\n"
     ]
    }
   ],
   "source": [
    "for dt in Deck_types:\n",
    "    for dv in Deck_values:\n",
    "        for j in range(J_reg):\n",
    "            if (dt, dv) in J_reg[j]:\n",
    "                model.addVars(dt, dv, )\n"
   ]
  },
  {
   "cell_type": "markdown",
   "id": "770ed55a",
   "metadata": {},
   "source": [
    "## Decision variables"
   ]
  },
  {
   "cell_type": "code",
   "execution_count": 24,
   "metadata": {},
   "outputs": [],
   "source": [
    "S_reg = model.addVars(Deck_types, Deck_values, J_reg, vtype = GRB.BINARY, \n",
    "                  name = [\"tile \"+ dt + \" \" + str(dv) + \" is in set \" + str(regular_sets[j]) \n",
    "                          for dt in Deck_types for dv in Deck_values for j in range(J_reg)])\n",
    "S_jok = model.addVars(Joker, Joker_values, J_joker, vtype = GRB.BINARY, \n",
    "                      name = [\"tile Joker \" + dv + \" is in set \" + str(joker_sets[j])\n",
    "                              for dt in Joker for dv in Joker_values for j in range(J_joker)])"
   ]
  },
  {
   "cell_type": "code",
   "execution_count": 25,
   "metadata": {},
   "outputs": [],
   "source": [
    "T_reg = model.addVars(Deck_types, Deck_values, lb = 0, ub = 2, vtype = GRB.INTEGER, \n",
    "                  name = [\"times of tile \" + dt + \" \" + str(dv) + \" on the table\" for dt in Deck_types for dv in Deck_values])\n",
    "T_jok = model.addVars(Joker, Joker_values, lb = 0, ub = 2, vtype = GRB.INTEGER, \n",
    "                  name = [\"times of tile Joker \" + dv + \"on the table\" for dt in Joker for dv in Joker_values])"
   ]
  },
  {
   "cell_type": "code",
   "execution_count": 26,
   "metadata": {},
   "outputs": [],
   "source": [
    "R_reg = model.addVars(Deck_types, Deck_values, lb = 0, ub = 2, vtype = GRB.INTEGER, \n",
    "                   name = [\"times of tile \" + dt + \" \" + str(dv) +\" on your rack\" for dt in Deck_types for dv in Deck_values])\n",
    "R_jok = model.addVars(Joker, Joker_values, lb = 0, ub = 2, vtype = GRB.INTEGER, \n",
    "                  name = [\"times of tile Joker\" + dv +\"on your rack\" for dt in Joker for dv in Joker_values])"
   ]
  },
  {
   "cell_type": "code",
   "execution_count": 27,
   "id": "04fc7cc6",
   "metadata": {},
   "outputs": [],
   "source": [
    "Y_reg = model.addVars(Deck_types, Deck_values, lb = 0, ub = 2, vtype = GRB.INTEGER, \n",
    "                  name = [\"times of tile \"+ dt + \" \" + str(dv) +\" can be placed from your rack onto the table\" \n",
    "                          for dt in Deck_types for dv in Deck_values])\n",
    "Y_jok = model.addVars(Joker, Joker_values, lb = 0, ub = 2, vtype = GRB.INTEGER, \n",
    "                  name = [\"times of tile Joker \" + dv +\" can be placed from your rack onto the table\" \n",
    "                          for dv in Joker_values])"
   ]
  },
  {
   "cell_type": "code",
   "execution_count": 28,
   "metadata": {},
   "outputs": [],
   "source": [
    "X = model.addVars(J, lb = 0, ub = 2, vtype = GRB.INTEGER, \n",
    "                  name = [\"times of set \"+str(all_sets[j])+\" can be placed onto the table\" for j in range(J)])"
   ]
  },
  {
   "cell_type": "code",
   "execution_count": 29,
   "metadata": {},
   "outputs": [],
   "source": [
    "# W = model.addVars(J, lb = 0, ub = 2, vtype = GRB.INTEGER, \n",
    "#                   name = [\"times of set \"+str(j+1)+\" on the table\" for j in range(J)])\n",
    "# M = 40\n",
    "# Z = model.addVars(J, lb = 0, ub = 2, vtype = GRB.INTEGER, \n",
    "#                   name = [\"times of set \"+str(j+1)+\" occurs in the old and in the new solution\" for j in range(J)])"
   ]
  },
  {
   "cell_type": "markdown",
   "id": "564ff9da",
   "metadata": {},
   "source": [
    "## Objective function"
   ]
  },
  {
   "cell_type": "code",
   "execution_count": 30,
   "id": "dd14f8bf",
   "metadata": {},
   "outputs": [],
   "source": [
    "# model.setObjective(quicksum(Value[i] * Y[i] for i in range(I)) + 1/M * quicksum(Z[j] for j in range(J)), GRB.MAXIMIZE)\n",
    "exp1 = quicksum(Deck_values[value-1] * Y_reg[types, value] for types in Deck_types for value in Deck_values)\n",
    "exp2 = quicksum(Y_jok) * 30\n",
    "model.setObjective(exp1 + exp2, GRB.MAXIMIZE)"
   ]
  },
  {
   "cell_type": "markdown",
   "id": "caae869e",
   "metadata": {},
   "source": [
    "## Constraints"
   ]
  },
  {
   "cell_type": "code",
   "execution_count": 31,
   "id": "e39df400",
   "metadata": {},
   "outputs": [],
   "source": [
    "# how many times a tile is on the table\n",
    "model.addConstrs(quicksum(S_reg[types, value, j] * X[j] for j in range(J)) == T_reg[types, value] + Y_reg[types, value] \n",
    "                 for types in Deck_types for value in Deck_values)\n",
    "model.addConstr(quicksum(quicksum(S_jok) * X[j] for j in range(J)) == quicksum(T_jok) + quicksum(Y_jok))\n",
    "#model.addConstrs(quicksum(S[i, j]*X[j] for j in range(J)) == T[i] + Y[i] for i in range(I))\n",
    "model.update()"
   ]
  },
  {
   "cell_type": "code",
   "execution_count": 32,
   "id": "b082268f",
   "metadata": {},
   "outputs": [
    {
     "data": {
      "text/plain": [
       "{'J': <gurobi.Constr *Awaiting Model Update*>}"
      ]
     },
     "execution_count": 32,
     "metadata": {},
     "output_type": "execute_result"
    }
   ],
   "source": [
    "# number of times moved from rack to table <= number of times on the rack\n",
    "model.addConstrs(Y_reg[dt, dv] <= R_reg[dt, dv] for dt in Deck_types for dv in Deck_values)\n",
    "model.addConstrs(Y_jok[\"Joker\", dv] <= R_jok[\"Joker\", dv] for dv in Joker_values)"
   ]
  },
  {
   "cell_type": "code",
   "execution_count": 33,
   "metadata": {},
   "outputs": [],
   "source": [
    "# number of times a set in a solution <= number of times a set being placed on the table\n",
    "# model.addConstrs(Z[j] <= X[j] for j in range(J))\n",
    "# number of times a set in a solution <= number of times a set on the table\n",
    "# model.addConstrs(Z[j] <= W[j] for j in range(J))"
   ]
  },
  {
   "cell_type": "code",
   "execution_count": 34,
   "metadata": {},
   "outputs": [
    {
     "data": {
      "text/plain": [
       "41"
      ]
     },
     "execution_count": 34,
     "metadata": {},
     "output_type": "execute_result"
    }
   ],
   "source": [
    "all_sets.index([('Red', 11), ('Red', 12), ('Red', 13)])"
   ]
  },
  {
   "cell_type": "code",
   "execution_count": 35,
   "metadata": {},
   "outputs": [
    {
     "data": {
      "text/plain": [
       "[('Blue', 10), ('Blue', 11), ('Blue', 12)]"
      ]
     },
     "execution_count": 35,
     "metadata": {},
     "output_type": "execute_result"
    }
   ],
   "source": [
    "all_sets[38]"
   ]
  },
  {
   "cell_type": "code",
   "execution_count": 36,
   "metadata": {},
   "outputs": [],
   "source": [
    "# assuming this is the last step before end of the game\n",
    "# thus no more tile drawing \n",
    "model.addConstr(S_reg[\"Black\", 1, 188] == 1) # tiles in set\n",
    "model.addConstr(T_reg[\"Black\", 1] >= 1) # times of tile on the table\n",
    "model.addConstr(Y_reg[\"Black\", 1] == 0) # times of tile can be placed from rack to table\n",
    "model.addConstr(R_reg[\"Black\", 1] == 1) # times of tile on your rack\n",
    "\n",
    "model.addConstr(S_reg[\"Black\", 2, 188] == 1)\n",
    "model.addConstr(T_reg[\"Black\", 2] >= 1)\n",
    "model.addConstr(Y_reg[\"Black\", 2] == 1) # original one card on table, now another one on rack, == 1\n",
    "model.addConstr(R_reg[\"Black\", 2] >= 1)\n",
    "\n",
    "model.addConstr(S_reg[\"Black\", 3, 188] == 1)\n",
    "model.addConstr(T_reg[\"Black\", 3] >= 1)\n",
    "model.addConstr(Y_reg[\"Black\", 3] == 0)\n",
    "model.addConstr(R_reg[\"Black\", 3] == 1)\n",
    "\n",
    "model.addConstr(S_reg[\"Black\", 4, 188] == 1)\n",
    "model.addConstr(T_reg[\"Black\", 4] >= 1)\n",
    "model.addConstr(Y_reg[\"Black\", 4] == 0)\n",
    "model.addConstr(R_reg[\"Black\", 4] == 1)\n",
    "\n",
    "model.addConstr(S_reg[\"Black\", 10, 36] == 1)\n",
    "model.addConstr(T_reg[\"Black\", 10] >= 1)\n",
    "model.addConstr(Y_reg[\"Black\", 10] == 1) # original one card on table, now another one on rack, == 1\n",
    "model.addConstr(R_reg[\"Black\", 10] >= 1)\n",
    "\n",
    "model.addConstr(S_reg[\"Black\", 11, 36] == 1)\n",
    "model.addConstr(T_reg[\"Black\", 11] >= 1)\n",
    "model.addConstr(Y_reg[\"Black\", 11] == 0)\n",
    "model.addConstr(R_reg[\"Black\", 11] == 1)\n",
    "\n",
    "model.addConstr(S_reg[\"Black\", 12, 36] == 1)\n",
    "model.addConstr(T_reg[\"Black\", 12] >= 1)\n",
    "model.addConstr(Y_reg[\"Black\", 12] == 0)\n",
    "model.addConstr(R_reg[\"Black\", 12] == 1)\n",
    "\n",
    "model.addConstr(S_reg[\"Orange\", 6, 23] == 1)\n",
    "model.addConstr(T_reg[\"Orange\", 6] >= 1)\n",
    "model.addConstr(Y_reg[\"Orange\", 6] == 0)\n",
    "model.addConstr(R_reg[\"Orange\", 6] == 1)\n",
    "\n",
    "model.addConstr(S_reg[\"Orange\", 7, 23] == 1)\n",
    "model.addConstr(T_reg[\"Orange\", 7] >= 1)\n",
    "model.addConstr(Y_reg[\"Orange\", 7] == 0)\n",
    "model.addConstr(R_reg[\"Orange\", 7] == 1)\n",
    "\n",
    "model.addConstr(S_reg[\"Orange\", 8, 23] == 1)\n",
    "model.addConstr(T_reg[\"Orange\", 8] >= 1)\n",
    "model.addConstr(Y_reg[\"Orange\", 8] == 1) # original one card on table, now another one on rack, == 1\n",
    "model.addConstr(R_reg[\"Orange\", 8] >= 1)\n",
    "\n",
    "model.addConstr(S_reg[\"Orange\", 9, 519] == 1)\n",
    "model.addConstr(T_reg[\"Orange\", 9] >= 1)\n",
    "model.addConstr(Y_reg[\"Orange\", 9] == 0)\n",
    "model.addConstr(R_reg[\"Orange\", 9] == 1)\n",
    "\n",
    "model.addConstr(S_reg[\"Orange\", 10, 519] == 1)\n",
    "model.addConstr(T_reg[\"Orange\", 10] >= 1)\n",
    "model.addConstr(Y_reg[\"Orange\", 10] == 0)\n",
    "model.addConstr(R_reg[\"Orange\", 10] == 1)\n",
    "\n",
    "model.addConstr(S_reg[\"Orange\", 11, 519] == 1)\n",
    "model.addConstr(T_reg[\"Orange\", 11] >= 1)\n",
    "model.addConstr(Y_reg[\"Orange\", 11] == 0)\n",
    "model.addConstr(R_reg[\"Orange\", 11] == 1)\n",
    "\n",
    "model.addConstr(S_reg[\"Orange\", 12, 519] == 1)\n",
    "model.addConstr(T_reg[\"Orange\", 12] >= 1)\n",
    "model.addConstr(Y_reg[\"Orange\", 12] == 0)\n",
    "model.addConstr(R_reg[\"Orange\", 12] == 1)\n",
    "\n",
    "model.addConstr(S_reg[\"Orange\", 13, 519] == 1)\n",
    "model.addConstr(T_reg[\"Orange\", 13] >= 1)\n",
    "model.addConstr(Y_reg[\"Orange\", 13] == 0)\n",
    "model.addConstr(R_reg[\"Orange\", 13] == 1)\n",
    "\n",
    "model.addConstr(S_reg[\"Blue\", 7, 26] == 1)\n",
    "model.addConstr(T_reg[\"Blue\", 7] >= 1)\n",
    "model.addConstr(Y_reg[\"Blue\", 7] == 0)\n",
    "model.addConstr(R_reg[\"Blue\", 7] == 1)\n",
    "\n",
    "model.addConstr(S_reg[\"Blue\", 8, 26] == 1)\n",
    "model.addConstr(T_reg[\"Blue\", 8] >= 1)\n",
    "model.addConstr(Y_reg[\"Blue\", 8] == 0)\n",
    "model.addConstr(R_reg[\"Blue\", 8] == 1)\n",
    "\n",
    "model.addConstr(S_reg[\"Blue\", 9, 26] == 1)\n",
    "model.addConstr(T_reg[\"Blue\", 9] >= 1)\n",
    "model.addConstr(Y_reg[\"Blue\", 9] == 0)\n",
    "model.addConstr(R_reg[\"Blue\", 9] == 1)\n",
    "\n",
    "model.addConstr(S_reg[\"Blue\", 10, 38] == 1)\n",
    "model.addConstr(T_reg[\"Blue\", 10] >= 1)\n",
    "model.addConstr(Y_reg[\"Blue\", 10] == 0)\n",
    "model.addConstr(R_reg[\"Blue\", 10] == 1)\n",
    "\n",
    "model.addConstr(S_reg[\"Blue\", 11, 38] == 1)\n",
    "model.addConstr(T_reg[\"Blue\", 11] >= 1)\n",
    "model.addConstr(Y_reg[\"Blue\", 11] == 0)\n",
    "model.addConstr(R_reg[\"Blue\", 11] == 1)\n",
    "\n",
    "model.addConstr(S_reg[\"Blue\", 12, 38] == 1)\n",
    "model.addConstr(T_reg[\"Blue\", 12] >= 1)\n",
    "model.addConstr(Y_reg[\"Blue\", 12] == 0)\n",
    "model.addConstr(R_reg[\"Blue\", 12] == 1)\n",
    "\n",
    "model.addConstr(S_reg[\"Red\", 11, 41] == 1)\n",
    "model.addConstr(T_reg[\"Red\", 11] >= 1)\n",
    "model.addConstr(Y_reg[\"Red\", 11] == 0)\n",
    "model.addConstr(R_reg[\"Red\", 11] == 1)\n",
    "\n",
    "model.addConstr(S_reg[\"Red\", 12, 41] == 1)\n",
    "model.addConstr(T_reg[\"Red\", 12] >= 1)\n",
    "model.addConstr(Y_reg[\"Red\", 12] == 0)\n",
    "model.addConstr(R_reg[\"Red\", 12] == 1)\n",
    "\n",
    "model.addConstr(S_reg[\"Red\", 13, 41] == 1)\n",
    "model.addConstr(T_reg[\"Red\", 13] >= 1)\n",
    "model.addConstr(Y_reg[\"Red\", 13] == 0)\n",
    "model.addConstr(R_reg[\"Red\", 13] == 1)\n",
    "\n",
    "for i in [188, 36, 23, 519, 26, 38, 41]:\n",
    "    model.addConstr(X[i] <= 1)"
   ]
  },
  {
   "cell_type": "code",
   "execution_count": 37,
   "metadata": {},
   "outputs": [
    {
     "data": {
      "text/plain": [
       "<gurobi.Constr *Awaiting Model Update*>"
      ]
     },
     "execution_count": 37,
     "metadata": {},
     "output_type": "execute_result"
    }
   ],
   "source": [
    "model.addConstr(R_reg[\"Orange\", 1] >= 1)\n",
    "model.addConstr(Y_reg[\"Orange\", 1] <= 1)\n",
    "\n",
    "model.addConstr(R_reg[\"Orange\", 3] >= 1)\n",
    "model.addConstr(Y_reg[\"Orange\", 3] <= 1)\n",
    "\n",
    "model.addConstr(R_reg[\"Orange\", 4] >= 1)\n",
    "model.addConstr(Y_reg[\"Orange\", 4] <= 1)\n",
    "\n",
    "model.addConstr(R_reg[\"Orange\", 8] == 2)\n",
    "# model.addConstr(Y_reg[\"Orange\", 8] <= 1)\n",
    "\n",
    "model.addConstr(R_reg[\"Blue\", 2] >= 1)\n",
    "model.addConstr(Y_reg[\"Blue\", 2] <= 1)\n",
    "\n",
    "model.addConstr(R_reg[\"Black\", 2] == 2)\n",
    "# model.addConstr(Y_reg[\"Black\", 2] <= 1) # already set in the cell above\n",
    "\n",
    "model.addConstr(R_reg[\"Black\", 10] == 2)\n",
    "# model.addConstr(Y_reg[\"Black\", 10] <= 1)\n",
    "\n",
    "model.addConstr(R_reg[\"Black\", 13] >= 1)\n",
    "model.addConstr(Y_reg[\"Black\", 13] <= 1)\n",
    "\n",
    "model.addConstr(R_jok[\"Joker\", \"J\"] >= 1)\n",
    "model.addConstr(Y_jok[\"Joker\", \"J\"] <= 1)"
   ]
  },
  {
   "cell_type": "markdown",
   "id": "38811f7f",
   "metadata": {},
   "source": [
    "## Optimize"
   ]
  },
  {
   "cell_type": "code",
   "execution_count": 38,
   "metadata": {},
   "outputs": [],
   "source": [
    "# model.params.BestObjStop = 331"
   ]
  },
  {
   "cell_type": "code",
   "execution_count": 39,
   "id": "bc8bb3ff",
   "metadata": {},
   "outputs": [
    {
     "name": "stdout",
     "output_type": "stream",
     "text": [
      "Gurobi Optimizer version 10.0.3 build v10.0.3rc0 (mac64[x86])\n",
      "\n",
      "CPU model: Intel(R) Core(TM) i9-9880H CPU @ 2.30GHz\n",
      "Thread count: 8 physical cores, 16 logical processors, using up to 16 threads\n",
      "\n",
      "Optimize a model with 171 rows, 63501 columns and 224 nonzeros\n",
      "Model fingerprint: 0xaa33b677\n",
      "Model has 53 quadratic constraints\n",
      "Variable types: 0 continuous, 63501 integer (62169 binary)\n",
      "Coefficient statistics:\n",
      "  Matrix range     [1e+00, 1e+00]\n",
      "  QMatrix range    [1e+00, 1e+00]\n",
      "  QLMatrix range   [1e+00, 1e+00]\n",
      "  Objective range  [1e+00, 3e+01]\n",
      "  Bounds range     [1e+00, 2e+00]\n",
      "  RHS range        [1e+00, 2e+00]\n",
      "Presolve removed 171 rows and 101 columns\n",
      "Presolve time: 2.22s\n",
      "Presolved: 4310756 rows, 1500301 columns, 11495314 nonzeros\n",
      "Variable types: 0 continuous, 1500301 integer (70709 binary)\n",
      "Found heuristic solution: objective 172.0000000\n",
      "\n",
      "Deterministic concurrent LP optimizer: primal simplex, dual simplex, and barrier\n",
      "Showing barrier log only...\n",
      "\n",
      "Root barrier log...\n",
      "\n",
      "Ordering time: 0.00s\n",
      "\n",
      "Barrier statistics:\n",
      " AA' NZ     : 1.622e+03\n",
      " Factor NZ  : 5.118e+03\n",
      " Factor Ops : 2.174e+05 (less than 1 second per iteration)\n",
      " Threads    : 1\n",
      "\n",
      "                  Objective                Residual\n",
      "Iter       Primal          Dual         Primal    Dual     Compl     Time\n",
      "   0   1.05394638e+05  1.01768046e+07  8.50e-01 2.14e+04  9.72e+04   101s\n",
      "   1   3.16105479e+04  4.69802523e+06  3.21e-01 7.28e-11  1.84e+04   101s\n",
      "   2   4.54314337e+03  5.90089479e+05  4.36e-02 1.46e-10  1.86e+03   101s\n",
      "   3   3.48207148e+02  6.01741431e+04  8.84e-04 1.82e-10  1.40e+02   101s\n",
      "   4   2.63889694e+02  5.03220792e+02  5.72e-17 1.89e-10  5.46e-01   101s\n",
      "   5   3.28694960e+02  3.32771307e+02  3.47e-17 1.09e-11  9.31e-03   101s\n",
      "   6   3.30997708e+02  3.31001978e+02  5.38e-17 9.10e-14  9.75e-06   101s\n",
      "   7   3.30999998e+02  3.31000002e+02  5.38e-17 1.14e-13  9.75e-09   101s\n",
      "   8   3.31000000e+02  3.31000000e+02  3.82e-17 2.27e-13  9.75e-12   101s\n",
      "\n",
      "Barrier solved model in 8 iterations and 101.46 seconds (74.01 work units)\n",
      "Optimal objective 3.31000000e+02\n",
      "\n",
      "\n",
      "Root crossover log...\n",
      "\n",
      "      23 DPushes remaining with DInf 0.0000000e+00               101s\n",
      "       0 DPushes remaining with DInf 0.0000000e+00               101s\n",
      "\n",
      "     124 PPushes remaining with PInf 0.0000000e+00               101s\n",
      "       0 PPushes remaining with PInf 0.0000000e+00               101s\n",
      "\n",
      "  Push phase complete: Pinf 0.0000000e+00, Dinf 0.0000000e+00    101s\n",
      "\n",
      "\n",
      "Root simplex log...\n",
      "\n",
      "Iteration    Objective       Primal Inf.    Dual Inf.      Time\n",
      "     144    3.3100000e+02   0.000000e+00   0.000000e+00    101s\n",
      "     144    3.3100000e+02   0.000000e+00   0.000000e+00    101s\n",
      "\n",
      "Use crossover to convert LP symmetric solution to basic solution...\n",
      "\n",
      "Root crossover log...\n",
      "\n",
      "       0 DPushes remaining with DInf 0.0000000e+00               106s\n",
      "\n",
      "    3668 PPushes remaining with PInf 0.0000000e+00               106s\n",
      "       0 PPushes remaining with PInf 0.0000000e+00               111s\n",
      "\n",
      "  Push phase complete: Pinf 0.0000000e+00, Dinf 0.0000000e+00    112s\n",
      "\n",
      "\n",
      "Root simplex log...\n",
      "\n",
      "Iteration    Objective       Primal Inf.    Dual Inf.      Time\n",
      "    3815    3.3100000e+02   0.000000e+00   0.000000e+00    113s\n",
      "    3815    3.3100000e+02   0.000000e+00   0.000000e+00    117s\n",
      "Concurrent spin time: 0.30s\n",
      "\n",
      "Solved with barrier\n",
      "\n",
      "Interrupt request received\n",
      "\n",
      "Root relaxation: objective 3.310000e+02, 3815 iterations, 33.05 seconds (17.50 work units)\n",
      "Total elapsed time = 118.54s\n",
      "\n",
      "    Nodes    |    Current Node    |     Objective Bounds      |     Work\n",
      " Expl Unexpl |  Obj  Depth IntInf | Incumbent    BestBd   Gap | It/Node Time\n",
      "\n",
      "     0     0  331.00000    0 3699  172.00000  331.00000  92.4%     -  121s\n",
      "\n",
      "Explored 1 nodes (3815 simplex iterations) in 122.05 seconds (85.80 work units)\n",
      "Thread count was 16 (of 16 available processors)\n",
      "\n",
      "Solution count 1: 172 \n",
      "\n",
      "Solve interrupted\n",
      "Best objective 1.720000000000e+02, best bound 3.310000000000e+02, gap 92.4419%\n"
     ]
    },
    {
     "data": {
      "text/plain": [
       "11"
      ]
     },
     "execution_count": 39,
     "metadata": {},
     "output_type": "execute_result"
    }
   ],
   "source": [
    "model.optimize()\n",
    "model.status"
   ]
  },
  {
   "cell_type": "code",
   "execution_count": 40,
   "metadata": {},
   "outputs": [
    {
     "data": {
      "text/plain": [
       "172.0"
      ]
     },
     "execution_count": 40,
     "metadata": {},
     "output_type": "execute_result"
    }
   ],
   "source": [
    "model.ObjVal"
   ]
  },
  {
   "cell_type": "code",
   "execution_count": 41,
   "metadata": {},
   "outputs": [
    {
     "name": "stdout",
     "output_type": "stream",
     "text": [
      "tile Black 1 is in set [('Black', 1), ('Black', 2), ('Black', 3), ('Black', 4)] 1.0\n",
      "tile Black 2 is in set [('Black', 1), ('Black', 2), ('Black', 3), ('Black', 4)] 1.0\n",
      "tile Black 2 is in set [('Orange', 9), ('Orange', 10), ('Orange', 11), ('Orange', 12), ('Orange', 13)] 1.0\n",
      "tile Black 3 is in set [('Black', 1), ('Black', 2), ('Black', 3), ('Black', 4)] 1.0\n",
      "tile Black 4 is in set [('Black', 1), ('Black', 2), ('Black', 3), ('Black', 4)] 1.0\n",
      "tile Black 5 is in set [('Black', 10), ('Black', 11), ('Black', 12)] 1.0\n",
      "tile Black 6 is in set [('Black', 10), ('Black', 11), ('Black', 12)] 1.0\n",
      "tile Black 7 is in set [('Black', 10), ('Black', 11), ('Black', 12)] 1.0\n",
      "tile Black 8 is in set [('Black', 10), ('Black', 11), ('Black', 12)] 1.0\n",
      "tile Black 9 is in set [('Black', 10), ('Black', 11), ('Black', 12)] 1.0\n",
      "tile Black 10 is in set [('Black', 10), ('Black', 11), ('Black', 12)] 1.0\n",
      "tile Black 10 is in set [('Orange', 9), ('Orange', 10), ('Orange', 11), ('Orange', 12), ('Orange', 13)] 1.0\n",
      "tile Black 11 is in set [('Black', 10), ('Black', 11), ('Black', 12)] 1.0\n",
      "tile Black 12 is in set [('Black', 10), ('Black', 11), ('Black', 12)] 1.0\n",
      "tile Black 13 is in set [('Black', 1), ('Black', 2), ('Black', 3), ('Black', 4)] 1.0\n",
      "tile Red 1 is in set [('Black', 10), ('Black', 11), ('Black', 12)] 1.0\n",
      "tile Red 2 is in set [('Black', 10), ('Black', 11), ('Black', 12)] 1.0\n",
      "tile Red 3 is in set [('Black', 10), ('Black', 11), ('Black', 12)] 1.0\n",
      "tile Red 4 is in set [('Black', 10), ('Black', 11), ('Black', 12)] 1.0\n",
      "tile Red 5 is in set [('Black', 10), ('Black', 11), ('Black', 12)] 1.0\n",
      "tile Red 6 is in set [('Black', 10), ('Black', 11), ('Black', 12)] 1.0\n",
      "tile Red 7 is in set [('Black', 10), ('Black', 11), ('Black', 12)] 1.0\n",
      "tile Red 8 is in set [('Black', 10), ('Black', 11), ('Black', 12)] 1.0\n",
      "tile Red 9 is in set [('Black', 10), ('Black', 11), ('Black', 12)] 1.0\n",
      "tile Red 10 is in set [('Black', 10), ('Black', 11), ('Black', 12)] 1.0\n",
      "tile Red 11 is in set [('Red', 11), ('Red', 12), ('Red', 13)] 1.0\n",
      "tile Red 12 is in set [('Red', 11), ('Red', 12), ('Red', 13)] 1.0\n",
      "tile Red 13 is in set [('Red', 11), ('Red', 12), ('Red', 13)] 1.0\n",
      "tile Orange 1 is in set [('Black', 1), ('Black', 2), ('Black', 3), ('Black', 4)] 1.0\n",
      "tile Orange 2 is in set [('Black', 10), ('Black', 11), ('Black', 12)] 1.0\n",
      "tile Orange 3 is in set [('Black', 1), ('Black', 2), ('Black', 3), ('Black', 4)] 1.0\n",
      "tile Orange 4 is in set [('Black', 1), ('Black', 2), ('Black', 3), ('Black', 4)] 1.0\n",
      "tile Orange 5 is in set [('Black', 10), ('Black', 11), ('Black', 12)] 1.0\n",
      "tile Orange 6 is in set [('Orange', 6), ('Orange', 7), ('Orange', 8)] 1.0\n",
      "tile Orange 7 is in set [('Orange', 6), ('Orange', 7), ('Orange', 8)] 1.0\n",
      "tile Orange 8 is in set [('Orange', 6), ('Orange', 7), ('Orange', 8)] 1.0\n",
      "tile Orange 8 is in set [('Orange', 9), ('Orange', 10), ('Orange', 11), ('Orange', 12), ('Orange', 13)] 1.0\n",
      "tile Orange 9 is in set [('Orange', 9), ('Orange', 10), ('Orange', 11), ('Orange', 12), ('Orange', 13)] 1.0\n",
      "tile Orange 10 is in set [('Orange', 9), ('Orange', 10), ('Orange', 11), ('Orange', 12), ('Orange', 13)] 1.0\n",
      "tile Orange 11 is in set [('Orange', 9), ('Orange', 10), ('Orange', 11), ('Orange', 12), ('Orange', 13)] 1.0\n",
      "tile Orange 12 is in set [('Orange', 9), ('Orange', 10), ('Orange', 11), ('Orange', 12), ('Orange', 13)] 1.0\n",
      "tile Orange 13 is in set [('Orange', 9), ('Orange', 10), ('Orange', 11), ('Orange', 12), ('Orange', 13)] 1.0\n",
      "tile Blue 1 is in set [('Black', 10), ('Black', 11), ('Black', 12)] 1.0\n",
      "tile Blue 2 is in set [('Black', 1), ('Black', 2), ('Black', 3), ('Black', 4)] 1.0\n",
      "tile Blue 3 is in set [('Black', 10), ('Black', 11), ('Black', 12)] 1.0\n",
      "tile Blue 4 is in set [('Black', 10), ('Black', 11), ('Black', 12)] 1.0\n",
      "tile Blue 5 is in set [('Black', 10), ('Black', 11), ('Black', 12)] 1.0\n",
      "tile Blue 6 is in set [('Black', 10), ('Black', 11), ('Black', 12)] 1.0\n",
      "tile Blue 7 is in set [('Blue', 7), ('Blue', 8), ('Blue', 9)] 1.0\n",
      "tile Blue 8 is in set [('Blue', 7), ('Blue', 8), ('Blue', 9)] 1.0\n",
      "tile Blue 9 is in set [('Blue', 7), ('Blue', 8), ('Blue', 9)] 1.0\n",
      "tile Blue 10 is in set [('Blue', 10), ('Blue', 11), ('Blue', 12)] 1.0\n",
      "tile Blue 11 is in set [('Blue', 10), ('Blue', 11), ('Blue', 12)] 1.0\n",
      "tile Blue 12 is in set [('Blue', 10), ('Blue', 11), ('Blue', 12)] 1.0\n",
      "tile Blue 13 is in set [('Black', 10), ('Black', 11), ('Black', 12)] 1.0\n",
      "times of tile Black 1 on the table 1.0\n",
      "times of tile Black 2 on the table 1.0\n",
      "times of tile Black 3 on the table 1.0\n",
      "times of tile Black 4 on the table 1.0\n",
      "times of tile Black 10 on the table 1.0\n",
      "times of tile Black 11 on the table 1.0\n",
      "times of tile Black 12 on the table 1.0\n",
      "times of tile Red 11 on the table 1.0\n",
      "times of tile Red 12 on the table 1.0\n",
      "times of tile Red 13 on the table 1.0\n",
      "times of tile Orange 6 on the table 1.0\n",
      "times of tile Orange 7 on the table 1.0\n",
      "times of tile Orange 8 on the table 1.0\n",
      "times of tile Orange 9 on the table 1.0\n",
      "times of tile Orange 10 on the table 1.0\n",
      "times of tile Orange 11 on the table 1.0\n",
      "times of tile Orange 12 on the table 1.0\n",
      "times of tile Orange 13 on the table 1.0\n",
      "times of tile Blue 7 on the table 1.0\n",
      "times of tile Blue 8 on the table 1.0\n",
      "times of tile Blue 9 on the table 1.0\n",
      "times of tile Blue 10 on the table 1.0\n",
      "times of tile Blue 11 on the table 1.0\n",
      "times of tile Blue 12 on the table 1.0\n",
      "times of tile Black 1 on your rack 1.0\n",
      "times of tile Black 2 on your rack 2.0\n",
      "times of tile Black 3 on your rack 1.0\n",
      "times of tile Black 4 on your rack 1.0\n",
      "times of tile Black 5 on your rack 2.0\n",
      "times of tile Black 6 on your rack 2.0\n",
      "times of tile Black 7 on your rack 2.0\n",
      "times of tile Black 8 on your rack 2.0\n",
      "times of tile Black 9 on your rack 2.0\n",
      "times of tile Black 10 on your rack 2.0\n",
      "times of tile Black 11 on your rack 1.0\n",
      "times of tile Black 12 on your rack 1.0\n",
      "times of tile Black 13 on your rack 2.0\n",
      "times of tile Red 1 on your rack 2.0\n",
      "times of tile Red 2 on your rack 2.0\n",
      "times of tile Red 3 on your rack 2.0\n",
      "times of tile Red 4 on your rack 2.0\n",
      "times of tile Red 5 on your rack 2.0\n",
      "times of tile Red 6 on your rack 2.0\n",
      "times of tile Red 7 on your rack 2.0\n",
      "times of tile Red 8 on your rack 2.0\n",
      "times of tile Red 9 on your rack 2.0\n",
      "times of tile Red 10 on your rack 2.0\n",
      "times of tile Red 11 on your rack 1.0\n",
      "times of tile Red 12 on your rack 1.0\n",
      "times of tile Red 13 on your rack 1.0\n",
      "times of tile Orange 1 on your rack 2.0\n",
      "times of tile Orange 2 on your rack 2.0\n",
      "times of tile Orange 3 on your rack 2.0\n",
      "times of tile Orange 4 on your rack 2.0\n",
      "times of tile Orange 5 on your rack 2.0\n",
      "times of tile Orange 6 on your rack 1.0\n",
      "times of tile Orange 7 on your rack 1.0\n",
      "times of tile Orange 8 on your rack 2.0\n",
      "times of tile Orange 9 on your rack 1.0\n",
      "times of tile Orange 10 on your rack 1.0\n",
      "times of tile Orange 11 on your rack 1.0\n",
      "times of tile Orange 12 on your rack 1.0\n",
      "times of tile Orange 13 on your rack 1.0\n",
      "times of tile Blue 1 on your rack 2.0\n",
      "times of tile Blue 2 on your rack 2.0\n",
      "times of tile Blue 3 on your rack 2.0\n",
      "times of tile Blue 4 on your rack 2.0\n",
      "times of tile Blue 5 on your rack 2.0\n",
      "times of tile Blue 6 on your rack 2.0\n",
      "times of tile Blue 7 on your rack 1.0\n",
      "times of tile Blue 8 on your rack 1.0\n",
      "times of tile Blue 9 on your rack 1.0\n",
      "times of tile Blue 10 on your rack 1.0\n",
      "times of tile Blue 11 on your rack 1.0\n",
      "times of tile Blue 12 on your rack 1.0\n",
      "times of tile Blue 13 on your rack 2.0\n",
      "times of tile JokerJon your rack[Joker,J] 2.0\n",
      "times of tile Black 2 can be placed from your rack onto the table 1.0\n",
      "times of tile Black 5 can be placed from your rack onto the table 1.0\n",
      "times of tile Black 6 can be placed from your rack onto the table 1.0\n",
      "times of tile Black 7 can be placed from your rack onto the table 1.0\n",
      "times of tile Black 8 can be placed from your rack onto the table 1.0\n",
      "times of tile Black 9 can be placed from your rack onto the table 1.0\n",
      "times of tile Black 10 can be placed from your rack onto the table 1.0\n",
      "times of tile Black 13 can be placed from your rack onto the table 1.0\n",
      "times of tile Red 1 can be placed from your rack onto the table 1.0\n",
      "times of tile Red 2 can be placed from your rack onto the table 1.0\n",
      "times of tile Red 3 can be placed from your rack onto the table 1.0\n",
      "times of tile Red 4 can be placed from your rack onto the table 1.0\n",
      "times of tile Red 5 can be placed from your rack onto the table 1.0\n",
      "times of tile Red 6 can be placed from your rack onto the table 1.0\n",
      "times of tile Red 7 can be placed from your rack onto the table 1.0\n",
      "times of tile Red 8 can be placed from your rack onto the table 1.0\n",
      "times of tile Red 9 can be placed from your rack onto the table 1.0\n",
      "times of tile Red 10 can be placed from your rack onto the table 1.0\n",
      "times of tile Orange 1 can be placed from your rack onto the table 1.0\n",
      "times of tile Orange 2 can be placed from your rack onto the table 1.0\n",
      "times of tile Orange 3 can be placed from your rack onto the table 1.0\n",
      "times of tile Orange 4 can be placed from your rack onto the table 1.0\n",
      "times of tile Orange 5 can be placed from your rack onto the table 1.0\n",
      "times of tile Orange 8 can be placed from your rack onto the table 1.0\n",
      "times of tile Blue 1 can be placed from your rack onto the table 1.0\n",
      "times of tile Blue 2 can be placed from your rack onto the table 1.0\n",
      "times of tile Blue 3 can be placed from your rack onto the table 1.0\n",
      "times of tile Blue 4 can be placed from your rack onto the table 1.0\n",
      "times of tile Blue 5 can be placed from your rack onto the table 1.0\n",
      "times of tile Blue 6 can be placed from your rack onto the table 1.0\n",
      "times of tile Blue 13 can be placed from your rack onto the table 1.0\n",
      "times of set [('Orange', 6), ('Orange', 7), ('Orange', 8)] can be placed onto the table 1.0\n",
      "times of set [('Blue', 7), ('Blue', 8), ('Blue', 9)] can be placed onto the table 1.0\n",
      "times of set [('Black', 10), ('Black', 11), ('Black', 12)] can be placed onto the table 1.0\n",
      "times of set [('Blue', 10), ('Blue', 11), ('Blue', 12)] can be placed onto the table 1.0\n",
      "times of set [('Red', 11), ('Red', 12), ('Red', 13)] can be placed onto the table 1.0\n",
      "times of set [('Black', 1), ('Black', 2), ('Black', 3), ('Black', 4)] can be placed onto the table 1.0\n",
      "times of set [('Orange', 9), ('Orange', 10), ('Orange', 11), ('Orange', 12), ('Orange', 13)] can be placed onto the table 1.0\n"
     ]
    }
   ],
   "source": [
    "for v in model.getVars():\n",
    "    if v.x != 0:\n",
    "        print (v.varName, v.x)"
   ]
  },
  {
   "cell_type": "code",
   "execution_count": 50,
   "metadata": {},
   "outputs": [
    {
     "data": {
      "text/plain": [
       "197"
      ]
     },
     "execution_count": 50,
     "metadata": {},
     "output_type": "execute_result"
    }
   ],
   "source": [
    "all_sets.index([('Black',10), ('Black',11), ('Black',12), ('Black',13)])"
   ]
  },
  {
   "cell_type": "code",
   "execution_count": 52,
   "metadata": {},
   "outputs": [
    {
     "data": {
      "text/plain": [
       "0.0"
      ]
     },
     "execution_count": 52,
     "metadata": {},
     "output_type": "execute_result"
    }
   ],
   "source": [
    "S_reg['Black', 13, 519].x"
   ]
  },
  {
   "cell_type": "code",
   "execution_count": 26,
   "metadata": {},
   "outputs": [
    {
     "data": {
      "text/plain": [
       "\"['Joker', ('Black', 2), ('Black', 3), ('Black', 4), ('Black', 5)]\""
      ]
     },
     "execution_count": 26,
     "metadata": {},
     "output_type": "execute_result"
    }
   ],
   "source": [
    "str(all_sets[520])"
   ]
  },
  {
   "cell_type": "code",
   "execution_count": null,
   "metadata": {},
   "outputs": [],
   "source": []
  },
  {
   "cell_type": "code",
   "execution_count": 54,
   "metadata": {},
   "outputs": [
    {
     "name": "stdout",
     "output_type": "stream",
     "text": [
      "times of set [('Red', 11), ('Red', 12), ('Red', 13)] can be placed onto the table 1.0\n",
      "times of set [('Black', 1), ('Black', 2), ('Black', 3), ('Black', 4)] can be placed onto the table 1.0\n"
     ]
    }
   ],
   "source": [
    "for j in range(1173):\n",
    "    # for dt in Deck_types:\n",
    "        # for dv in Deck_values:\n",
    "            if X[j].x != 0:\n",
    "                print(X[j].varName, X[j].x)"
   ]
  },
  {
   "cell_type": "code",
   "execution_count": null,
   "metadata": {},
   "outputs": [],
   "source": []
  }
 ],
 "metadata": {
  "kernelspec": {
   "display_name": "Python 3 (ipykernel)",
   "language": "python",
   "name": "python3"
  },
  "language_info": {
   "codemirror_mode": {
    "name": "ipython",
    "version": 3
   },
   "file_extension": ".py",
   "mimetype": "text/x-python",
   "name": "python",
   "nbconvert_exporter": "python",
   "pygments_lexer": "ipython3",
   "version": "3.11.5"
  }
 },
 "nbformat": 4,
 "nbformat_minor": 5
}
