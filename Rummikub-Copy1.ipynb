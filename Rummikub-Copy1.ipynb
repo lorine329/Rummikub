{
 "cells": [
  {
   "cell_type": "code",
   "execution_count": 1,
   "id": "4abf01f8",
   "metadata": {},
   "outputs": [],
   "source": [
    "import gurobipy as gb\n",
    "from gurobipy import *\n",
    "import numpy as np"
   ]
  },
  {
   "cell_type": "markdown",
   "id": "ee5338b3",
   "metadata": {},
   "source": [
    "# Rummikub"
   ]
  },
  {
   "cell_type": "markdown",
   "id": "f4a1a3d4",
   "metadata": {},
   "source": [
    "Rummikub is a game that combines elements of classic card games like Rummy with the strategy of tile placement. The game is played with a set of 106 tiles, with numbers ranging from 1 to 13 in four different colors (red, blue, yellow, and black). Additionally, there are two joker tiles in the set. The game is typically played by 2 to 4 players and revolves around the strategic placement and manipulation of numbered tiles. The objective of Rummikub is to be the first player to empty your rack of tiles by forming sets and runs of matching numbers. Sets consist of three or four tiles of the same number but different colors. For example, you could have a set of 3s with one red, one blue, and one black. Runs are sequences of at least three consecutive numbers of the same color. For instance, you could have a run of 4, 5, 6 in blue. The game continues until one player goes out, at which point they gain opponents' tile values, while others receive penalties determined by the remaining tiles in their racks."
   ]
  },
  {
   "cell_type": "markdown",
   "id": "fe655dc8",
   "metadata": {},
   "source": [
    "In this project, our primary objective is to address Rummikub challenges through the application of integer linear programming. Initially, we plan to focus on a two-player scenario, with the potential to expand to a four-player format if time permits. Also, if time allows, our ultimate goal is to develop an interactive online Rummikub board game, providing users with a platform for engaging gameplay."
   ]
  },
  {
   "cell_type": "markdown",
   "id": "e1d18db0",
   "metadata": {},
   "source": [
    "## Set up\n",
    "$2*4*13 + joker*2$"
   ]
  },
  {
   "cell_type": "code",
   "execution_count": 5,
   "id": "354b3464",
   "metadata": {},
   "outputs": [
    {
     "name": "stdout",
     "output_type": "stream",
     "text": [
      "Set parameter Username\n",
      "Academic license - for non-commercial use only - expires 2024-08-30\n"
     ]
    }
   ],
   "source": [
    "model = gb.Model(\"Rummikub\")"
   ]
  },
  {
   "cell_type": "markdown",
   "id": "2d31e73f",
   "metadata": {},
   "source": [
    "#### All tiles"
   ]
  },
  {
   "cell_type": "code",
   "execution_count": 2,
   "id": "53eceeae",
   "metadata": {},
   "outputs": [],
   "source": [
    "Deck_types = [\"Black\", \"Red\", \"Orange\", \"Blue\"]\n",
    "Deck_values = [1, 2, 3, 4, 5, 6, 7, 8, 9, 10, 11, 12, 13]\n",
    "Joker = \"Joker\"\n",
    "Joker_values = 30"
   ]
  },
  {
   "cell_type": "code",
   "execution_count": 3,
   "id": "a67acf5f",
   "metadata": {},
   "outputs": [],
   "source": [
    "tiles_pool = [(color, value) for color in Deck_types for value in Deck_values]\n",
    "tiles_pool.append((Joker, Joker_values))"
   ]
  },
  {
   "cell_type": "code",
   "execution_count": 4,
   "id": "357adb3f",
   "metadata": {},
   "outputs": [
    {
     "data": {
      "text/plain": [
       "53"
      ]
     },
     "execution_count": 4,
     "metadata": {},
     "output_type": "execute_result"
    }
   ],
   "source": [
    "len(tiles_pool)"
   ]
  },
  {
   "cell_type": "markdown",
   "id": "a08d4a9b",
   "metadata": {},
   "source": [
    "#### All Possible Sets"
   ]
  },
  {
   "cell_type": "code",
   "execution_count": 5,
   "id": "eac80528",
   "metadata": {},
   "outputs": [],
   "source": [
    "# Adjusting the setup to consider only the deck color\n",
    "Deck_colors = [\"Black\", \"Red\", \"Blue\", \"Orange\"]\n",
    "\n",
    "# Generating all possible sets with three consecutive numbers\n",
    "# and represent each card in the set using Deck_color and Deck_values\n",
    "three_consecutive_set_no_joker = []\n",
    "\n",
    "for value in Deck_values[:-2]:  # Iterate through the values, stopping two before the end\n",
    "    for color in Deck_colors:\n",
    "        # Create a set of three consecutive cards of the same color\n",
    "        consecutive_set = [(color, value), (color, value + 1), (color, value + 2)]\n",
    "        three_consecutive_set_no_joker.append(consecutive_set)\n"
   ]
  },
  {
   "cell_type": "code",
   "execution_count": 6,
   "id": "9702cd4b",
   "metadata": {},
   "outputs": [],
   "source": [
    "# Adjusting the setup to include one Joker in each set\n",
    "# The Joker can replace any one of the three cards in the set\n",
    "\n",
    "three_consecutive_set_one_joker = []\n",
    "# Iterate through each color and value, creating sets with one Joker\n",
    "for color in Deck_colors:\n",
    "    for value in Deck_values[:-2]:  # Iterate through the values, stopping two before the end\n",
    "        # For each set of three consecutive values, create three sets, each with one Joker\n",
    "        if value == 1:\n",
    "            for i in range(3):\n",
    "                consecutive_set_one_joker = [(color, value), (color, value + 1), (color, value + 2)]\n",
    "                consecutive_set_one_joker[i] = \"Joker\"  # Replace one card with a Joker\n",
    "                three_consecutive_set_one_joker.append(consecutive_set_one_joker)\n",
    "        else:\n",
    "            for i in range(2):\n",
    "                consecutive_set_one_joker = [(color, value), (color, value + 1), (color, value + 2)]\n",
    "                consecutive_set_one_joker[i] = \"Joker\"  # Replace one card with a Joker\n",
    "                three_consecutive_set_one_joker.append(consecutive_set_one_joker)\n"
   ]
  },
  {
   "cell_type": "code",
   "execution_count": 7,
   "id": "e6e94a6a",
   "metadata": {},
   "outputs": [],
   "source": [
    "# Adjusting the setup to include exactly two Jokers in each set\n",
    "# Each set will now consist of one card from the deck and two Jokers\n",
    "\n",
    "# Generating all possible sets with one card from the deck and two Jokers\n",
    "three_consecutive_sets_with_two_jokers = []\n",
    "\n",
    "for color in Deck_colors:\n",
    "    for value in Deck_values:  # Iterate through all values\n",
    "        # Create a set with one card from the deck and two Jokers\n",
    "        set_with_two_jokers = [(color, value), \"Joker\", \"Joker\"]\n",
    "        three_consecutive_sets_with_two_jokers.append(set_with_two_jokers)"
   ]
  },
  {
   "cell_type": "code",
   "execution_count": 8,
   "id": "922fc872",
   "metadata": {},
   "outputs": [],
   "source": [
    "# Generating sets with four consecutive numbers, same color, and without Joker\n",
    "\n",
    "four_consecutive_sets_no_joker = []\n",
    "\n",
    "for color in Deck_colors:\n",
    "    for value in Deck_values[:-3]:  # Iterate through values, stopping three before the end\n",
    "        # Create a set of four consecutive cards of the same color\n",
    "        consecutive_set = [(color, value), (color, value + 1), (color, value + 2), (color, value + 3)]\n",
    "        four_consecutive_sets_no_joker.append(consecutive_set)"
   ]
  },
  {
   "cell_type": "code",
   "execution_count": 9,
   "id": "886bfebd",
   "metadata": {},
   "outputs": [],
   "source": [
    "four_consecutive_sets_one_joker = []\n",
    "\n",
    "for color in Deck_colors:\n",
    "    for value in Deck_values[:-3]:  # Iterate through values, stopping three before the end\n",
    "        # Create a set of four consecutive cards of the same color\n",
    "        if value == 1:\n",
    "            for i in range(4):\n",
    "                consecutive_set = [(color, value), (color, value + 1), (color, value + 2), (color, value + 3)]\n",
    "                consecutive_set[i] = \"Joker\"\n",
    "                four_consecutive_sets_one_joker.append(consecutive_set)\n",
    "        else:\n",
    "            for i in range(3):\n",
    "                consecutive_set = [(color, value), (color, value + 1), (color, value + 2), (color, value + 3)]\n",
    "                consecutive_set[i] = \"Joker\"\n",
    "                four_consecutive_sets_one_joker.append(consecutive_set)"
   ]
  },
  {
   "cell_type": "code",
   "execution_count": 10,
   "id": "44373c40",
   "metadata": {},
   "outputs": [],
   "source": [
    "four_consecutive_sets_two_joker = []\n",
    "\n",
    "for color in Deck_colors:\n",
    "    for value in Deck_values[:-3]:  # Iterate through values, stopping three before the end\n",
    "        # Create a set of four consecutive cards of the same color\n",
    "        if value == 1:\n",
    "            for i in range(3):\n",
    "                for j in range(i+1, 4):\n",
    "                    consecutive_set = [(color, value), (color, value + 1), (color, value + 2), (color, value + 3)]\n",
    "                    consecutive_set[i] = \"Joker\"\n",
    "                    consecutive_set[j] = \"Joker\"\n",
    "                    four_consecutive_sets_two_joker.append(consecutive_set)\n",
    "        else:\n",
    "            for i in range(2):\n",
    "                for j in range(i+1, 3):\n",
    "                    consecutive_set = [(color, value), (color, value + 1), (color, value + 2), (color, value + 3)]\n",
    "                    consecutive_set[i] = \"Joker\"\n",
    "                    consecutive_set[j] = \"Joker\"\n",
    "                    four_consecutive_sets_two_joker.append(consecutive_set)"
   ]
  },
  {
   "cell_type": "code",
   "execution_count": 11,
   "id": "473cd3ab",
   "metadata": {},
   "outputs": [],
   "source": [
    "# Generating sets with five consecutive numbers, same color, and without Joker\n",
    "\n",
    "five_consecutive_sets_no_joker = []\n",
    "\n",
    "for color in Deck_colors:\n",
    "    for value in Deck_values[:-4]:  # Iterate through values, stopping four before the end\n",
    "        # Create a set of five consecutive cards of the same color\n",
    "        consecutive_set = [(color, value), (color, value + 1), (color, value + 2), (color, value + 3), (color, value + 4)]\n",
    "        five_consecutive_sets_no_joker.append(consecutive_set)"
   ]
  },
  {
   "cell_type": "code",
   "execution_count": 12,
   "id": "4d0d1bea",
   "metadata": {},
   "outputs": [],
   "source": [
    "# Generating sets with five consecutive numbers, same color, and 1 Joker\n",
    "\n",
    "five_consecutive_sets_one_joker = []\n",
    "\n",
    "for color in Deck_colors:\n",
    "    for value in Deck_values[:-4]:  # Iterate through values, stopping four before the end\n",
    "        # Create a set of five consecutive cards of the same color\n",
    "        if value == 1:\n",
    "            for i in range(5):\n",
    "                consecutive_set = [(color, value), (color, value + 1), (color, value + 2), (color, value + 3), (color, value + 4)]\n",
    "                consecutive_set[i] = \"Joker\"\n",
    "                five_consecutive_sets_one_joker.append(consecutive_set)\n",
    "        else:\n",
    "            for i in range(4):\n",
    "                consecutive_set = [(color, value), (color, value + 1), (color, value + 2), (color, value + 3), (color, value + 4)]\n",
    "                consecutive_set[i] = \"Joker\"\n",
    "                five_consecutive_sets_one_joker.append(consecutive_set)"
   ]
  },
  {
   "cell_type": "code",
   "execution_count": 13,
   "id": "275891f1",
   "metadata": {},
   "outputs": [],
   "source": [
    "# Generating sets with five consecutive numbers, same color, and 2 Joker\n",
    "\n",
    "five_consecutive_sets_two_joker = []\n",
    "\n",
    "for color in Deck_colors:\n",
    "    for value in Deck_values[:-4]:  # Iterate through values, stopping four before the end\n",
    "        # Create a set of five consecutive cards of the same color\n",
    "        if value == 1:\n",
    "            for i in range(4):\n",
    "                for j in range(i+1, 5):\n",
    "                    consecutive_set = [(color, value), (color, value + 1), (color, value + 2), (color, value + 3), (color, value + 4)]\n",
    "                    consecutive_set[i] = \"Joker\"\n",
    "                    consecutive_set[j] = \"Joker\"\n",
    "                    five_consecutive_sets_two_joker.append(consecutive_set)\n",
    "        else:\n",
    "            for i in range(3):\n",
    "                for j in range(i+1, 4):\n",
    "                    consecutive_set = [(color, value), (color, value + 1), (color, value + 2), (color, value + 3), (color, value + 4)]\n",
    "                    consecutive_set[i] = \"Joker\"\n",
    "                    consecutive_set[j] = \"Joker\"\n",
    "                    five_consecutive_sets_two_joker.append(consecutive_set)"
   ]
  },
  {
   "cell_type": "code",
   "execution_count": 14,
   "id": "7e9cdfe3",
   "metadata": {},
   "outputs": [],
   "source": [
    "# Generating sets of three cards, each from a different color, without Jokers, and all cards having the same value\n",
    "\n",
    "three_cards_different_colors_same_value = []\n",
    "\n",
    "for value in Deck_values:\n",
    "    # Iterate through combinations of three different colors\n",
    "    for i in range(len(Deck_colors)):\n",
    "        for j in range(i + 1, len(Deck_colors)):\n",
    "            for k in range(j + 1, len(Deck_colors)):\n",
    "                # Create a set with one card from each of the three different colors, all with the same value\n",
    "                set_of_three = [(Deck_colors[i], value), (Deck_colors[j], value), (Deck_colors[k], value)]\n",
    "                three_cards_different_colors_same_value.append(set_of_three)"
   ]
  },
  {
   "cell_type": "code",
   "execution_count": 15,
   "id": "4747fdbe",
   "metadata": {},
   "outputs": [],
   "source": [
    "# Generating sets of three cards, each from a different color, 1 Jokers, and all cards having the same value\n",
    "\n",
    "three_cards_different_colors_1_joker = []\n",
    "\n",
    "for value in Deck_values:\n",
    "    # Iterate through combinations of three different colors\n",
    "    for i in range(len(Deck_colors)):\n",
    "        for j in range(i + 1, len(Deck_colors)):\n",
    "            # Create a set with one card from each of the three different colors, all with the same value\n",
    "            set_of_three = [(Deck_colors[i], value), (Deck_colors[j], value), \"Joker\"]\n",
    "            three_cards_different_colors_1_joker.append(set_of_three)"
   ]
  },
  {
   "cell_type": "code",
   "execution_count": 16,
   "id": "bf88a19f",
   "metadata": {},
   "outputs": [],
   "source": [
    "four_cards_different_colors_same_value = []\n",
    "\n",
    "for value in Deck_values:\n",
    "    # Iterate through combinations of three different colors\n",
    "    set_of_four = [(Deck_colors[0], value), (Deck_colors[1], value), (Deck_colors[2], value), (Deck_colors[3], value)]\n",
    "    four_cards_different_colors_same_value.append(set_of_four)"
   ]
  },
  {
   "cell_type": "code",
   "execution_count": 17,
   "id": "c1e3267e",
   "metadata": {},
   "outputs": [],
   "source": [
    "# Generating sets of four cards, each from a different color, 1 Jokers, and all cards having the same value\n",
    "\n",
    "four_cards_different_colors_1_joker = []\n",
    "\n",
    "for value in Deck_values:\n",
    "    # Iterate through combinations of three different colors\n",
    "    for i in range(len(Deck_colors)):\n",
    "        for j in range(i + 1, len(Deck_colors)):\n",
    "            for k in range(j + 1, len(Deck_colors)):\n",
    "                # Create a set with one card from each of the three different colors, all with the same value\n",
    "                set_of_four = [(Deck_colors[i], value), (Deck_colors[j], value), (Deck_colors[k], value), \"Joker\"]\n",
    "                four_cards_different_colors_1_joker.append(set_of_four)"
   ]
  },
  {
   "cell_type": "code",
   "execution_count": 18,
   "id": "6be25b5f",
   "metadata": {},
   "outputs": [],
   "source": [
    "# Generating sets of four cards, each from a different color, 2 Jokers, and all cards having the same value\n",
    "\n",
    "four_cards_different_colors_2_joker = []\n",
    "\n",
    "for value in Deck_values:\n",
    "    # Iterate through combinations of three different colors\n",
    "    for i in range(len(Deck_colors)):\n",
    "        for j in range(i + 1, len(Deck_colors)):\n",
    "            # Create a set with one card from each of the three different colors, all with the same value\n",
    "            set_of_four = [(Deck_colors[i], value), (Deck_colors[j], value), \"Joker\", \"Joker\"]\n",
    "            four_cards_different_colors_2_joker.append(set_of_four)"
   ]
  },
  {
   "cell_type": "code",
   "execution_count": 19,
   "id": "f182cce9",
   "metadata": {},
   "outputs": [],
   "source": [
    "three_consecutives = three_consecutive_set_no_joker + three_consecutive_set_one_joker + three_consecutive_sets_with_two_jokers\n",
    "four_consecutives = four_consecutive_sets_no_joker + four_consecutive_sets_one_joker + four_consecutive_sets_two_joker\n",
    "five_consecutives = five_consecutive_sets_no_joker + five_consecutive_sets_one_joker + five_consecutive_sets_two_joker\n",
    "three_same = three_cards_different_colors_same_value + three_cards_different_colors_1_joker\n",
    "four_same = four_cards_different_colors_same_value + four_cards_different_colors_1_joker + four_cards_different_colors_2_joker\n",
    "all_sets = three_consecutives + four_consecutives + five_consecutives + three_same + four_same"
   ]
  },
  {
   "cell_type": "code",
   "execution_count": 20,
   "id": "2ad71ae8",
   "metadata": {},
   "outputs": [
    {
     "data": {
      "text/plain": [
       "1173"
      ]
     },
     "execution_count": 20,
     "metadata": {},
     "output_type": "execute_result"
    }
   ],
   "source": [
    "len(all_sets)"
   ]
  },
  {
   "cell_type": "code",
   "execution_count": 21,
   "id": "8cf448f5",
   "metadata": {},
   "outputs": [],
   "source": [
    "I = len(tiles_pool)\n",
    "J = len(all_sets)"
   ]
  },
  {
   "cell_type": "markdown",
   "id": "770ed55a",
   "metadata": {},
   "source": [
    "## Decision variables"
   ]
  },
  {
   "cell_type": "code",
   "execution_count": null,
   "id": "3898712c",
   "metadata": {},
   "outputs": [],
   "source": [
    "S = model.addVars(I, J, vtype = GRB.BINARY, \n",
    "                  name = [\"tile \" + str(tiles_pool[i]) + \" is in set \" + str(all_sets[j]) \n",
    "                          for i in range(I) for j in range(J)])"
   ]
  },
  {
   "cell_type": "code",
   "execution_count": null,
   "id": "348abf99",
   "metadata": {},
   "outputs": [],
   "source": [
    "T = model.addVars(I, lb = 0, ub = 2, vtype = GRB.INTEGER, \n",
    "                  name = [\"number of tile \" + str(tiles_pool[i]) + \" is on the table\" for i in range(I)])"
   ]
  },
  {
   "cell_type": "code",
   "execution_count": null,
   "id": "bb17bcda",
   "metadata": {},
   "outputs": [],
   "source": [
    "R = model.addVars(I, lb = 0, ub = 2, vtype = GRB.INTEGER, \n",
    "                  name = [\"number of tile \" + str(tiles_pool[i]) + \" is in the rack\" for i in range(I)])"
   ]
  },
  {
   "cell_type": "code",
   "execution_count": null,
   "id": "ef2631f4",
   "metadata": {},
   "outputs": [],
   "source": [
    "X = model.addVars(J, lb = 0, ub = 2, vtype = GRB.INTEGER, \n",
    "                  name = [\"set \" + str(all_sets[j]) + \" can be placed onto the table\" for j in range(J)])"
   ]
  },
  {
   "cell_type": "code",
   "execution_count": null,
   "id": "3f53c7a2",
   "metadata": {},
   "outputs": [],
   "source": [
    "Y = model.addVars(I, lb = 0, ub = 2, vtype = GRB.INTEGER, \n",
    "                  name = [\"tile \" + str(tiles_pool[i]) + \" can be placed from your rack onto the table\" for i in range(I)])"
   ]
  },
  {
   "cell_type": "markdown",
   "id": "564ff9da",
   "metadata": {},
   "source": [
    "## Objective function"
   ]
  },
  {
   "cell_type": "code",
   "execution_count": null,
   "id": "31ca5177",
   "metadata": {},
   "outputs": [],
   "source": [
    "score = quicksum(Y[i] * tiles_pool[i][1] for i in range(I))\n",
    "model.setObjective(score, GRB.MAXIMIZE)"
   ]
  },
  {
   "cell_type": "markdown",
   "id": "caae869e",
   "metadata": {},
   "source": [
    "## Constraints"
   ]
  },
  {
   "cell_type": "code",
   "execution_count": null,
   "id": "ab588d28",
   "metadata": {},
   "outputs": [],
   "source": [
    "for i in range(I):\n",
    "    sx_sum = quicksum(S[i, j] * X[j] for j in range(J))\n",
    "    model.addConstr(sx_sum == T[i] + Y[i])"
   ]
  },
  {
   "cell_type": "code",
   "execution_count": null,
   "id": "f50f9bf8",
   "metadata": {},
   "outputs": [],
   "source": [
    "for i in range(I):\n",
    "    model.addConstr(Y[i] <= R[i])"
   ]
  },
  {
   "cell_type": "markdown",
   "id": "f422788a",
   "metadata": {},
   "source": [
    "### The real game"
   ]
  },
  {
   "cell_type": "code",
   "execution_count": 36,
   "id": "900b156d",
   "metadata": {},
   "outputs": [],
   "source": [
    "Rack = [(\"Orange\", 1), (\"Orange\", 3), (\"Orange\", 4), (\"Orange\", 8), \n",
    "        (\"Blue\", 2), (\"Black\", 2), (\"Black\", 10), (\"Black\", 13), (\"Joker\", 30)]\n",
    "\n",
    "Set = [[(\"Black\", 1), (\"Black\", 2), (\"Black\", 3), (\"Black\", 4)], \n",
    "       [(\"Black\", 10), (\"Black\", 11), (\"Black\", 12)],\n",
    "       [(\"Orange\", 6), (\"Orange\", 7), (\"Orange\", 8)], \n",
    "       [(\"Orange\", 9), (\"Orange\", 10), (\"Orange\", 11), (\"Orange\", 12), (\"Orange\", 13)], \n",
    "       [(\"Blue\", 7), (\"Blue\", 8), (\"Blue\", 9)], \n",
    "       [(\"Blue\", 10), (\"Blue\", 11), (\"Blue\", 12)], \n",
    "       [(\"Red\", 11), (\"Red\", 12), (\"Red\", 13)]]\n",
    "\n",
    "Table = [card for set_ in Set for card in set_]"
   ]
  },
  {
   "cell_type": "code",
   "execution_count": 37,
   "id": "63592d27",
   "metadata": {},
   "outputs": [],
   "source": [
    "played_tiles = Rack + Table"
   ]
  },
  {
   "cell_type": "code",
   "execution_count": 38,
   "id": "3058e855",
   "metadata": {},
   "outputs": [],
   "source": [
    "Counter_all_played_tiles = {}\n",
    "for tile in Rack:\n",
    "    if tile not in Counter_all_played_tiles.keys():\n",
    "        Counter_all_played_tiles[tile] = 1\n",
    "    else:\n",
    "        Counter_all_played_tiles[tile] += 1\n",
    "\n",
    "for tile in Table:\n",
    "    if tile not in Counter_all_played_tiles.keys():\n",
    "        Counter_all_played_tiles[tile] = 1\n",
    "    else:\n",
    "        Counter_all_played_tiles[tile] += 1"
   ]
  },
  {
   "cell_type": "code",
   "execution_count": 39,
   "id": "31d70519",
   "metadata": {},
   "outputs": [
    {
     "data": {
      "text/plain": [
       "{('Orange', 1): 1,\n",
       " ('Orange', 3): 1,\n",
       " ('Orange', 4): 1,\n",
       " ('Orange', 8): 2,\n",
       " ('Blue', 2): 1,\n",
       " ('Black', 2): 2,\n",
       " ('Black', 10): 2,\n",
       " ('Black', 13): 1,\n",
       " ('Joker', 30): 1,\n",
       " ('Black', 1): 1,\n",
       " ('Black', 3): 1,\n",
       " ('Black', 4): 1,\n",
       " ('Black', 11): 1,\n",
       " ('Black', 12): 1,\n",
       " ('Orange', 6): 1,\n",
       " ('Orange', 7): 1,\n",
       " ('Orange', 9): 1,\n",
       " ('Orange', 10): 1,\n",
       " ('Orange', 11): 1,\n",
       " ('Orange', 12): 1,\n",
       " ('Orange', 13): 1,\n",
       " ('Blue', 7): 1,\n",
       " ('Blue', 8): 1,\n",
       " ('Blue', 9): 1,\n",
       " ('Blue', 10): 1,\n",
       " ('Blue', 11): 1,\n",
       " ('Blue', 12): 1,\n",
       " ('Red', 11): 1,\n",
       " ('Red', 12): 1,\n",
       " ('Red', 13): 1}"
      ]
     },
     "execution_count": 39,
     "metadata": {},
     "output_type": "execute_result"
    }
   ],
   "source": [
    "Counter_all_played_tiles"
   ]
  },
  {
   "cell_type": "code",
   "execution_count": 40,
   "id": "d1dd61ed",
   "metadata": {},
   "outputs": [],
   "source": [
    "Counter_rack = {}\n",
    "for tile in Rack:\n",
    "    if tile not in Counter_rack.keys():\n",
    "        Counter_rack[tile] = 1\n",
    "    else:\n",
    "        Counter_rack += 1"
   ]
  },
  {
   "cell_type": "code",
   "execution_count": 41,
   "id": "a7f722ec",
   "metadata": {},
   "outputs": [
    {
     "data": {
      "text/plain": [
       "{('Orange', 1): 1,\n",
       " ('Orange', 3): 1,\n",
       " ('Orange', 4): 1,\n",
       " ('Orange', 8): 1,\n",
       " ('Blue', 2): 1,\n",
       " ('Black', 2): 1,\n",
       " ('Black', 10): 1,\n",
       " ('Black', 13): 1,\n",
       " ('Joker', 30): 1}"
      ]
     },
     "execution_count": 41,
     "metadata": {},
     "output_type": "execute_result"
    }
   ],
   "source": [
    "Counter_rack"
   ]
  },
  {
   "cell_type": "code",
   "execution_count": 42,
   "id": "e78eaba0",
   "metadata": {},
   "outputs": [],
   "source": [
    "Counter_table = {}\n",
    "for tile in Table:\n",
    "    if tile not in Counter_table.keys():\n",
    "        Counter_table[tile] = 1\n",
    "    else:\n",
    "        Counter_table[tile] += 1"
   ]
  },
  {
   "cell_type": "code",
   "execution_count": 43,
   "id": "b91a4193",
   "metadata": {},
   "outputs": [
    {
     "data": {
      "text/plain": [
       "{('Black', 1): 1,\n",
       " ('Black', 2): 1,\n",
       " ('Black', 3): 1,\n",
       " ('Black', 4): 1,\n",
       " ('Black', 10): 1,\n",
       " ('Black', 11): 1,\n",
       " ('Black', 12): 1,\n",
       " ('Orange', 6): 1,\n",
       " ('Orange', 7): 1,\n",
       " ('Orange', 8): 1,\n",
       " ('Orange', 9): 1,\n",
       " ('Orange', 10): 1,\n",
       " ('Orange', 11): 1,\n",
       " ('Orange', 12): 1,\n",
       " ('Orange', 13): 1,\n",
       " ('Blue', 7): 1,\n",
       " ('Blue', 8): 1,\n",
       " ('Blue', 9): 1,\n",
       " ('Blue', 10): 1,\n",
       " ('Blue', 11): 1,\n",
       " ('Blue', 12): 1,\n",
       " ('Red', 11): 1,\n",
       " ('Red', 12): 1,\n",
       " ('Red', 13): 1}"
      ]
     },
     "execution_count": 43,
     "metadata": {},
     "output_type": "execute_result"
    }
   ],
   "source": [
    "Counter_table"
   ]
  },
  {
   "cell_type": "code",
   "execution_count": 45,
   "id": "4dd84fab",
   "metadata": {},
   "outputs": [
    {
     "name": "stdout",
     "output_type": "stream",
     "text": [
      "('Orange', 8)\n",
      "('Black', 2)\n",
      "('Black', 10)\n"
     ]
    }
   ],
   "source": [
    "# Rack\n",
    "for tile in Rack:\n",
    "    i = tiles_pool.index(tile)\n",
    "    \n",
    "    # update T[i]\n",
    "    if tile in Counter_table.keys(): \n",
    "        num_table = Counter_table[tile]\n",
    "        model.addConstr(T[i] == num_table)\n",
    "    else:\n",
    "        model.addConstr(T[i] == 0)\n",
    "        \n",
    "    # update R[i]\n",
    "    num_rack = Counter_rack[tile]\n",
    "    model.addConstr(R[i] == num_rack)"
   ]
  },
  {
   "cell_type": "code",
   "execution_count": null,
   "id": "38c9c1a4",
   "metadata": {},
   "outputs": [],
   "source": [
    "# Table\n",
    "for tile in Table:\n",
    "    i = tiles_pool.index(tile)\n",
    "    \n",
    "    # update R[i]\n",
    "    if tile in Counter_rack.keys(): \n",
    "        num_rack = Counter_rack[tile]\n",
    "        model.addConstr(R[i] == num_rack)\n",
    "    else:\n",
    "        model.addConstr(R[i] == 0)\n",
    "        \n",
    "    # update T[i]\n",
    "    num_table = Counter_table[tile]\n",
    "    model.addConstr(T[i] == num_table)"
   ]
  },
  {
   "cell_type": "code",
   "execution_count": 46,
   "id": "1f51707f",
   "metadata": {},
   "outputs": [],
   "source": [
    "not_in_rack_table = []\n",
    "for tile in tiles_pool:\n",
    "    if tile not in Rack and tile not in Table:\n",
    "        not_in_rack_table.append(tile)"
   ]
  },
  {
   "cell_type": "code",
   "execution_count": null,
   "id": "bd3a31a0",
   "metadata": {},
   "outputs": [],
   "source": [
    "for tile in not_in_rack_table:\n",
    "    i = tiles_pool.index(tile)\n",
    "    model.addConstr(T[i] == 0)\n",
    "    model.addConstr(R[i] == 0)"
   ]
  },
  {
   "cell_type": "markdown",
   "id": "38811f7f",
   "metadata": {},
   "source": [
    "## Optimize"
   ]
  },
  {
   "cell_type": "code",
   "execution_count": 41,
   "id": "9ce08b5c",
   "metadata": {},
   "outputs": [],
   "source": [
    "# model.params.BestObjStop = 331"
   ]
  },
  {
   "cell_type": "code",
   "execution_count": 42,
   "id": "bc8bb3ff",
   "metadata": {},
   "outputs": [
    {
     "name": "stdout",
     "output_type": "stream",
     "text": [
      "Gurobi Optimizer version 10.0.3 build v10.0.3rc0 (mac64[x86])\n",
      "\n",
      "CPU model: Intel(R) Core(TM) i9-9880H CPU @ 2.30GHz\n",
      "Thread count: 8 physical cores, 16 logical processors, using up to 16 threads\n",
      "\n",
      "Optimize a model with 10755 rows, 11940 columns and 10808 nonzeros\n",
      "Model fingerprint: 0x8819fb5e\n",
      "Model has 53 quadratic constraints\n",
      "Variable types: 0 continuous, 11940 integer (10608 binary)\n",
      "Coefficient statistics:\n",
      "  Matrix range     [1e+00, 1e+00]\n",
      "  QMatrix range    [1e+00, 1e+00]\n",
      "  QLMatrix range   [1e+00, 1e+00]\n",
      "  Objective range  [1e+00, 3e+01]\n",
      "  Bounds range     [1e+00, 2e+00]\n",
      "  RHS range        [1e+00, 2e+00]\n",
      "Presolve removed 10703 rows and 11654 columns\n",
      "Presolve time: 0.14s\n",
      "Presolved: 52 rows, 286 columns, 781 nonzeros\n",
      "Variable types: 0 continuous, 286 integer (28 binary)\n",
      "Found heuristic solution: objective 264.0000000\n",
      "Found heuristic solution: objective 286.0000000\n",
      "\n",
      "Root relaxation: objective 5.160000e+02, 36 iterations, 0.00 seconds (0.00 work units)\n",
      "\n",
      "    Nodes    |    Current Node    |     Objective Bounds      |     Work\n",
      " Expl Unexpl |  Obj  Depth IntInf | Incumbent    BestBd   Gap | It/Node Time\n",
      "\n",
      "*    0     0               0     516.0000000  516.00000  0.00%     -    0s\n",
      "\n",
      "Explored 1 nodes (36 simplex iterations) in 0.16 seconds (0.11 work units)\n",
      "Thread count was 16 (of 16 available processors)\n",
      "\n",
      "Solution count 3: 516 286 264 \n",
      "\n",
      "Optimal solution found (tolerance 1.00e-04)\n",
      "Best objective 5.160000000000e+02, best bound 5.160000000000e+02, gap 0.0000%\n"
     ]
    },
    {
     "data": {
      "text/plain": [
       "2"
      ]
     },
     "execution_count": 42,
     "metadata": {},
     "output_type": "execute_result"
    }
   ],
   "source": [
    "model.optimize()\n",
    "model.status"
   ]
  },
  {
   "cell_type": "code",
   "execution_count": 43,
   "id": "3e3ae190",
   "metadata": {},
   "outputs": [
    {
     "data": {
      "text/plain": [
       "516.0"
      ]
     },
     "execution_count": 43,
     "metadata": {},
     "output_type": "execute_result"
    }
   ],
   "source": [
    "model.ObjVal"
   ]
  }
 ],
 "metadata": {
  "kernelspec": {
   "display_name": "Python 3 (ipykernel)",
   "language": "python",
   "name": "python3"
  },
  "language_info": {
   "codemirror_mode": {
    "name": "ipython",
    "version": 3
   },
   "file_extension": ".py",
   "mimetype": "text/x-python",
   "name": "python",
   "nbconvert_exporter": "python",
   "pygments_lexer": "ipython3",
   "version": "3.11.5"
  }
 },
 "nbformat": 4,
 "nbformat_minor": 5
}
