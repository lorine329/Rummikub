{
 "cells": [
  {
   "cell_type": "code",
   "execution_count": 1,
   "id": "4abf01f8",
   "metadata": {},
   "outputs": [],
   "source": [
    "import gurobipy as gb\n",
    "from gurobipy import *\n",
    "import numpy as np"
   ]
  },
  {
   "cell_type": "markdown",
   "id": "ee5338b3",
   "metadata": {},
   "source": [
    "# Rummikub"
   ]
  },
  {
   "cell_type": "markdown",
   "id": "f4a1a3d4",
   "metadata": {},
   "source": [
    "Rummikub is a game that combines elements of classic card games like Rummy with the strategy of tile placement. The game is played with a set of 106 tiles, with numbers ranging from 1 to 13 in four different colors (red, blue, yellow, and black). Additionally, there are two joker tiles in the set. The game is typically played by 2 to 4 players and revolves around the strategic placement and manipulation of numbered tiles. The objective of Rummikub is to be the first player to empty your rack of tiles by forming sets and runs of matching numbers. Sets consist of three or four tiles of the same number but different colors. For example, you could have a set of 3s with one red, one blue, and one black. Runs are sequences of at least three consecutive numbers of the same color. For instance, you could have a run of 4, 5, 6 in blue. The game continues until one player goes out, at which point they gain opponents' tile values, while others receive penalties determined by the remaining tiles in their racks."
   ]
  },
  {
   "cell_type": "markdown",
   "id": "fe655dc8",
   "metadata": {},
   "source": [
    "In this project, our primary objective is to address Rummikub challenges through the application of integer linear programming. Initially, we plan to focus on a two-player scenario, with the potential to expand to a four-player format if time permits. Also, if time allows, our ultimate goal is to develop an interactive online Rummikub board game, providing users with a platform for engaging gameplay."
   ]
  },
  {
   "cell_type": "markdown",
   "id": "e1d18db0",
   "metadata": {},
   "source": [
    "## Set up"
   ]
  },
  {
   "cell_type": "code",
   "execution_count": 2,
   "id": "df52f7f3",
   "metadata": {},
   "outputs": [],
   "source": [
    "Deck = {\"Black\": [\"1\", \"1\", \"2\", \"2\", \"3\", \"3\", \"4\", \"4\", \"5\", \"5\", \"6\", \"6\", \n",
    "                  \"7\", \"7\", \"8\", \"8\", \"9\", \"9\", \"9\", \"10\", \"10\", \"11\", \"11\", \"12\", \"12\", \"13\", \"13\"], \n",
    "        \"Red\": [\"1\", \"1\", \"2\", \"2\", \"3\", \"3\", \"4\", \"4\", \"5\", \"5\", \"6\", \"6\", \n",
    "                  \"7\", \"7\", \"8\", \"8\", \"9\", \"9\", \"9\", \"10\", \"10\", \"11\", \"11\", \"12\", \"12\", \"13\", \"13\"], \n",
    "        \"Blue\": [\"1\", \"1\", \"2\", \"2\", \"3\", \"3\", \"4\", \"4\", \"5\", \"5\", \"6\", \"6\", \n",
    "                  \"7\", \"7\", \"8\", \"8\", \"9\", \"9\", \"9\", \"10\", \"10\", \"11\", \"11\", \"12\", \"12\", \"13\", \"13\"], \n",
    "        \"Orange\": [\"1\", \"1\", \"2\", \"2\", \"3\", \"3\", \"4\", \"4\", \"5\", \"5\", \"6\", \"6\", \n",
    "                  \"7\", \"7\", \"8\", \"8\", \"9\", \"9\", \"9\", \"10\", \"10\", \"11\", \"11\", \"12\", \"12\", \"13\", \"13\"], \n",
    "        \"Joker\": [\"J1\", \"J2\"]}"
   ]
  },
  {
   "cell_type": "code",
   "execution_count": null,
   "id": "d0757517",
   "metadata": {},
   "outputs": [],
   "source": [
    "Penalty = {\"1\": 1, \"2\":2, \"3\":3, \"4\":4, \"5\":5, \"6\":6, \"7\":7, \"8\":8, \"9\", \"10\":10, \"11\":11, \"12\":12, \n",
    "           \"13\":13, \"J1\":30, \"J2\":30}"
   ]
  },
  {
   "cell_type": "code",
   "execution_count": null,
   "id": "e6f83977",
   "metadata": {},
   "outputs": [],
   "source": []
  }
 ],
 "metadata": {
  "kernelspec": {
   "display_name": "Python 3 (ipykernel)",
   "language": "python",
   "name": "python3"
  },
  "language_info": {
   "codemirror_mode": {
    "name": "ipython",
    "version": 3
   },
   "file_extension": ".py",
   "mimetype": "text/x-python",
   "name": "python",
   "nbconvert_exporter": "python",
   "pygments_lexer": "ipython3",
   "version": "3.11.5"
  }
 },
 "nbformat": 4,
 "nbformat_minor": 5
}
