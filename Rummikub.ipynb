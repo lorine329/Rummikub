{
 "cells": [
  {
   "cell_type": "code",
   "execution_count": 1,
   "id": "4abf01f8",
   "metadata": {},
   "outputs": [],
   "source": [
    "import gurobipy as gb\n",
    "from gurobipy import *\n",
    "import numpy as np"
   ]
  },
  {
   "cell_type": "markdown",
   "id": "ee5338b3",
   "metadata": {},
   "source": [
    "# Rummikub"
   ]
  },
  {
   "cell_type": "markdown",
   "id": "f4a1a3d4",
   "metadata": {},
   "source": [
    "Rummikub is a game that combines elements of classic card games like Rummy with the strategy of tile placement. The game is played with a set of 106 tiles, with numbers ranging from 1 to 13 in four different colors (red, blue, yellow, and black). Additionally, there are two joker tiles in the set. The game is typically played by 2 to 4 players and revolves around the strategic placement and manipulation of numbered tiles. The objective of Rummikub is to be the first player to empty your rack of tiles by forming sets and runs of matching numbers. Sets consist of three or four tiles of the same number but different colors. For example, you could have a set of 3s with one red, one blue, and one black. Runs are sequences of at least three consecutive numbers of the same color. For instance, you could have a run of 4, 5, 6 in blue. The game continues until one player goes out, at which point they gain opponents' tile values, while others receive penalties determined by the remaining tiles in their racks."
   ]
  },
  {
   "cell_type": "markdown",
   "id": "fe655dc8",
   "metadata": {},
   "source": [
    "In this project, our primary objective is to address Rummikub challenges through the application of integer linear programming. Initially, we plan to focus on a two-player scenario, with the potential to expand to a four-player format if time permits. Also, if time allows, our ultimate goal is to develop an interactive online Rummikub board game, providing users with a platform for engaging gameplay."
   ]
  },
  {
   "cell_type": "markdown",
   "id": "e1d18db0",
   "metadata": {},
   "source": [
    "## Set up\n",
    "$2*4*13 + joker*2$"
   ]
  },
  {
   "cell_type": "code",
   "execution_count": 2,
   "id": "df52f7f3",
   "metadata": {},
   "outputs": [],
   "source": [
    "Deck = {\"Black\": [\"1\", \"1\", \"2\", \"2\", \"3\", \"3\", \"4\", \"4\", \"5\", \"5\", \"6\", \"6\", \n",
    "                  \"7\", \"7\", \"8\", \"8\", \"9\", \"9\", \"10\", \"10\", \"11\", \"11\", \"12\", \"12\", \"13\", \"13\"], \n",
    "        \"Red\": [\"1\", \"1\", \"2\", \"2\", \"3\", \"3\", \"4\", \"4\", \"5\", \"5\", \"6\", \"6\", \n",
    "                  \"7\", \"7\", \"8\", \"8\", \"9\", \"9\", \"10\", \"10\", \"11\", \"11\", \"12\", \"12\", \"13\", \"13\"], \n",
    "        \"Blue\": [\"1\", \"1\", \"2\", \"2\", \"3\", \"3\", \"4\", \"4\", \"5\", \"5\", \"6\", \"6\", \n",
    "                  \"7\", \"7\", \"8\", \"8\", \"9\", \"9\", \"10\", \"10\", \"11\", \"11\", \"12\", \"12\", \"13\", \"13\"], \n",
    "        \"Orange\": [\"1\", \"1\", \"2\", \"2\", \"3\", \"3\", \"4\", \"4\", \"5\", \"5\", \"6\", \"6\", \n",
    "                  \"7\", \"7\", \"8\", \"8\", \"9\", \"9\", \"10\", \"10\", \"11\", \"11\", \"12\", \"12\", \"13\", \"13\"], \n",
    "        \"Joker\": [\"J1\", \"J2\"]}"
   ]
  },
  {
   "cell_type": "code",
   "execution_count": 3,
   "id": "d0757517",
   "metadata": {},
   "outputs": [],
   "source": [
    "Penalty = {\"1\": 1, \"2\":2, \"3\":3, \"4\":4, \"5\":5, \"6\":6, \"7\":7, \"8\":8, \"9\": 9, \"10\":10, \"11\":11, \"12\":12, \n",
    "           \"13\":13, \"Joker\": 30}"
   ]
  },
  {
   "cell_type": "code",
   "execution_count": 4,
   "id": "f5bb6058",
   "metadata": {},
   "outputs": [],
   "source": [
    "Value = [1, 1, 2, 2, 3, 3, 4, 4, 5, 5, 6, 6, 7, 7, 8, 8, 9, 9, 10, 10, 11, 11, 12, 12, 13, 13]\n",
    "Value_matrix = Value * 4"
   ]
  },
  {
   "cell_type": "code",
   "execution_count": 5,
   "id": "354b3464",
   "metadata": {},
   "outputs": [
    {
     "name": "stdout",
     "output_type": "stream",
     "text": [
      "Set parameter Username\n",
      "Academic license - for non-commercial use only - expires 2024-08-30\n"
     ]
    }
   ],
   "source": [
    "model = gb.Model(\"Rummikub\")"
   ]
  },
  {
   "cell_type": "markdown",
   "id": "770ed55a",
   "metadata": {},
   "source": [
    "## Decision variables"
   ]
  },
  {
   "cell_type": "code",
   "execution_count": 8,
   "metadata": {},
   "outputs": [],
   "source": [
    "Deck_types = [\"Black1\", \"Black2\", \"Red1\", \"Red2\", \"Blue1\", \"Blue2\", \"Orange1\", \"Orange2\"]\n",
    "# Deck_types = [\"Black\", \"Red\", \"Orange\", \"Blue\"]\n",
    "Deck_values = [1, 2, 3, 4, 5, 6, 7, 8, 9, 10, 11, 12, 13]\n",
    "Joker = [\"Joker\"]\n",
    "Joker_values = [\"J1\", \"J2\"]\n",
    "\n",
    "# Reg_tile = model.addVars(Deck_types, Deck_values, vtype = GRB.BINARY, name = \"Tile_Regular\")\n",
    "# Jok_tile = model.addVars(Joker, Joker_values, vtype = GRB.BINARY, name = \"Tile1_Joker\")"
   ]
  },
  {
   "cell_type": "code",
   "execution_count": 9,
   "metadata": {},
   "outputs": [],
   "source": [
    "# I = len(Value_matrix)\n",
    "J = 1174"
   ]
  },
  {
   "cell_type": "code",
   "execution_count": 10,
   "metadata": {},
   "outputs": [],
   "source": [
    "S_reg = model.addVars(Deck_types, Deck_values, J, vtype = GRB.BINARY, \n",
    "                  name = [\"tile \"+ dt + \" \" + str(dv) + \" is in set \" + str(j+1) \n",
    "                          for dt in Deck_types for dv in Deck_values for j in range(J)])\n",
    "S_jok = model.addVars(Joker, Joker_values, J, vtype = GRB.BINARY, \n",
    "                      name = [\"tile Joker \" + dv + \" is in set \" + str(j+1) \n",
    "                              for dt in Joker for dv in Joker_values for j in range(J)])"
   ]
  },
  {
   "cell_type": "code",
   "execution_count": 11,
   "metadata": {},
   "outputs": [],
   "source": [
    "T_reg = model.addVars(Deck_types, Deck_values, lb = 0, ub = 2, vtype = GRB.INTEGER, \n",
    "                  name = [\"times of tile \" + dt + \" \" + str(dv) + \" on the table\" for dt in Deck_types for dv in Deck_values])\n",
    "T_jok = model.addVars(Joker, Joker_values, lb = 0, ub = 2, vtype = GRB.INTEGER, \n",
    "                  name = [\"times of tile Joker \" + dv + \"on the table\" for dt in Joker for dv in Joker_values])"
   ]
  },
  {
   "cell_type": "code",
   "execution_count": 12,
   "metadata": {},
   "outputs": [],
   "source": [
    "R_reg = model.addVars(Deck_types, Deck_values, lb = 0, ub = 2, vtype = GRB.INTEGER, \n",
    "                   name = [\"times of tile \" + dt + \" \" + str(dv) +\" on your rack\" for dt in Deck_types for dv in Deck_values])\n",
    "R_jok = model.addVars(Joker, Joker_values, lb = 0, ub = 2, vtype = GRB.INTEGER, \n",
    "                  name = [\"times of tile Joker\" + dv +\"on your rack\" for dt in Joker for dv in Joker_values])"
   ]
  },
  {
   "cell_type": "code",
   "execution_count": 13,
   "metadata": {},
   "outputs": [],
   "source": [
    "X = model.addVars(J, lb = 0, ub = 2, vtype = GRB.INTEGER, \n",
    "                  name = [\"times of set \"+str(j+1)+\" can be placed onto the table\" for j in range(J)])"
   ]
  },
  {
   "cell_type": "code",
   "execution_count": 14,
   "id": "04fc7cc6",
   "metadata": {},
   "outputs": [],
   "source": [
    "Y_reg = model.addVars(Deck_types, Deck_values, lb = 0, ub = 2, vtype = GRB.INTEGER, \n",
    "                  name = [\"times of tile \"+ dt + \" \" + str(dv) +\" can be placed from your rack onto the table\" \n",
    "                          for dt in Deck_types for dv in Deck_values])\n",
    "Y_jok = model.addVars(Joker, Joker_values, lb = 0, ub = 2, vtype = GRB.INTEGER, \n",
    "                  name = [\"times of tile Joker \" + dv +\" can be placed from your rack onto the table\" \n",
    "                          for dt in Joker for dv in Joker_values])"
   ]
  },
  {
   "cell_type": "code",
   "execution_count": 15,
   "metadata": {},
   "outputs": [],
   "source": [
    "# W = model.addVars(J, lb = 0, ub = 2, vtype = GRB.INTEGER, \n",
    "#                   name = [\"times of set \"+str(j+1)+\" on the table\" for j in range(J)])\n",
    "# M = 40\n",
    "# Z = model.addVars(J, lb = 0, ub = 2, vtype = GRB.INTEGER, \n",
    "#                   name = [\"times of set \"+str(j+1)+\" occurs in the old and in the new solution\" for j in range(J)])"
   ]
  },
  {
   "cell_type": "markdown",
   "id": "564ff9da",
   "metadata": {},
   "source": [
    "## Objective function"
   ]
  },
  {
   "cell_type": "code",
   "execution_count": 16,
   "id": "dd14f8bf",
   "metadata": {},
   "outputs": [],
   "source": [
    "# model.setObjective(quicksum(Value[i] * Y[i] for i in range(I)) + 1/M * quicksum(Z[j] for j in range(J)), GRB.MAXIMIZE)\n",
    "exp1 = quicksum(Value[value-1] * Y_reg[types, value] for types in Deck_types for value in Deck_values)\n",
    "exp2 = quicksum(Y_jok) * 30\n",
    "model.setObjective(exp1 + exp2, GRB.MAXIMIZE)"
   ]
  },
  {
   "cell_type": "markdown",
   "id": "caae869e",
   "metadata": {},
   "source": [
    "## Constraints"
   ]
  },
  {
   "cell_type": "code",
   "execution_count": 17,
   "id": "e39df400",
   "metadata": {},
   "outputs": [],
   "source": [
    "# how many times a tile is on the table\n",
    "model.addConstrs(quicksum(S_reg[types, value, j] * X[j] for j in range(J)) == T_reg[types, value] + Y_reg[types, value] \n",
    "                 for types in Deck_types for value in Deck_values)\n",
    "model.addConstr(quicksum(quicksum(S_jok) * X[j] for j in range(J)) == quicksum(T_jok) + quicksum(Y_jok))\n",
    "#model.addConstrs(quicksum(S[i, j]*X[j] for j in range(J)) == T[i] + Y[i] for i in range(I))\n",
    "model.update()"
   ]
  },
  {
   "cell_type": "code",
   "execution_count": 18,
   "id": "b082268f",
   "metadata": {},
   "outputs": [
    {
     "data": {
      "text/plain": [
       "{'J1': <gurobi.Constr *Awaiting Model Update*>,\n",
       " 'J2': <gurobi.Constr *Awaiting Model Update*>}"
      ]
     },
     "execution_count": 18,
     "metadata": {},
     "output_type": "execute_result"
    }
   ],
   "source": [
    "# number of times on the rack <= number of times moved from rack to table\n",
    "model.addConstrs(Y_reg[dt, dv] <= R_reg[dt, dv] for dt in Deck_types for dv in Deck_values)\n",
    "model.addConstrs(Y_jok[\"Joker\", dv] <= R_jok[\"Joker\", dv] for dv in Joker_values)"
   ]
  },
  {
   "cell_type": "code",
   "execution_count": 23,
   "metadata": {},
   "outputs": [],
   "source": [
    "#len(S_jok)"
   ]
  },
  {
   "cell_type": "code",
   "execution_count": 20,
   "metadata": {},
   "outputs": [],
   "source": [
    "# two jokers cannot be in the same set\n",
    "for j in range(J):\n",
    "    model.addConstr(S_jok[\"Joker1\", \"J1\", j] + S_jok[\"Joker1\", \"J2\", j] == 1)\n",
    "    model.addConstr(S_jok[\"Joker1\", \"J1\", j] + S_jok[\"Joker2\", \"J1\", j] == 1)\n"
   ]
  },
  {
   "cell_type": "code",
   "execution_count": null,
   "metadata": {},
   "outputs": [],
   "source": [
    "# number of times a set in a solution <= number of times a set being placed on the table\n",
    "# model.addConstrs(Z[j] <= X[j] for j in range(J))\n",
    "# number of times a set in a solution <= number of times a set on the table\n",
    "# model.addConstrs(Z[j] <= W[j] for j in range(J))"
   ]
  },
  {
   "cell_type": "code",
   "execution_count": null,
   "metadata": {},
   "outputs": [],
   "source": [
    "def play_card(dt, dv):\n",
    "    if dt in Joker:\n",
    "        model.addConstr()"
   ]
  },
  {
   "cell_type": "markdown",
   "id": "38811f7f",
   "metadata": {},
   "source": [
    "## Optimize"
   ]
  },
  {
   "cell_type": "code",
   "execution_count": 12,
   "id": "bc8bb3ff",
   "metadata": {},
   "outputs": [
    {
     "name": "stdout",
     "output_type": "stream",
     "text": [
      "Gurobi Optimizer version 10.0.3 build v10.0.3rc0 (mac64[x86])\n",
      "\n",
      "CPU model: Intel(R) Core(TM) i9-9880H CPU @ 2.30GHz\n",
      "Thread count: 8 physical cores, 16 logical processors, using up to 16 threads\n",
      "\n",
      "Optimize a model with 2401 rows, 65903 columns and 4802 nonzeros\n",
      "Model fingerprint: 0xa388fad1\n",
      "Model has 53 quadratic constraints\n",
      "Variable types: 0 continuous, 65903 integer (62222 binary)\n",
      "Coefficient statistics:\n",
      "  Matrix range     [1e+00, 1e+00]\n",
      "  QMatrix range    [1e+00, 1e+00]\n",
      "  QLMatrix range   [1e+00, 1e+00]\n",
      "  Objective range  [3e-02, 3e+01]\n",
      "  Bounds range     [1e+00, 2e+00]\n",
      "  RHS range        [0e+00, 0e+00]\n",
      "Found heuristic solution: objective -0.0000000\n",
      "Presolve removed 2401 rows and 2401 columns\n",
      "Presolve time: 0.15s\n",
      "Presolved: 186719 rows, 125724 columns, 497882 nonzeros\n",
      "Variable types: 0 continuous, 125724 integer (62222 binary)\n",
      "\n",
      "Root relaxation: objective 8.467000e+02, 0 iterations, 0.07 seconds (0.08 work units)\n",
      "\n",
      "    Nodes    |    Current Node    |     Objective Bounds      |     Work\n",
      " Expl Unexpl |  Obj  Depth IntInf | Incumbent    BestBd   Gap | It/Node Time\n",
      "\n",
      "*    0     0               0     846.7000000  846.70000  0.00%     -    1s\n",
      "\n",
      "Explored 1 nodes (0 simplex iterations) in 1.58 seconds (1.14 work units)\n",
      "Thread count was 16 (of 16 available processors)\n",
      "\n",
      "Solution count 2: 846.7 -0 \n",
      "\n",
      "Optimal solution found (tolerance 1.00e-04)\n",
      "Best objective 8.466999999999e+02, best bound 8.467000000000e+02, gap 0.0000%\n"
     ]
    }
   ],
   "source": [
    "model.optimize()"
   ]
  },
  {
   "cell_type": "code",
   "execution_count": 13,
   "metadata": {},
   "outputs": [
    {
     "data": {
      "text/plain": [
       "846.6999999999466"
      ]
     },
     "execution_count": 13,
     "metadata": {},
     "output_type": "execute_result"
    }
   ],
   "source": [
    "model.ObjVal"
   ]
  },
  {
   "cell_type": "code",
   "execution_count": 16,
   "metadata": {},
   "outputs": [],
   "source": [
    "# for v in model.getVars():\n",
    "#     if v.x != 0:\n",
    "#         print (v.varName, v.x)"
   ]
  },
  {
   "cell_type": "markdown",
   "metadata": {},
   "source": [
    "##### Some thoughts\n",
    "\n",
    "decision variables maybe should be separated by color\n",
    "\n",
    "interactive so that have enough tile on the table to solve and optimize\n",
    "\n",
    "after solving using ILP, show the solution in plain language, also show how many extra steps it will need to finish the game"
   ]
  },
  {
   "cell_type": "markdown",
   "metadata": {},
   "source": []
  }
 ],
 "metadata": {
  "kernelspec": {
   "display_name": "Python 3 (ipykernel)",
   "language": "python",
   "name": "python3"
  },
  "language_info": {
   "codemirror_mode": {
    "name": "ipython",
    "version": 3
   },
   "file_extension": ".py",
   "mimetype": "text/x-python",
   "name": "python",
   "nbconvert_exporter": "python",
   "pygments_lexer": "ipython3",
   "version": "3.11.5"
  }
 },
 "nbformat": 4,
 "nbformat_minor": 5
}
