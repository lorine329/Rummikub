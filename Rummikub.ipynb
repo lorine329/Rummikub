{
 "cells": [
  {
   "cell_type": "code",
   "execution_count": 1,
   "id": "4abf01f8",
   "metadata": {},
   "outputs": [],
   "source": [
    "import gurobipy as gb\n",
    "from gurobipy import *\n",
    "import numpy as np"
   ]
  },
  {
   "cell_type": "markdown",
   "id": "ee5338b3",
   "metadata": {},
   "source": [
    "# Rummikub"
   ]
  },
  {
   "cell_type": "markdown",
   "id": "f4a1a3d4",
   "metadata": {},
   "source": [
    "Rummikub is a game that combines elements of classic card games like Rummy with the strategy of tile placement. The game is played with a set of 106 tiles, with numbers ranging from 1 to 13 in four different colors (red, blue, yellow, and black). Additionally, there are two joker tiles in the set. The game is typically played by 2 to 4 players and revolves around the strategic placement and manipulation of numbered tiles. The objective of Rummikub is to be the first player to empty your rack of tiles by forming sets and runs of matching numbers. Sets consist of three or four tiles of the same number but different colors. For example, you could have a set of 3s with one red, one blue, and one black. Runs are sequences of at least three consecutive numbers of the same color. For instance, you could have a run of 4, 5, 6 in blue. The game continues until one player goes out, at which point they gain opponents' tile values, while others receive penalties determined by the remaining tiles in their racks."
   ]
  },
  {
   "cell_type": "markdown",
   "id": "fe655dc8",
   "metadata": {},
   "source": [
    "In this project, our primary objective is to address Rummikub challenges through the application of integer linear programming. Initially, we plan to focus on a two-player scenario, with the potential to expand to a four-player format if time permits. Also, if time allows, our ultimate goal is to develop an interactive online Rummikub board game, providing users with a platform for engaging gameplay."
   ]
  },
  {
   "cell_type": "markdown",
   "id": "e1d18db0",
   "metadata": {},
   "source": [
    "## Set up\n",
    "$2*4*13 + joker*2$"
   ]
  },
  {
   "cell_type": "code",
   "execution_count": 2,
   "id": "df52f7f3",
   "metadata": {},
   "outputs": [],
   "source": [
    "Deck = {\"Black\": [\"1\", \"1\", \"2\", \"2\", \"3\", \"3\", \"4\", \"4\", \"5\", \"5\", \"6\", \"6\", \n",
    "                  \"7\", \"7\", \"8\", \"8\", \"9\", \"9\", \"10\", \"10\", \"11\", \"11\", \"12\", \"12\", \"13\", \"13\"], \n",
    "        \"Red\": [\"1\", \"1\", \"2\", \"2\", \"3\", \"3\", \"4\", \"4\", \"5\", \"5\", \"6\", \"6\", \n",
    "                  \"7\", \"7\", \"8\", \"8\", \"9\", \"9\", \"10\", \"10\", \"11\", \"11\", \"12\", \"12\", \"13\", \"13\"], \n",
    "        \"Blue\": [\"1\", \"1\", \"2\", \"2\", \"3\", \"3\", \"4\", \"4\", \"5\", \"5\", \"6\", \"6\", \n",
    "                  \"7\", \"7\", \"8\", \"8\", \"9\", \"9\", \"10\", \"10\", \"11\", \"11\", \"12\", \"12\", \"13\", \"13\"], \n",
    "        \"Orange\": [\"1\", \"1\", \"2\", \"2\", \"3\", \"3\", \"4\", \"4\", \"5\", \"5\", \"6\", \"6\", \n",
    "                  \"7\", \"7\", \"8\", \"8\", \"9\", \"9\", \"10\", \"10\", \"11\", \"11\", \"12\", \"12\", \"13\", \"13\"], \n",
    "        \"Joker\": [\"J1\", \"J2\"]}"
   ]
  },
  {
   "cell_type": "code",
   "execution_count": 3,
   "id": "d0757517",
   "metadata": {},
   "outputs": [],
   "source": [
    "Penalty = {\"1\": 1, \"2\":2, \"3\":3, \"4\":4, \"5\":5, \"6\":6, \"7\":7, \"8\":8, \"9\": 9, \"10\":10, \"11\":11, \"12\":12, \n",
    "           \"13\":13, \"Joker\": 30}"
   ]
  },
  {
   "cell_type": "code",
   "execution_count": 4,
   "id": "f5bb6058",
   "metadata": {},
   "outputs": [],
   "source": [
    "Value = [1, 1, 2, 2, 3, 3, 4, 4, 5, 5, 6, 6, 7, 7, 8, 8, 9, 9, 10, 10, 11, 11, 12, 12, 13, 13]\n",
    "Value_matrix = Value * 4"
   ]
  },
  {
   "cell_type": "code",
   "execution_count": 5,
   "id": "354b3464",
   "metadata": {},
   "outputs": [
    {
     "name": "stdout",
     "output_type": "stream",
     "text": [
      "Set parameter Username\n",
      "Academic license - for non-commercial use only - expires 2024-08-30\n"
     ]
    }
   ],
   "source": [
    "model = gb.Model(\"Rummikub\")"
   ]
  },
  {
   "cell_type": "code",
   "execution_count": 5,
   "id": "fe3b857a",
   "metadata": {},
   "outputs": [],
   "source": [
    "# Deck_types = [\"Black1\", \"Black2\", \"Red1\", \"Red2\", \"Blue1\", \"Blue2\", \"Orange1\", \"Orange2\"]\n",
    "# Joker_values = [\"J1\", \"J2\"]\n",
    "Deck_types = [\"Black\", \"Red\", \"Orange\", \"Blue\"]\n",
    "Deck_values = [1, 2, 3, 4, 5, 6, 7, 8, 9, 10, 11, 12, 13]\n",
    "Joker = [\"Joker\"]\n",
    "Joker_values = [\"J\"]\n"
   ]
  },
  {
   "cell_type": "code",
   "execution_count": 6,
   "id": "f6041bec",
   "metadata": {},
   "outputs": [],
   "source": [
    "# I = len(Value_matrix)\n",
    "J = 1173"
   ]
  },
  {
   "cell_type": "markdown",
   "id": "245bbbe6",
   "metadata": {},
   "source": [
    "#### All Possible Sets"
   ]
  },
  {
   "cell_type": "code",
   "execution_count": 7,
   "id": "7050dda8",
   "metadata": {},
   "outputs": [],
   "source": [
    "# Adjusting the setup to consider only the deck color\n",
    "Deck_colors = [\"Black\", \"Red\", \"Blue\", \"Orange\"]\n",
    "\n",
    "# Generating all possible sets with three consecutive numbers\n",
    "# and represent each card in the set using Deck_color and Deck_values\n",
    "three_consecutive_set_no_joker = []\n",
    "\n",
    "for value in Deck_values[:-2]:  # Iterate through the values, stopping two before the end\n",
    "    for color in Deck_colors:\n",
    "        # Create a set of three consecutive cards of the same color\n",
    "        consecutive_set = [(color, value), (color, value + 1), (color, value + 2)]\n",
    "        three_consecutive_set_no_joker.append(consecutive_set)\n"
   ]
  },
  {
   "cell_type": "code",
   "execution_count": 8,
   "id": "8cab3b35",
   "metadata": {},
   "outputs": [],
   "source": [
    "# Adjusting the setup to include one Joker in each set\n",
    "# The Joker can replace any one of the three cards in the set\n",
    "\n",
    "three_consecutive_set_one_joker = []\n",
    "# Iterate through each color and value, creating sets with one Joker\n",
    "for color in Deck_colors:\n",
    "    for value in Deck_values[:-2]:  # Iterate through the values, stopping two before the end\n",
    "        # For each set of three consecutive values, create three sets, each with one Joker\n",
    "        if value == 1:\n",
    "            for i in range(3):\n",
    "                consecutive_set_one_joker = [(color, value), (color, value + 1), (color, value + 2)]\n",
    "                consecutive_set_one_joker[i] = \"Joker\"  # Replace one card with a Joker\n",
    "                three_consecutive_set_one_joker.append(consecutive_set_one_joker)\n",
    "        else:\n",
    "            for i in range(2):\n",
    "                consecutive_set_one_joker = [(color, value), (color, value + 1), (color, value + 2)]\n",
    "                consecutive_set_one_joker[i] = \"Joker\"  # Replace one card with a Joker\n",
    "                three_consecutive_set_one_joker.append(consecutive_set_one_joker)\n"
   ]
  },
  {
   "cell_type": "code",
   "execution_count": 9,
   "id": "4eff9d12",
   "metadata": {},
   "outputs": [],
   "source": [
    "# Adjusting the setup to include exactly two Jokers in each set\n",
    "# Each set will now consist of one card from the deck and two Jokers\n",
    "\n",
    "# Generating all possible sets with one card from the deck and two Jokers\n",
    "three_consecutive_sets_with_two_jokers = []\n",
    "\n",
    "for color in Deck_colors:\n",
    "    for value in Deck_values:  # Iterate through all values\n",
    "        # Create a set with one card from the deck and two Jokers\n",
    "        set_with_two_jokers = [(color, value), \"Joker\", \"Joker\"]\n",
    "        three_consecutive_sets_with_two_jokers.append(set_with_two_jokers)"
   ]
  },
  {
   "cell_type": "code",
   "execution_count": 10,
   "id": "448ec82c",
   "metadata": {},
   "outputs": [],
   "source": [
    "# Generating sets with four consecutive numbers, same color, and without Joker\n",
    "\n",
    "four_consecutive_sets_no_joker = []\n",
    "\n",
    "for color in Deck_colors:\n",
    "    for value in Deck_values[:-3]:  # Iterate through values, stopping three before the end\n",
    "        # Create a set of four consecutive cards of the same color\n",
    "        consecutive_set = [(color, value), (color, value + 1), (color, value + 2), (color, value + 3)]\n",
    "        four_consecutive_sets_no_joker.append(consecutive_set)"
   ]
  },
  {
   "cell_type": "code",
   "execution_count": 11,
   "id": "c8d41050",
   "metadata": {},
   "outputs": [],
   "source": [
    "four_consecutive_sets_one_joker = []\n",
    "\n",
    "for color in Deck_colors:\n",
    "    for value in Deck_values[:-3]:  # Iterate through values, stopping three before the end\n",
    "        # Create a set of four consecutive cards of the same color\n",
    "        if value == 1:\n",
    "            for i in range(4):\n",
    "                consecutive_set = [(color, value), (color, value + 1), (color, value + 2), (color, value + 3)]\n",
    "                consecutive_set[i] = \"Joker\"\n",
    "                four_consecutive_sets_one_joker.append(consecutive_set)\n",
    "        else:\n",
    "            for i in range(3):\n",
    "                consecutive_set = [(color, value), (color, value + 1), (color, value + 2), (color, value + 3)]\n",
    "                consecutive_set[i] = \"Joker\"\n",
    "                four_consecutive_sets_one_joker.append(consecutive_set)"
   ]
  },
  {
   "cell_type": "code",
   "execution_count": 12,
   "id": "b4acf4f2",
   "metadata": {},
   "outputs": [],
   "source": [
    "four_consecutive_sets_two_joker = []\n",
    "\n",
    "for color in Deck_colors:\n",
    "    for value in Deck_values[:-3]:  # Iterate through values, stopping three before the end\n",
    "        # Create a set of four consecutive cards of the same color\n",
    "        if value == 1:\n",
    "            for i in range(3):\n",
    "                for j in range(i+1, 4):\n",
    "                    consecutive_set = [(color, value), (color, value + 1), (color, value + 2), (color, value + 3)]\n",
    "                    consecutive_set[i] = \"Joker\"\n",
    "                    consecutive_set[j] = \"Joker\"\n",
    "                    four_consecutive_sets_two_joker.append(consecutive_set)\n",
    "        else:\n",
    "            for i in range(2):\n",
    "                for j in range(i+1, 3):\n",
    "                    consecutive_set = [(color, value), (color, value + 1), (color, value + 2), (color, value + 3)]\n",
    "                    consecutive_set[i] = \"Joker\"\n",
    "                    consecutive_set[j] = \"Joker\"\n",
    "                    four_consecutive_sets_two_joker.append(consecutive_set)"
   ]
  },
  {
   "cell_type": "code",
   "execution_count": 13,
   "id": "84d198f5",
   "metadata": {},
   "outputs": [],
   "source": [
    "# Generating sets with five consecutive numbers, same color, and without Joker\n",
    "\n",
    "five_consecutive_sets_no_joker = []\n",
    "\n",
    "for color in Deck_colors:\n",
    "    for value in Deck_values[:-4]:  # Iterate through values, stopping four before the end\n",
    "        # Create a set of five consecutive cards of the same color\n",
    "        consecutive_set = [(color, value), (color, value + 1), (color, value + 2), (color, value + 3), (color, value + 4)]\n",
    "        five_consecutive_sets_no_joker.append(consecutive_set)"
   ]
  },
  {
   "cell_type": "code",
   "execution_count": 14,
   "id": "f8e088b0",
   "metadata": {},
   "outputs": [],
   "source": [
    "# Generating sets with five consecutive numbers, same color, and 1 Joker\n",
    "\n",
    "five_consecutive_sets_one_joker = []\n",
    "\n",
    "for color in Deck_colors:\n",
    "    for value in Deck_values[:-4]:  # Iterate through values, stopping four before the end\n",
    "        # Create a set of five consecutive cards of the same color\n",
    "        if value == 1:\n",
    "            for i in range(5):\n",
    "                consecutive_set = [(color, value), (color, value + 1), (color, value + 2), (color, value + 3), (color, value + 4)]\n",
    "                consecutive_set[i] = \"Joker\"\n",
    "                five_consecutive_sets_one_joker.append(consecutive_set)\n",
    "        else:\n",
    "            for i in range(4):\n",
    "                consecutive_set = [(color, value), (color, value + 1), (color, value + 2), (color, value + 3), (color, value + 4)]\n",
    "                consecutive_set[i] = \"Joker\"\n",
    "                five_consecutive_sets_one_joker.append(consecutive_set)"
   ]
  },
  {
   "cell_type": "code",
   "execution_count": 15,
   "id": "6124f54e",
   "metadata": {},
   "outputs": [],
   "source": [
    "# Generating sets with five consecutive numbers, same color, and 2 Joker\n",
    "\n",
    "five_consecutive_sets_two_joker = []\n",
    "\n",
    "for color in Deck_colors:\n",
    "    for value in Deck_values[:-4]:  # Iterate through values, stopping four before the end\n",
    "        # Create a set of five consecutive cards of the same color\n",
    "        if value == 1:\n",
    "            for i in range(4):\n",
    "                for j in range(i+1, 5):\n",
    "                    consecutive_set = [(color, value), (color, value + 1), (color, value + 2), (color, value + 3), (color, value + 4)]\n",
    "                    consecutive_set[i] = \"Joker\"\n",
    "                    consecutive_set[j] = \"Joker\"\n",
    "                    five_consecutive_sets_two_joker.append(consecutive_set)\n",
    "        else:\n",
    "            for i in range(3):\n",
    "                for j in range(i+1, 4):\n",
    "                    consecutive_set = [(color, value), (color, value + 1), (color, value + 2), (color, value + 3), (color, value + 4)]\n",
    "                    consecutive_set[i] = \"Joker\"\n",
    "                    consecutive_set[j] = \"Joker\"\n",
    "                    five_consecutive_sets_two_joker.append(consecutive_set)"
   ]
  },
  {
   "cell_type": "code",
   "execution_count": 16,
   "id": "0039f340",
   "metadata": {},
   "outputs": [],
   "source": [
    "# Generating sets of three cards, each from a different color, without Jokers, and all cards having the same value\n",
    "\n",
    "three_cards_different_colors_same_value = []\n",
    "\n",
    "for value in Deck_values:\n",
    "    # Iterate through combinations of three different colors\n",
    "    for i in range(len(Deck_colors)):\n",
    "        for j in range(i + 1, len(Deck_colors)):\n",
    "            for k in range(j + 1, len(Deck_colors)):\n",
    "                # Create a set with one card from each of the three different colors, all with the same value\n",
    "                set_of_three = [(Deck_colors[i], value), (Deck_colors[j], value), (Deck_colors[k], value)]\n",
    "                three_cards_different_colors_same_value.append(set_of_three)"
   ]
  },
  {
   "cell_type": "code",
   "execution_count": 17,
   "id": "45477e04",
   "metadata": {},
   "outputs": [],
   "source": [
    "# Generating sets of three cards, each from a different color, 1 Jokers, and all cards having the same value\n",
    "\n",
    "three_cards_different_colors_1_joker = []\n",
    "\n",
    "for value in Deck_values:\n",
    "    # Iterate through combinations of three different colors\n",
    "    for i in range(len(Deck_colors)):\n",
    "        for j in range(i + 1, len(Deck_colors)):\n",
    "            # Create a set with one card from each of the three different colors, all with the same value\n",
    "            set_of_three = [(Deck_colors[i], value), (Deck_colors[j], value), \"Joker\"]\n",
    "            three_cards_different_colors_1_joker.append(set_of_three)"
   ]
  },
  {
   "cell_type": "code",
   "execution_count": 18,
   "id": "4261b31c",
   "metadata": {},
   "outputs": [],
   "source": [
    "four_cards_different_colors_same_value = []\n",
    "\n",
    "for value in Deck_values:\n",
    "    # Iterate through combinations of three different colors\n",
    "    set_of_four = [(Deck_colors[0], value), (Deck_colors[1], value), (Deck_colors[2], value), (Deck_colors[3], value)]\n",
    "    four_cards_different_colors_same_value.append(set_of_four)"
   ]
  },
  {
   "cell_type": "code",
   "execution_count": 19,
   "id": "f2715ab3",
   "metadata": {},
   "outputs": [],
   "source": [
    "# Generating sets of four cards, each from a different color, 1 Jokers, and all cards having the same value\n",
    "\n",
    "four_cards_different_colors_1_joker = []\n",
    "\n",
    "for value in Deck_values:\n",
    "    # Iterate through combinations of three different colors\n",
    "    for i in range(len(Deck_colors)):\n",
    "        for j in range(i + 1, len(Deck_colors)):\n",
    "            for k in range(j + 1, len(Deck_colors)):\n",
    "                # Create a set with one card from each of the three different colors, all with the same value\n",
    "                set_of_four = [(Deck_colors[i], value), (Deck_colors[j], value), (Deck_colors[k], value), \"Joker\"]\n",
    "                four_cards_different_colors_1_joker.append(set_of_four)"
   ]
  },
  {
   "cell_type": "code",
   "execution_count": 20,
   "id": "cc3f5244",
   "metadata": {},
   "outputs": [],
   "source": [
    "# Generating sets of four cards, each from a different color, 2 Jokers, and all cards having the same value\n",
    "\n",
    "four_cards_different_colors_2_joker = []\n",
    "\n",
    "for value in Deck_values:\n",
    "    # Iterate through combinations of three different colors\n",
    "    for i in range(len(Deck_colors)):\n",
    "        for j in range(i + 1, len(Deck_colors)):\n",
    "            # Create a set with one card from each of the three different colors, all with the same value\n",
    "            set_of_four = [(Deck_colors[i], value), (Deck_colors[j], value), \"Joker\", \"Joker\"]\n",
    "            four_cards_different_colors_2_joker.append(set_of_four)"
   ]
  },
  {
   "cell_type": "code",
   "execution_count": 21,
   "id": "0f555ee9",
   "metadata": {},
   "outputs": [],
   "source": [
    "three_consecutives = three_consecutive_set_no_joker + three_consecutive_set_one_joker + three_consecutive_sets_with_two_jokers\n",
    "four_consecutives = four_consecutive_sets_no_joker + four_consecutive_sets_one_joker + four_consecutive_sets_two_joker\n",
    "five_consecutives = five_consecutive_sets_no_joker + five_consecutive_sets_one_joker + five_consecutive_sets_two_joker\n",
    "three_same = three_cards_different_colors_same_value + three_cards_different_colors_1_joker\n",
    "four_same = four_cards_different_colors_same_value + four_cards_different_colors_1_joker + four_cards_different_colors_2_joker\n",
    "all_sets = three_consecutives + four_consecutives + five_consecutives + three_same + four_same"
   ]
  },
  {
   "cell_type": "code",
   "execution_count": 22,
   "id": "d8bb2ff0",
   "metadata": {},
   "outputs": [
    {
     "data": {
      "text/plain": [
       "1173"
      ]
     },
     "execution_count": 22,
     "metadata": {},
     "output_type": "execute_result"
    }
   ],
   "source": [
    "len(all_sets)"
   ]
  },
  {
   "cell_type": "markdown",
   "id": "770ed55a",
   "metadata": {},
   "source": [
    "## Decision variables"
   ]
  },
  {
   "cell_type": "code",
   "execution_count": 24,
   "id": "c321202c",
   "metadata": {},
   "outputs": [],
   "source": [
    "S_reg = model.addVars(Deck_types, Deck_values, J, vtype = GRB.BINARY, \n",
    "                  name = [\"tile \"+ dt + \" \" + str(dv) + \" is in set \" + str(j+1) \n",
    "                          for dt in Deck_types for dv in Deck_values for j in range(J)])\n",
    "S_jok = model.addVars(Joker, Joker_values, J, vtype = GRB.BINARY, \n",
    "                      name = [\"tile Joker \" + dv + \" is in set \" + str(j+1) \n",
    "                              for dt in Joker for dv in Joker_values for j in range(J)])"
   ]
  },
  {
   "cell_type": "code",
   "execution_count": 25,
   "id": "9e3bc22f",
   "metadata": {},
   "outputs": [],
   "source": [
    "T_reg = model.addVars(Deck_types, Deck_values, lb = 0, ub = 2, vtype = GRB.INTEGER, \n",
    "                  name = [\"times of tile \" + dt + \" \" + str(dv) + \" on the table\" for dt in Deck_types for dv in Deck_values])\n",
    "T_jok = model.addVars(Joker, Joker_values, lb = 0, ub = 2, vtype = GRB.INTEGER, \n",
    "                  name = [\"times of tile Joker \" + dv + \"on the table\" for dt in Joker for dv in Joker_values])"
   ]
  },
  {
   "cell_type": "code",
   "execution_count": 26,
   "id": "0b628a40",
   "metadata": {},
   "outputs": [],
   "source": [
    "R_reg = model.addVars(Deck_types, Deck_values, lb = 0, ub = 2, vtype = GRB.INTEGER, \n",
    "                   name = [\"times of tile \" + dt + \" \" + str(dv) +\" on your rack\" for dt in Deck_types for dv in Deck_values])\n",
    "R_jok = model.addVars(Joker, Joker_values, lb = 0, ub = 2, vtype = GRB.INTEGER, \n",
    "                  name = [\"times of tile Joker\" + dv +\"on your rack\" for dt in Joker for dv in Joker_values])"
   ]
  },
  {
   "cell_type": "code",
   "execution_count": 27,
   "id": "04fc7cc6",
   "metadata": {},
   "outputs": [],
   "source": [
    "Y_reg = model.addVars(Deck_types, Deck_values, lb = 0, ub = 2, vtype = GRB.INTEGER, \n",
    "                  name = [\"times of tile \"+ dt + \" \" + str(dv) +\" can be placed from your rack onto the table\" \n",
    "                          for dt in Deck_types for dv in Deck_values])\n",
    "Y_jok = model.addVars(Joker, Joker_values, lb = 0, ub = 2, vtype = GRB.INTEGER, \n",
    "                  name = [\"times of tile Joker \" + dv +\" can be placed from your rack onto the table\" \n",
    "                          for dv in Joker_values])"
   ]
  },
  {
   "cell_type": "code",
   "execution_count": 28,
   "id": "97d79368",
   "metadata": {},
   "outputs": [],
   "source": [
    "X = model.addVars(J, lb = 0, ub = 2, vtype = GRB.INTEGER, \n",
    "                  name = [\"times of set \"+str(all_sets[j])+\" can be placed onto the table\" for j in range(J)])"
   ]
  },
  {
   "cell_type": "code",
   "execution_count": 29,
   "id": "22382298",
   "metadata": {},
   "outputs": [],
   "source": [
    "# W = model.addVars(J, lb = 0, ub = 2, vtype = GRB.INTEGER, \n",
    "#                   name = [\"times of set \"+str(j+1)+\" on the table\" for j in range(J)])\n",
    "# M = 40\n",
    "# Z = model.addVars(J, lb = 0, ub = 2, vtype = GRB.INTEGER, \n",
    "#                   name = [\"times of set \"+str(j+1)+\" occurs in the old and in the new solution\" for j in range(J)])"
   ]
  },
  {
   "cell_type": "code",
   "execution_count": null,
   "id": "e2428b05",
   "metadata": {},
   "outputs": [],
   "source": [
    "def add_decision_variables(model):\n",
    "    S_reg = model.addVars(Deck_types, Deck_values, J, vtype = GRB.BINARY, \n",
    "                  name = [\"tile \"+ dt + \" \" + str(dv) + \" is in set \" + str(j+1) \n",
    "                          for dt in Deck_types for dv in Deck_values for j in range(J)])\n",
    "    S_jok = model.addVars(Joker, Joker_values, J, vtype = GRB.BINARY, \n",
    "                      name = [\"tile Joker \" + dv + \" is in set \" + str(j+1) \n",
    "                              for dt in Joker for dv in Joker_values for j in range(J)])\n",
    "    \n",
    "    T_reg = model.addVars(Deck_types, Deck_values, lb = 0, ub = 2, vtype = GRB.INTEGER, \n",
    "                  name = [\"times of tile \" + dt + \" \" + str(dv) + \" on the table\" for dt in Deck_types for dv in Deck_values])\n",
    "    T_jok = model.addVars(Joker, Joker_values, lb = 0, ub = 2, vtype = GRB.INTEGER, \n",
    "                  name = [\"times of tile Joker \" + dv + \"on the table\" for dt in Joker for dv in Joker_values])\n",
    "    \n",
    "    R_reg = model.addVars(Deck_types, Deck_values, lb = 0, ub = 2, vtype = GRB.INTEGER, \n",
    "                   name = [\"times of tile \" + dt + \" \" + str(dv) +\" on your rack\" for dt in Deck_types for dv in Deck_values])\n",
    "    R_jok = model.addVars(Joker, Joker_values, lb = 0, ub = 2, vtype = GRB.INTEGER, \n",
    "                  name = [\"times of tile Joker\" + dv +\"on your rack\" for dt in Joker for dv in Joker_values])\n",
    "    \n",
    "    Y_reg = model.addVars(Deck_types, Deck_values, lb = 0, ub = 2, vtype = GRB.INTEGER, \n",
    "                  name = [\"times of tile \"+ dt + \" \" + str(dv) +\" can be placed from your rack onto the table\" \n",
    "                          for dt in Deck_types for dv in Deck_values])\n",
    "    Y_jok = model.addVars(Joker, Joker_values, lb = 0, ub = 2, vtype = GRB.INTEGER, \n",
    "                  name = [\"times of tile Joker \" + dv +\" can be placed from your rack onto the table\" \n",
    "                          for dv in Joker_values])\n",
    "    \n",
    "    X = model.addVars(J, lb = 0, ub = 2, vtype = GRB.INTEGER, \n",
    "                  name = [\"times of set \"+str(all_sets[j])+\" can be placed onto the table\" for j in range(J)])\n",
    "    \n",
    "    return S_reg, S_jok, T_reg, T_jok, R_reg, R_jok, Y_reg, Y_jok, X"
   ]
  },
  {
   "cell_type": "markdown",
   "id": "564ff9da",
   "metadata": {},
   "source": [
    "## Objective function"
   ]
  },
  {
   "cell_type": "code",
   "execution_count": 30,
   "id": "dd14f8bf",
   "metadata": {},
   "outputs": [],
   "source": [
    "# model.setObjective(quicksum(Value[i] * Y[i] for i in range(I)) + 1/M * quicksum(Z[j] for j in range(J)), GRB.MAXIMIZE)\n",
    "exp1 = quicksum(Value[value-1] * Y_reg[types, value] for types in Deck_types for value in Deck_values)\n",
    "exp2 = quicksum(Y_jok) * 30\n",
    "model.setObjective(exp1 + exp2, GRB.MAXIMIZE)"
   ]
  },
  {
   "cell_type": "code",
   "execution_count": null,
   "id": "dc121c7e",
   "metadata": {},
   "outputs": [],
   "source": [
    "def set_objective(model, Value, Y_reg, Y_jok):\n",
    "    exp1 = quicksum(Value[value-1] * Y_reg[types, value] for types in Deck_types for value in Deck_values)\n",
    "    exp2 = quicksum(Y_jok) * 30\n",
    "    model.setObjective(exp1 + exp2, GRB.MAXIMIZE)"
   ]
  },
  {
   "cell_type": "markdown",
   "id": "caae869e",
   "metadata": {},
   "source": [
    "## Constraints"
   ]
  },
  {
   "cell_type": "code",
   "execution_count": 31,
   "id": "e39df400",
   "metadata": {},
   "outputs": [],
   "source": [
    "# how many times a tile is on the table\n",
    "model.addConstrs(quicksum(S_reg[types, value, j] * X[j] for j in range(J)) == T_reg[types, value] + Y_reg[types, value] \n",
    "                 for types in Deck_types for value in Deck_values)\n",
    "model.addConstr(quicksum(quicksum(S_jok) * X[j] for j in range(J)) == quicksum(T_jok) + quicksum(Y_jok))\n",
    "#model.addConstrs(quicksum(S[i, j]*X[j] for j in range(J)) == T[i] + Y[i] for i in range(I))\n",
    "model.update()"
   ]
  },
  {
   "cell_type": "code",
   "execution_count": 32,
   "id": "b082268f",
   "metadata": {},
   "outputs": [
    {
     "data": {
      "text/plain": [
       "{'J': <gurobi.Constr *Awaiting Model Update*>}"
      ]
     },
     "execution_count": 32,
     "metadata": {},
     "output_type": "execute_result"
    }
   ],
   "source": [
    "# number of times on the rack <= number of times moved from rack to table\n",
    "model.addConstrs(Y_reg[dt, dv] <= R_reg[dt, dv] for dt in Deck_types for dv in Deck_values)\n",
    "model.addConstrs(Y_jok[\"Joker\", dv] <= R_jok[\"Joker\", dv] for dv in Joker_values)"
   ]
  },
  {
   "cell_type": "code",
   "execution_count": null,
   "id": "7353d4b4",
   "metadata": {},
   "outputs": [],
   "source": [
    "def add_default_constraints(model, S_reg, S_jok, T_reg, T_jok, Y_reg, Y_jok, R_reg, R_jok, X):\n",
    "    # how many times a tile is on the table\n",
    "    model.addConstrs(quicksum(S_reg[types, value, j] * X[j] for j in range(J)) == T_reg[types, value] + Y_reg[types, value] \n",
    "                 for types in Deck_types for value in Deck_values)\n",
    "    model.addConstr(quicksum(quicksum(S_jok) * X[j] for j in range(J)) == quicksum(T_jok) + quicksum(Y_jok))\n",
    "    #model.addConstrs(quicksum(S[i, j]*X[j] for j in range(J)) == T[i] + Y[i] for i in range(I))\n",
    "    model.update()\n",
    "    \n",
    "    # number of times on the rack <= number of times moved from rack to table\n",
    "    model.addConstrs(Y_reg[dt, dv] <= R_reg[dt, dv] for dt in Deck_types for dv in Deck_values)\n",
    "    model.addConstrs(Y_jok[\"Joker\", dv] <= R_jok[\"Joker\", dv] for dv in Joker_values)"
   ]
  },
  {
   "cell_type": "code",
   "execution_count": 33,
   "id": "03f18bca",
   "metadata": {},
   "outputs": [],
   "source": [
    "# number of times a set in a solution <= number of times a set being placed on the table\n",
    "# model.addConstrs(Z[j] <= X[j] for j in range(J))\n",
    "# number of times a set in a solution <= number of times a set on the table\n",
    "# model.addConstrs(Z[j] <= W[j] for j in range(J))"
   ]
  },
  {
   "cell_type": "code",
   "execution_count": 34,
   "id": "51124c3b",
   "metadata": {},
   "outputs": [
    {
     "data": {
      "text/plain": [
       "41"
      ]
     },
     "execution_count": 34,
     "metadata": {},
     "output_type": "execute_result"
    }
   ],
   "source": [
    "all_sets.index([('Red', 11), ('Red', 12), ('Red', 13)])"
   ]
  },
  {
   "cell_type": "code",
   "execution_count": 55,
   "id": "633b8c45",
   "metadata": {},
   "outputs": [],
   "source": [
    "model.addConstr(S_reg[\"Black\", 1, 188] == 1) # tiles in set\n",
    "model.addConstr(T_reg[\"Black\", 1] >= 1) # times of tile on the table\n",
    "model.addConstr(Y_reg[\"Black\", 1] <= 1) # times of tile can be placed from rack to table\n",
    "# model.addConstr(R_reg[\"Black1\", 1] == R_reg[\"Black1\", 1] - 1) # times of tile on your rack\n",
    "\n",
    "model.addConstr(S_reg[\"Black\", 2, 188] == 1)\n",
    "model.addConstr(T_reg[\"Black\", 2] >= 1)\n",
    "model.addConstr(Y_reg[\"Black\", 2] == 0) # original one card on table, = 1; now another one on rack, = 0\n",
    "# model.addConstr(R_reg[\"Black1\", 2] == R_reg[\"Black1\", 2] - 1)\n",
    "\n",
    "model.addConstr(S_reg[\"Black\", 3, 188] == 1)\n",
    "model.addConstr(T_reg[\"Black\", 3] >= 1)\n",
    "model.addConstr(Y_reg[\"Black\", 3] <= 1)\n",
    "# model.addConstr(R_reg[\"Black1\", 3] == R_reg[\"Black1\", 3] - 1)\n",
    "\n",
    "model.addConstr(S_reg[\"Black\", 4, 188] == 1)\n",
    "model.addConstr(T_reg[\"Black\", 4] >= 1)\n",
    "model.addConstr(Y_reg[\"Black\", 4] <= 1)\n",
    "# model.addConstr(R_reg[\"Black1\", 4] == R_reg[\"Black1\", 4] - 1)\n",
    "\n",
    "model.addConstr(S_reg[\"Black\", 10, 36] == 1)\n",
    "model.addConstr(T_reg[\"Black\", 10] >= 1)\n",
    "model.addConstr(Y_reg[\"Black\", 10] <= 1)\n",
    "# model.addConstr(R_reg[\"Black1\", 10] == R_reg[\"Black1\", 10] - 1)\n",
    "\n",
    "model.addConstr(S_reg[\"Black\", 11, 36] == 1)\n",
    "model.addConstr(T_reg[\"Black\", 11] >= 1)\n",
    "model.addConstr(Y_reg[\"Black\", 11] <= 1)\n",
    "# model.addConstr(R_reg[\"Black1\", 11] == R_reg[\"Black1\", 11] - 1)\n",
    "\n",
    "model.addConstr(S_reg[\"Black\", 12, 36] == 1)\n",
    "model.addConstr(T_reg[\"Black\", 12] >= 1)\n",
    "model.addConstr(Y_reg[\"Black\", 12] <= 1)\n",
    "# model.addConstr(R_reg[\"Black1\", 12] == R_reg[\"Black1\", 12] - 1)\n",
    "\n",
    "model.addConstr(S_reg[\"Orange\", 6, 23] == 1)\n",
    "model.addConstr(T_reg[\"Orange\", 6] >= 1)\n",
    "model.addConstr(Y_reg[\"Orange\", 6] <= 1)\n",
    "# model.addConstr(R_reg[\"Orange1\", 6] == R_reg[\"Orange1\", 6] - 1)\n",
    "\n",
    "model.addConstr(S_reg[\"Orange\", 7, 23] == 1)\n",
    "model.addConstr(T_reg[\"Orange\", 7] >= 1)\n",
    "model.addConstr(Y_reg[\"Orange\", 7] <= 1)\n",
    "# model.addConstr(R_reg[\"Orange1\", 7] == R_reg[\"Orange1\", 7] - 1)\n",
    "\n",
    "model.addConstr(S_reg[\"Orange\", 8, 23] == 1)\n",
    "model.addConstr(T_reg[\"Orange\", 8] >= 1)\n",
    "model.addConstr(Y_reg[\"Orange\", 8] <= 1)\n",
    "# model.addConstr(R_reg[\"Orange1\", 8] == R_reg[\"Orange1\", 8] - 1)\n",
    "\n",
    "model.addConstr(S_reg[\"Orange\", 9, 519] == 1)\n",
    "model.addConstr(T_reg[\"Orange\", 9] >= 1)\n",
    "model.addConstr(Y_reg[\"Orange\", 9] <= 1)\n",
    "# model.addConstr(R_reg[\"Orange1\", 9] == R_reg[\"Orange1\", 9] - 1)\n",
    "\n",
    "model.addConstr(S_reg[\"Orange\", 10, 519] == 1)\n",
    "model.addConstr(T_reg[\"Orange\", 10] >= 1)\n",
    "model.addConstr(Y_reg[\"Orange\", 10] <= 1)\n",
    "# model.addConstr(R_reg[\"Orange1\", 10] == R_reg[\"Orange1\", 10] - 1)\n",
    "\n",
    "model.addConstr(S_reg[\"Orange\", 11, 519] == 1)\n",
    "model.addConstr(T_reg[\"Orange\", 11] >= 1)\n",
    "model.addConstr(Y_reg[\"Orange\", 11] <= 1)\n",
    "# model.addConstr(R_reg[\"Orange1\", 11] == R_reg[\"Orange1\", 11] - 1)\n",
    "\n",
    "model.addConstr(S_reg[\"Orange\", 12, 519] == 1)\n",
    "model.addConstr(T_reg[\"Orange\", 12] >= 1)\n",
    "model.addConstr(Y_reg[\"Orange\", 12] <= 1)\n",
    "# model.addConstr(R_reg[\"Orange1\", 12] == R_reg[\"Orange1\", 12] - 1)\n",
    "\n",
    "model.addConstr(S_reg[\"Orange\", 13, 519] == 1)\n",
    "model.addConstr(T_reg[\"Orange\", 13] >= 1)\n",
    "model.addConstr(Y_reg[\"Orange\", 13] <= 1)\n",
    "# model.addConstr(R_reg[\"Orange1\", 13] == R_reg[\"Orange1\", 13] - 1)\n",
    "\n",
    "model.addConstr(S_reg[\"Blue\", 7, 26] == 1)\n",
    "model.addConstr(T_reg[\"Blue\", 7] >= 1)\n",
    "model.addConstr(Y_reg[\"Blue\", 7] <= 1)\n",
    "# model.addConstr(R_reg[\"Blue1\", 7] == R_reg[\"Blue1\", 7] - 1)\n",
    "\n",
    "model.addConstr(S_reg[\"Blue\", 8, 26] == 1)\n",
    "model.addConstr(T_reg[\"Blue\", 8] >= 1)\n",
    "model.addConstr(Y_reg[\"Blue\", 8] <= 1)\n",
    "# model.addConstr(R_reg[\"Blue1\", 8] == R_reg[\"Blue1\", 8] - 1)\n",
    "\n",
    "model.addConstr(S_reg[\"Blue\", 9, 26] == 1)\n",
    "model.addConstr(T_reg[\"Blue\", 9] >= 1)\n",
    "model.addConstr(Y_reg[\"Blue\", 9] <= 1)\n",
    "# model.addConstr(R_reg[\"Blue1\", 9] == R_reg[\"Blue1\", 9] - 1)\n",
    "\n",
    "model.addConstr(S_reg[\"Blue\", 10, 38] == 1)\n",
    "model.addConstr(T_reg[\"Blue\", 10] >= 1)\n",
    "model.addConstr(Y_reg[\"Blue\", 10] <= 1)\n",
    "# model.addConstr(R_reg[\"Blue1\", 10] == R_reg[\"Blue1\", 10] - 1)\n",
    "\n",
    "model.addConstr(S_reg[\"Blue\", 11, 38] == 1)\n",
    "model.addConstr(T_reg[\"Blue\", 11] >= 1)\n",
    "model.addConstr(Y_reg[\"Blue\", 11] <= 1)\n",
    "# model.addConstr(R_reg[\"Blue1\", 11] == R_reg[\"Blue1\", 11] - 1)\n",
    "\n",
    "model.addConstr(S_reg[\"Blue\", 12, 38] == 1)\n",
    "model.addConstr(T_reg[\"Blue\", 12] >= 1)\n",
    "model.addConstr(Y_reg[\"Blue\", 12] <= 1)\n",
    "# model.addConstr(R_reg[\"Blue1\", 12] == R_reg[\"Blue1\", 12] - 1)\n",
    "\n",
    "model.addConstr(S_reg[\"Red\", 11, 41] == 1)\n",
    "model.addConstr(T_reg[\"Red\", 11] >= 1)\n",
    "model.addConstr(Y_reg[\"Red\", 11] <= 1)\n",
    "# model.addConstr(R_reg[\"Red1\", 11] == R_reg[\"Red1\", 11] - 1)\n",
    "\n",
    "model.addConstr(S_reg[\"Red\", 12, 41] == 1)\n",
    "model.addConstr(T_reg[\"Red\", 12] >= 1)\n",
    "model.addConstr(Y_reg[\"Red\", 12] <= 1)\n",
    "# model.addConstr(R_reg[\"Red1\", 12] == R_reg[\"Red1\", 12] - 1)\n",
    "\n",
    "model.addConstr(S_reg[\"Red\", 13, 41] == 1)\n",
    "model.addConstr(T_reg[\"Red\", 13] >= 1)\n",
    "model.addConstr(Y_reg[\"Red\", 13] <= 1)\n",
    "# model.addConstr(R_reg[\"Red1\", 13] == R_reg[\"Red1\", 13] - 1)\n",
    "\n",
    "for i in [188, 36, 23, 519, 26, 38, 41]:\n",
    "    model.addConstr(X[i] <= 1)"
   ]
  },
  {
   "cell_type": "code",
   "execution_count": 56,
   "id": "792c11dc",
   "metadata": {},
   "outputs": [
    {
     "data": {
      "text/plain": [
       "<gurobi.Constr *Awaiting Model Update*>"
      ]
     },
     "execution_count": 56,
     "metadata": {},
     "output_type": "execute_result"
    }
   ],
   "source": [
    "model.addConstr(R_reg[\"Orange\", 1] >= 1)\n",
    "model.addConstr(Y_reg[\"Orange\", 1] <= 1)\n",
    "\n",
    "model.addConstr(R_reg[\"Orange\", 3] >= 1)\n",
    "model.addConstr(Y_reg[\"Orange\", 3] <= 1)\n",
    "\n",
    "model.addConstr(R_reg[\"Orange\", 4] >= 1)\n",
    "model.addConstr(Y_reg[\"Orange\", 4] <= 1)\n",
    "\n",
    "model.addConstr(R_reg[\"Orange\", 8] >= 1)\n",
    "model.addConstr(Y_reg[\"Orange\", 8] <= 1)\n",
    "\n",
    "model.addConstr(R_reg[\"Blue\", 2] >= 1)\n",
    "model.addConstr(Y_reg[\"Blue\", 2] <= 1)\n",
    "\n",
    "model.addConstr(R_reg[\"Black\", 2] == 2)\n",
    "# model.addConstr(Y_reg[\"Black\", 2] == 0) # already set in the cell above\n",
    "\n",
    "model.addConstr(R_reg[\"Black\", 10] >= 1)\n",
    "model.addConstr(Y_reg[\"Black\", 10] <= 1)\n",
    "\n",
    "model.addConstr(R_reg[\"Black\", 13] >= 1)\n",
    "model.addConstr(Y_reg[\"Black\", 13] <= 1)\n",
    "\n",
    "model.addConstr(R_jok[\"Joker\", \"J\"] >= 1)\n",
    "model.addConstr(Y_jok[\"Joker\", \"J\"] <= 1)"
   ]
  },
  {
   "cell_type": "code",
   "execution_count": null,
   "id": "0a852fe1",
   "metadata": {},
   "outputs": [],
   "source": [
    "def add_user_constraints(model, S_reg, S_jok, T_reg, T_jok, Y_reg, Y_jok, R_reg, R_jok, X):\n",
    "    for set_ in Set:\n",
    "    set_ind = all_sets.index(set_)\n",
    "    for tile in set_:\n",
    "        color = tile[0]\n",
    "        value = tile[1]\n",
    "        if color != \"Joker\":\n",
    "            model.addConstr(S_reg[color, value, set_ind] == 1) # tiles in set\n",
    "            model.addConstr(T_reg[color, value] >= 1) # times of tile on the table\n",
    "            model.addConstr(Y_reg[color, value] <= 1) # times of tile can be placed from rack to table\n",
    "        else:\n",
    "            model.addConstr(S_jok[color, value, set_ind] == 1) # tiles in set\n",
    "            model.addConstr(T_jok[color, value] >= 1) # times of tile on the table\n",
    "            model.addConstr(Y_jok[color, value] <= 1) # times of tile can be placed from rack to table\n",
    "            \n",
    "    for tile in Rack:\n",
    "    count = Counter[tile]\n",
    "    color = tile[0]\n",
    "    value = tile[1]\n",
    "    if count == 1:\n",
    "        if color != \"Joker\":\n",
    "            model.addConstr(R_reg[color, value] >= 1)\n",
    "            model.addConstr(Y_reg[color, value] <= 1)\n",
    "        else:\n",
    "            model.addConstr(R_jok[color, value] >= 1)\n",
    "            model.addConstr(Y_jok[color, value] <= 1)\n",
    "    if count == 2:\n",
    "        if color != \"Joker\":\n",
    "            model.addConstr(R_reg[color, value] == 2)\n",
    "        else:\n",
    "            model.addConstr(R_jok[color, value] == 2)"
   ]
  },
  {
   "cell_type": "markdown",
   "id": "38811f7f",
   "metadata": {},
   "source": [
    "## Optimize"
   ]
  },
  {
   "cell_type": "code",
   "execution_count": 57,
   "id": "bc8bb3ff",
   "metadata": {},
   "outputs": [
    {
     "name": "stdout",
     "output_type": "stream",
     "text": [
      "Gurobi Optimizer version 10.0.3 build v10.0.3rc0 (mac64[x86])\n",
      "\n",
      "CPU model: Intel(R) Core(TM) i9-9880H CPU @ 2.30GHz\n",
      "Thread count: 8 physical cores, 16 logical processors, using up to 16 threads\n",
      "\n",
      "Optimize a model with 341 rows, 63501 columns and 394 nonzeros\n",
      "Model fingerprint: 0x3c3a3b2c\n",
      "Model has 53 quadratic constraints\n",
      "Variable types: 0 continuous, 63501 integer (62169 binary)\n",
      "Coefficient statistics:\n",
      "  Matrix range     [1e+00, 1e+00]\n",
      "  QMatrix range    [1e+00, 1e+00]\n",
      "  QLMatrix range   [1e+00, 1e+00]\n",
      "  Objective range  [1e+00, 3e+01]\n",
      "  Bounds range     [1e+00, 2e+00]\n",
      "  RHS range        [1e+00, 2e+00]\n",
      "\n",
      "Loaded MIP start from previous solve with objective 160\n",
      "\n",
      "Presolve removed 341 rows and 1283 columns\n",
      "Presolve time: 0.56s\n",
      "Presolved: 181948 rows, 122850 columns, 485476 nonzeros\n",
      "Variable types: 0 continuous, 122850 integer (60977 binary)\n",
      "\n",
      "Explored 0 nodes (0 simplex iterations) in 1.04 seconds (0.65 work units)\n",
      "Thread count was 16 (of 16 available processors)\n",
      "\n",
      "Solution count 1: 160 \n",
      "\n",
      "Optimal solution found (tolerance 1.00e-04)\n",
      "Best objective 1.600000000000e+02, best bound 1.600000000000e+02, gap 0.0000%\n"
     ]
    },
    {
     "data": {
      "text/plain": [
       "2"
      ]
     },
     "execution_count": 57,
     "metadata": {},
     "output_type": "execute_result"
    }
   ],
   "source": [
    "model.optimize()\n",
    "model.status"
   ]
  },
  {
   "cell_type": "code",
   "execution_count": null,
   "id": "e9677429",
   "metadata": {},
   "outputs": [],
   "source": [
    "def optimize(model):\n",
    "    model.optimize()\n",
    "    model.status"
   ]
  },
  {
   "cell_type": "code",
   "execution_count": 58,
   "id": "7c074fc9",
   "metadata": {},
   "outputs": [
    {
     "data": {
      "text/plain": [
       "160.0"
      ]
     },
     "execution_count": 58,
     "metadata": {},
     "output_type": "execute_result"
    }
   ],
   "source": [
    "model.ObjVal"
   ]
  },
  {
   "cell_type": "code",
   "execution_count": 59,
   "id": "832fb74a",
   "metadata": {},
   "outputs": [
    {
     "name": "stdout",
     "output_type": "stream",
     "text": [
      "tile Black 1 is in set 189 1.0\n",
      "tile Black 2 is in set 189 1.0\n",
      "tile Black 3 is in set 189 1.0\n",
      "tile Black 4 is in set 189 1.0\n",
      "tile Black 5 is in set 1129 1.0\n",
      "tile Black 5 is in set 1130 1.0\n",
      "tile Black 6 is in set 1129 1.0\n",
      "tile Black 6 is in set 1130 1.0\n",
      "tile Black 7 is in set 1138 1.0\n",
      "tile Black 7 is in set 1139 1.0\n",
      "tile Black 8 is in set 1138 1.0\n",
      "tile Black 8 is in set 1139 1.0\n",
      "tile Black 9 is in set 1147 1.0\n",
      "tile Black 9 is in set 1148 1.0\n",
      "tile Black 10 is in set 37 1.0\n",
      "tile Black 11 is in set 37 1.0\n",
      "tile Black 12 is in set 37 1.0\n",
      "tile Black 13 is in set 1156 1.0\n",
      "tile Black 13 is in set 1157 1.0\n",
      "tile Red 1 is in set 1165 1.0\n",
      "tile Red 2 is in set 1165 1.0\n",
      "tile Red 3 is in set 1126 1.0\n",
      "tile Red 3 is in set 1127 1.0\n",
      "tile Red 4 is in set 1119 1.0\n",
      "tile Red 4 is in set 1120 1.0\n",
      "tile Red 5 is in set 1129 1.0\n",
      "tile Red 5 is in set 1130 1.0\n",
      "tile Red 6 is in set 1129 1.0\n",
      "tile Red 6 is in set 1130 1.0\n",
      "tile Red 7 is in set 1138 1.0\n",
      "tile Red 7 is in set 1139 1.0\n",
      "tile Red 8 is in set 1138 1.0\n",
      "tile Red 8 is in set 1139 1.0\n",
      "tile Red 9 is in set 1147 1.0\n",
      "tile Red 9 is in set 1148 1.0\n",
      "tile Red 10 is in set 1147 1.0\n",
      "tile Red 10 is in set 1148 1.0\n",
      "tile Red 11 is in set 42 1.0\n",
      "tile Red 12 is in set 42 1.0\n",
      "tile Red 13 is in set 42 1.0\n",
      "tile Orange 1 is in set 3 1.0\n",
      "tile Orange 2 is in set 1165 1.0\n",
      "tile Orange 3 is in set 15 1.0\n",
      "tile Orange 4 is in set 15 1.0\n",
      "tile Orange 5 is in set 1129 1.0\n",
      "tile Orange 5 is in set 1130 1.0\n",
      "tile Orange 6 is in set 24 1.0\n",
      "tile Orange 7 is in set 24 1.0\n",
      "tile Orange 8 is in set 24 1.0\n",
      "tile Orange 9 is in set 520 1.0\n",
      "tile Orange 10 is in set 520 1.0\n",
      "tile Orange 11 is in set 520 1.0\n",
      "tile Orange 12 is in set 520 1.0\n",
      "tile Orange 13 is in set 520 1.0\n",
      "tile Blue 1 is in set 1165 1.0\n",
      "tile Blue 2 is in set 3 1.0\n",
      "tile Blue 3 is in set 26 1.0\n",
      "tile Blue 3 is in set 28 1.0\n",
      "tile Blue 4 is in set 41 1.0\n",
      "tile Blue 4 is in set 43 1.0\n",
      "tile Blue 5 is in set 1129 1.0\n",
      "tile Blue 5 is in set 1130 1.0\n",
      "tile Blue 6 is in set 1129 1.0\n",
      "tile Blue 6 is in set 1130 1.0\n",
      "tile Blue 7 is in set 27 1.0\n",
      "tile Blue 8 is in set 27 1.0\n",
      "tile Blue 9 is in set 1 1.0\n",
      "tile Blue 9 is in set 27 1.0\n",
      "tile Blue 10 is in set 39 1.0\n",
      "tile Blue 11 is in set 39 1.0\n",
      "tile Blue 12 is in set 39 1.0\n",
      "tile Blue 13 is in set 1167 1.0\n",
      "times of tile Black 1 on the table 1.0\n",
      "times of tile Black 2 on the table 1.0\n",
      "times of tile Black 3 on the table 1.0\n",
      "times of tile Black 4 on the table 1.0\n",
      "times of tile Black 10 on the table 1.0\n",
      "times of tile Black 11 on the table 1.0\n",
      "times of tile Black 12 on the table 1.0\n",
      "times of tile Black 13 on the table 1.0\n",
      "times of tile Red 11 on the table 1.0\n",
      "times of tile Red 12 on the table 1.0\n",
      "times of tile Red 13 on the table 1.0\n",
      "times of tile Orange 6 on the table 1.0\n",
      "times of tile Orange 7 on the table 1.0\n",
      "times of tile Orange 8 on the table 1.0\n",
      "times of tile Orange 9 on the table 1.0\n",
      "times of tile Orange 10 on the table 1.0\n",
      "times of tile Orange 11 on the table 1.0\n",
      "times of tile Orange 12 on the table 1.0\n",
      "times of tile Orange 13 on the table 1.0\n",
      "times of tile Blue 7 on the table 1.0\n",
      "times of tile Blue 8 on the table 1.0\n",
      "times of tile Blue 9 on the table 1.0\n",
      "times of tile Blue 10 on the table 1.0\n",
      "times of tile Blue 11 on the table 1.0\n",
      "times of tile Blue 12 on the table 1.0\n",
      "times of tile Black 1 on your rack 2.0\n",
      "times of tile Black 2 on your rack 2.0\n",
      "times of tile Black 3 on your rack 2.0\n",
      "times of tile Black 4 on your rack 2.0\n",
      "times of tile Black 5 on your rack 2.0\n",
      "times of tile Black 6 on your rack 2.0\n",
      "times of tile Black 7 on your rack 2.0\n",
      "times of tile Black 8 on your rack 2.0\n",
      "times of tile Black 9 on your rack 2.0\n",
      "times of tile Black 10 on your rack 2.0\n",
      "times of tile Black 11 on your rack 2.0\n",
      "times of tile Black 12 on your rack 2.0\n",
      "times of tile Black 13 on your rack 2.0\n",
      "times of tile Red 1 on your rack 2.0\n",
      "times of tile Red 2 on your rack 2.0\n",
      "times of tile Red 3 on your rack 2.0\n",
      "times of tile Red 4 on your rack 2.0\n",
      "times of tile Red 5 on your rack 2.0\n",
      "times of tile Red 6 on your rack 2.0\n",
      "times of tile Red 7 on your rack 2.0\n",
      "times of tile Red 8 on your rack 2.0\n",
      "times of tile Red 9 on your rack 2.0\n",
      "times of tile Red 10 on your rack 2.0\n",
      "times of tile Red 11 on your rack 2.0\n",
      "times of tile Red 12 on your rack 2.0\n",
      "times of tile Red 13 on your rack 2.0\n",
      "times of tile Orange 1 on your rack 2.0\n",
      "times of tile Orange 2 on your rack 2.0\n",
      "times of tile Orange 3 on your rack 2.0\n",
      "times of tile Orange 4 on your rack 2.0\n",
      "times of tile Orange 5 on your rack 2.0\n",
      "times of tile Orange 6 on your rack 2.0\n",
      "times of tile Orange 7 on your rack 2.0\n",
      "times of tile Orange 8 on your rack 2.0\n",
      "times of tile Orange 9 on your rack 2.0\n",
      "times of tile Orange 10 on your rack 2.0\n",
      "times of tile Orange 11 on your rack 2.0\n",
      "times of tile Orange 12 on your rack 2.0\n",
      "times of tile Orange 13 on your rack 2.0\n",
      "times of tile Blue 1 on your rack 2.0\n",
      "times of tile Blue 2 on your rack 2.0\n",
      "times of tile Blue 3 on your rack 2.0\n",
      "times of tile Blue 4 on your rack 2.0\n",
      "times of tile Blue 5 on your rack 2.0\n",
      "times of tile Blue 6 on your rack 2.0\n",
      "times of tile Blue 7 on your rack 2.0\n",
      "times of tile Blue 8 on your rack 2.0\n",
      "times of tile Blue 9 on your rack 2.0\n",
      "times of tile Blue 10 on your rack 2.0\n",
      "times of tile Blue 11 on your rack 2.0\n",
      "times of tile Blue 12 on your rack 2.0\n",
      "times of tile Blue 13 on your rack 2.0\n",
      "times of tile JokerJon your rack[Joker,J] 2.0\n",
      "times of tile Black 5 can be placed from your rack onto the table 2.0\n",
      "times of tile Black 6 can be placed from your rack onto the table 2.0\n",
      "times of tile Black 7 can be placed from your rack onto the table 2.0\n",
      "times of tile Black 8 can be placed from your rack onto the table 2.0\n",
      "times of tile Black 9 can be placed from your rack onto the table 2.0\n",
      "times of tile Black 13 can be placed from your rack onto the table 1.0\n",
      "times of tile Red 1 can be placed from your rack onto the table 2.0\n",
      "times of tile Red 2 can be placed from your rack onto the table 2.0\n",
      "times of tile Red 3 can be placed from your rack onto the table 2.0\n",
      "times of tile Red 4 can be placed from your rack onto the table 2.0\n",
      "times of tile Red 5 can be placed from your rack onto the table 2.0\n",
      "times of tile Red 6 can be placed from your rack onto the table 2.0\n",
      "times of tile Red 7 can be placed from your rack onto the table 2.0\n",
      "times of tile Red 8 can be placed from your rack onto the table 2.0\n",
      "times of tile Red 9 can be placed from your rack onto the table 2.0\n",
      "times of tile Red 10 can be placed from your rack onto the table 2.0\n",
      "times of tile Orange 1 can be placed from your rack onto the table 1.0\n",
      "times of tile Orange 2 can be placed from your rack onto the table 2.0\n",
      "times of tile Orange 3 can be placed from your rack onto the table 1.0\n",
      "times of tile Orange 4 can be placed from your rack onto the table 1.0\n",
      "times of tile Orange 5 can be placed from your rack onto the table 2.0\n",
      "times of tile Blue 1 can be placed from your rack onto the table 2.0\n",
      "times of tile Blue 2 can be placed from your rack onto the table 1.0\n",
      "times of tile Blue 3 can be placed from your rack onto the table 2.0\n",
      "times of tile Blue 4 can be placed from your rack onto the table 2.0\n",
      "times of tile Blue 5 can be placed from your rack onto the table 2.0\n",
      "times of tile Blue 6 can be placed from your rack onto the table 2.0\n",
      "times of tile Blue 9 can be placed from your rack onto the table 1.0\n",
      "times of tile Blue 13 can be placed from your rack onto the table 2.0\n",
      "times of set [('Black', 1), ('Black', 2), ('Black', 3)] can be placed onto the table 1.0\n",
      "times of set [('Blue', 1), ('Blue', 2), ('Blue', 3)] can be placed onto the table 1.0\n",
      "times of set [('Blue', 4), ('Blue', 5), ('Blue', 6)] can be placed onto the table 1.0\n",
      "times of set [('Orange', 6), ('Orange', 7), ('Orange', 8)] can be placed onto the table 1.0\n",
      "times of set [('Red', 7), ('Red', 8), ('Red', 9)] can be placed onto the table 2.0\n",
      "times of set [('Blue', 7), ('Blue', 8), ('Blue', 9)] can be placed onto the table 1.0\n",
      "times of set [('Black', 10), ('Black', 11), ('Black', 12)] can be placed onto the table 1.0\n",
      "times of set [('Blue', 10), ('Blue', 11), ('Blue', 12)] can be placed onto the table 1.0\n",
      "times of set [('Black', 11), ('Black', 12), ('Black', 13)] can be placed onto the table 2.0\n",
      "times of set [('Red', 11), ('Red', 12), ('Red', 13)] can be placed onto the table 1.0\n",
      "times of set [('Black', 1), ('Black', 2), ('Black', 3), ('Black', 4)] can be placed onto the table 1.0\n",
      "times of set [('Orange', 9), ('Orange', 10), ('Orange', 11), ('Orange', 12), ('Orange', 13)] can be placed onto the table 1.0\n",
      "times of set [('Blue', 4), ('Orange', 4), 'Joker', 'Joker'] can be placed onto the table 2.0\n",
      "times of set [('Black', 6), ('Red', 6), 'Joker', 'Joker'] can be placed onto the table 2.0\n",
      "times of set [('Red', 6), ('Orange', 6), 'Joker', 'Joker'] can be placed onto the table 2.0\n",
      "times of set [('Black', 8), ('Blue', 8), 'Joker', 'Joker'] can be placed onto the table 2.0\n",
      "times of set [('Red', 9), ('Blue', 9), 'Joker', 'Joker'] can be placed onto the table 2.0\n",
      "times of set [('Black', 11), ('Blue', 11), 'Joker', 'Joker'] can be placed onto the table 2.0\n",
      "times of set [('Red', 12), ('Blue', 12), 'Joker', 'Joker'] can be placed onto the table 2.0\n",
      "times of set [('Blue', 12), ('Orange', 12), 'Joker', 'Joker'] can be placed onto the table 2.0\n"
     ]
    }
   ],
   "source": [
    "for v in model.getVars():\n",
    "    if v.x != 0:\n",
    "        print (v.varName, v.x)"
   ]
  },
  {
   "cell_type": "code",
   "execution_count": 50,
   "id": "74821de5",
   "metadata": {},
   "outputs": [
    {
     "data": {
      "text/plain": [
       "197"
      ]
     },
     "execution_count": 50,
     "metadata": {},
     "output_type": "execute_result"
    }
   ],
   "source": [
    "all_sets.index([('Black',10), ('Black',11), ('Black',12), ('Black',13)])"
   ]
  },
  {
   "cell_type": "code",
   "execution_count": 52,
   "id": "c7c42897",
   "metadata": {},
   "outputs": [
    {
     "data": {
      "text/plain": [
       "0.0"
      ]
     },
     "execution_count": 52,
     "metadata": {},
     "output_type": "execute_result"
    }
   ],
   "source": [
    "S_reg['Black', 13, 198].x"
   ]
  },
  {
   "cell_type": "code",
   "execution_count": 61,
   "id": "7dc4022c",
   "metadata": {},
   "outputs": [
    {
     "data": {
      "text/plain": [
       "[('Black', 11), ('Blue', 11), 'Joker', 'Joker']"
      ]
     },
     "execution_count": 61,
     "metadata": {},
     "output_type": "execute_result"
    }
   ],
   "source": [
    "all_sets[1156]"
   ]
  },
  {
   "cell_type": "markdown",
   "id": "1a1043fb",
   "metadata": {},
   "source": [
    "## Game time !"
   ]
  },
  {
   "cell_type": "code",
   "execution_count": null,
   "id": "7d493015",
   "metadata": {},
   "outputs": [],
   "source": [
    "Deck = {\"Black\": [\"1\", \"1\", \"2\", \"2\", \"3\", \"3\", \"4\", \"4\", \"5\", \"5\", \"6\", \"6\", \n",
    "                  \"7\", \"7\", \"8\", \"8\", \"9\", \"9\", \"10\", \"10\", \"11\", \"11\", \"12\", \"12\", \"13\", \"13\"], \n",
    "        \"Red\": [\"1\", \"1\", \"2\", \"2\", \"3\", \"3\", \"4\", \"4\", \"5\", \"5\", \"6\", \"6\", \n",
    "                  \"7\", \"7\", \"8\", \"8\", \"9\", \"9\", \"10\", \"10\", \"11\", \"11\", \"12\", \"12\", \"13\", \"13\"], \n",
    "        \"Blue\": [\"1\", \"1\", \"2\", \"2\", \"3\", \"3\", \"4\", \"4\", \"5\", \"5\", \"6\", \"6\", \n",
    "                  \"7\", \"7\", \"8\", \"8\", \"9\", \"9\", \"10\", \"10\", \"11\", \"11\", \"12\", \"12\", \"13\", \"13\"], \n",
    "        \"Orange\": [\"1\", \"1\", \"2\", \"2\", \"3\", \"3\", \"4\", \"4\", \"5\", \"5\", \"6\", \"6\", \n",
    "                  \"7\", \"7\", \"8\", \"8\", \"9\", \"9\", \"10\", \"10\", \"11\", \"11\", \"12\", \"12\", \"13\", \"13\"], \n",
    "        \"Joker\": [\"J1\", \"J2\"]}"
   ]
  },
  {
   "cell_type": "code",
   "execution_count": null,
   "id": "f64f21f0",
   "metadata": {},
   "outputs": [],
   "source": [
    "Penalty = {\"1\": 1, \"2\":2, \"3\":3, \"4\":4, \"5\":5, \"6\":6, \"7\":7, \"8\":8, \"9\": 9, \"10\":10, \"11\":11, \"12\":12, \n",
    "           \"13\":13, \"Joker\": 30}"
   ]
  },
  {
   "cell_type": "code",
   "execution_count": null,
   "id": "bb2214cd",
   "metadata": {},
   "outputs": [],
   "source": [
    "Value = [1, 1, 2, 2, 3, 3, 4, 4, 5, 5, 6, 6, 7, 7, 8, 8, 9, 9, 10, 10, 11, 11, 12, 12, 13, 13]\n",
    "Value_matrix = Value * 4"
   ]
  },
  {
   "cell_type": "code",
   "execution_count": null,
   "id": "a3f4e917",
   "metadata": {},
   "outputs": [],
   "source": [
    "# Deck_types = [\"Black1\", \"Black2\", \"Red1\", \"Red2\", \"Blue1\", \"Blue2\", \"Orange1\", \"Orange2\"]\n",
    "# Joker_values = [\"J1\", \"J2\"]\n",
    "Deck_types = [\"Black\", \"Red\", \"Orange\", \"Blue\"]\n",
    "Deck_values = [1, 2, 3, 4, 5, 6, 7, 8, 9, 10, 11, 12, 13]\n",
    "Joker = [\"Joker\"]\n",
    "Joker_values = [\"J\"]"
   ]
  },
  {
   "cell_type": "code",
   "execution_count": null,
   "id": "92fa0b5f",
   "metadata": {},
   "outputs": [],
   "source": [
    "# I = len(Value_matrix)\n",
    "J = 1173"
   ]
  },
  {
   "cell_type": "code",
   "execution_count": 28,
   "id": "cea0fecf",
   "metadata": {},
   "outputs": [],
   "source": [
    "Rack = [(\"Orange\", 1), (\"Orange\", 3), (\"Orange\", 4), (\"Orange\", 8), \n",
    "        (\"Blue\", 2), (\"Black\", 2), (\"Black\", 10), (\"Black\", 13), (\"Joker\", \"J\")]\n",
    "\n",
    "Set = [[(\"Black\", 1), (\"Black\", 2), (\"Black\", 3), (\"Black\", 4)], \n",
    "       [(\"Black\", 10), (\"Black\", 11), (\"Black\", 12)],\n",
    "       [(\"Orange\", 6), (\"Orange\", 7), (\"Orange\", 8)], \n",
    "       [(\"Orange\", 9), (\"Orange\", 10), (\"Orange\", 11), (\"Orange\", 12), (\"Orange\", 13)], \n",
    "       [(\"Blue\", 7), (\"Blue\", 8), (\"Blue\", 9)], \n",
    "       [(\"Blue\", 10), (\"Blue\", 11), (\"Blue\", 12)], \n",
    "       [(\"Red\", 11), (\"Red\", 12), (\"Red\", 13)]]\n",
    "\n",
    "Table = [card for set_ in Set for card in set_]"
   ]
  },
  {
   "cell_type": "code",
   "execution_count": 42,
   "id": "f6a8f009",
   "metadata": {},
   "outputs": [],
   "source": [
    "Counter = {}\n",
    "for tile in Rack:\n",
    "    if tile not in Counter.keys():\n",
    "        Counter[tile] = 1\n",
    "    else:\n",
    "        Counter[tile] += 1\n",
    "\n",
    "for tile in Table:\n",
    "    if tile not in Counter.keys():\n",
    "        Counter[tile] = 1\n",
    "    else:\n",
    "        Counter[tile] += 1"
   ]
  },
  {
   "cell_type": "code",
   "execution_count": null,
   "id": "20c6352e",
   "metadata": {},
   "outputs": [],
   "source": [
    "def add_decision_variables(model):\n",
    "    S_reg = model.addVars(Deck_types, Deck_values, J, vtype = GRB.BINARY, \n",
    "                  name = [\"tile \"+ dt + \" \" + str(dv) + \" is in set \" + str(j+1) \n",
    "                          for dt in Deck_types for dv in Deck_values for j in range(J)])\n",
    "    S_jok = model.addVars(Joker, Joker_values, J, vtype = GRB.BINARY, \n",
    "                      name = [\"tile Joker \" + dv + \" is in set \" + str(j+1) \n",
    "                              for dt in Joker for dv in Joker_values for j in range(J)])\n",
    "    \n",
    "    T_reg = model.addVars(Deck_types, Deck_values, lb = 0, ub = 2, vtype = GRB.INTEGER, \n",
    "                  name = [\"times of tile \" + dt + \" \" + str(dv) + \" on the table\" for dt in Deck_types for dv in Deck_values])\n",
    "    T_jok = model.addVars(Joker, Joker_values, lb = 0, ub = 2, vtype = GRB.INTEGER, \n",
    "                  name = [\"times of tile Joker \" + dv + \"on the table\" for dt in Joker for dv in Joker_values])\n",
    "    \n",
    "    R_reg = model.addVars(Deck_types, Deck_values, lb = 0, ub = 2, vtype = GRB.INTEGER, \n",
    "                   name = [\"times of tile \" + dt + \" \" + str(dv) +\" on your rack\" for dt in Deck_types for dv in Deck_values])\n",
    "    R_jok = model.addVars(Joker, Joker_values, lb = 0, ub = 2, vtype = GRB.INTEGER, \n",
    "                  name = [\"times of tile Joker\" + dv +\"on your rack\" for dt in Joker for dv in Joker_values])\n",
    "    \n",
    "    Y_reg = model.addVars(Deck_types, Deck_values, lb = 0, ub = 2, vtype = GRB.INTEGER, \n",
    "                  name = [\"times of tile \"+ dt + \" \" + str(dv) +\" can be placed from your rack onto the table\" \n",
    "                          for dt in Deck_types for dv in Deck_values])\n",
    "    Y_jok = model.addVars(Joker, Joker_values, lb = 0, ub = 2, vtype = GRB.INTEGER, \n",
    "                  name = [\"times of tile Joker \" + dv +\" can be placed from your rack onto the table\" \n",
    "                          for dv in Joker_values])\n",
    "    \n",
    "    X = model.addVars(J, lb = 0, ub = 2, vtype = GRB.INTEGER, \n",
    "                  name = [\"times of set \"+str(all_sets[j])+\" can be placed onto the table\" for j in range(J)])\n",
    "    \n",
    "    return S_reg, S_jok, T_reg, T_jok, R_reg, R_jok, Y_reg, Y_jok, X"
   ]
  },
  {
   "cell_type": "code",
   "execution_count": null,
   "id": "69d7652c",
   "metadata": {},
   "outputs": [],
   "source": [
    "def set_objective(model, Value, Y_reg, Y_jok):\n",
    "    exp1 = quicksum(Value[value-1] * Y_reg[types, value] for types in Deck_types for value in Deck_values)\n",
    "    exp2 = quicksum(Y_jok) * 30\n",
    "    model.setObjective(exp1 + exp2, GRB.MAXIMIZE)"
   ]
  },
  {
   "cell_type": "code",
   "execution_count": null,
   "id": "ad3c3a51",
   "metadata": {},
   "outputs": [],
   "source": [
    "def add_default_constraints(model, S_reg, S_jok, T_reg, T_jok, Y_reg, Y_jok, R_reg, R_jok, X):\n",
    "    # how many times a tile is on the table\n",
    "    model.addConstrs(quicksum(S_reg[types, value, j] * X[j] for j in range(J)) == T_reg[types, value] + Y_reg[types, value] \n",
    "                 for types in Deck_types for value in Deck_values)\n",
    "    model.addConstr(quicksum(quicksum(S_jok) * X[j] for j in range(J)) == quicksum(T_jok) + quicksum(Y_jok))\n",
    "    #model.addConstrs(quicksum(S[i, j]*X[j] for j in range(J)) == T[i] + Y[i] for i in range(I))\n",
    "    model.update()\n",
    "    \n",
    "    # number of times on the rack <= number of times moved from rack to table\n",
    "    model.addConstrs(Y_reg[dt, dv] <= R_reg[dt, dv] for dt in Deck_types for dv in Deck_values)\n",
    "    model.addConstrs(Y_jok[\"Joker\", dv] <= R_jok[\"Joker\", dv] for dv in Joker_values)"
   ]
  },
  {
   "cell_type": "code",
   "execution_count": null,
   "id": "8fa4c32c",
   "metadata": {},
   "outputs": [],
   "source": [
    "def add_user_constraints(model, S_reg, S_jok, T_reg, T_jok, Y_reg, Y_jok, R_reg, R_jok, X):\n",
    "    for set_ in Set:\n",
    "    set_ind = all_sets.index(set_)\n",
    "    for tile in set_:\n",
    "        color = tile[0]\n",
    "        value = tile[1]\n",
    "        if color != \"Joker\":\n",
    "            model.addConstr(S_reg[color, value, set_ind] == 1) # tiles in set\n",
    "            model.addConstr(T_reg[color, value] >= 1) # times of tile on the table\n",
    "            model.addConstr(Y_reg[color, value] <= 1) # times of tile can be placed from rack to table\n",
    "        else:\n",
    "            model.addConstr(S_jok[color, value, set_ind] == 1) # tiles in set\n",
    "            model.addConstr(T_jok[color, value] >= 1) # times of tile on the table\n",
    "            model.addConstr(Y_jok[color, value] <= 1) # times of tile can be placed from rack to table\n",
    "            \n",
    "    for tile in Rack:\n",
    "    count = Counter[tile]\n",
    "    color = tile[0]\n",
    "    value = tile[1]\n",
    "    if count == 1:\n",
    "        if color != \"Joker\":\n",
    "            model.addConstr(R_reg[color, value] >= 1)\n",
    "            model.addConstr(Y_reg[color, value] <= 1)\n",
    "        else:\n",
    "            model.addConstr(R_jok[color, value] >= 1)\n",
    "            model.addConstr(Y_jok[color, value] <= 1)\n",
    "    if count == 2:\n",
    "        if color != \"Joker\":\n",
    "            model.addConstr(R_reg[color, value] == 2)\n",
    "        else:\n",
    "            model.addConstr(R_jok[color, value] == 2)"
   ]
  },
  {
   "cell_type": "code",
   "execution_count": null,
   "id": "376b8301",
   "metadata": {},
   "outputs": [],
   "source": [
    "#def Rummikub_solver():\n",
    "model = gb.Model(\"Rummikub\")\n",
    "S_reg, S_jok, T_reg, T_jok, R_reg, R_jok, Y_reg, Y_jok, X = add_decision_variables(model)\n",
    "set_objective(model, Value, Y_reg, Y_jok)\n",
    "add_default_constraints(model, S_reg, S_jok, T_reg, T_jok, Y_reg, Y_jok, R_reg, R_jok, X)\n",
    "add_user_constraints(model, S_reg, S_jok, T_reg, T_jok, Y_reg, Y_jok, R_reg, R_jok, X)\n",
    "    \n",
    "model.optimize()\n",
    "model.status"
   ]
  },
  {
   "cell_type": "code",
   "execution_count": null,
   "id": "17592e92",
   "metadata": {},
   "outputs": [],
   "source": []
  }
 ],
 "metadata": {
  "kernelspec": {
   "display_name": "Python 3 (ipykernel)",
   "language": "python",
   "name": "python3"
  },
  "language_info": {
   "codemirror_mode": {
    "name": "ipython",
    "version": 3
   },
   "file_extension": ".py",
   "mimetype": "text/x-python",
   "name": "python",
   "nbconvert_exporter": "python",
   "pygments_lexer": "ipython3",
   "version": "3.11.5"
  }
 },
 "nbformat": 4,
 "nbformat_minor": 5
}
